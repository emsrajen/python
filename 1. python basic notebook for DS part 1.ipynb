{
 "cells": [
  {
   "cell_type": "markdown",
   "id": "541fb5f3",
   "metadata": {},
   "source": [
    "# PYTHON NOTE :"
   ]
  },
  {
   "cell_type": "markdown",
   "id": "7872f443",
   "metadata": {},
   "source": [
    "# part 1 : python Basics"
   ]
  },
  {
   "cell_type": "raw",
   "id": "b277cf7b",
   "metadata": {},
   "source": [
    " write information above documentaion:"
   ]
  },
  {
   "cell_type": "markdown",
   "id": "d4add3c4",
   "metadata": {},
   "source": [
    "## comments in python:"
   ]
  },
  {
   "cell_type": "raw",
   "id": "c6110485",
   "metadata": {},
   "source": [
    "# comments in python:\n",
    "1. multiple line:\n",
    "type 1: \n",
    "   \"\"\" comment code\n",
    "   in multiple lines\"\"\"\n",
    " type 2:\n",
    "   ''' comment code\n",
    "    in multiple lines'''\n",
    "-----------------------------------------\n",
    "single line comment :\n",
    "\n",
    "# comment code"
   ]
  },
  {
   "cell_type": "code",
   "execution_count": 1,
   "id": "a14cb3a6",
   "metadata": {},
   "outputs": [
    {
     "data": {
      "text/plain": [
       "' source : youtube and w3school\\nwritten : Rajendra R'"
      ]
     },
     "execution_count": 1,
     "metadata": {},
     "output_type": "execute_result"
    }
   ],
   "source": [
    "''' source : youtube and w3school\n",
    "written : Rajendra R'''\n",
    "# we can write title and more information like this"
   ]
  },
  {
   "cell_type": "markdown",
   "id": "7221bcfd",
   "metadata": {},
   "source": [
    "# basic module:\n",
    "module are 2 type external(added to another source) and build-in or internal(already exist)"
   ]
  },
  {
   "cell_type": "raw",
   "id": "eca8d170",
   "metadata": {},
   "source": [
    "# basic module (external)\n",
    "# using -> pip install <module name>"
   ]
  },
  {
   "cell_type": "raw",
   "id": "3ab8e161",
   "metadata": {},
   "source": [
    "external module:"
   ]
  },
  {
   "cell_type": "code",
   "execution_count": 2,
   "id": "6b5cd0f1",
   "metadata": {},
   "outputs": [
    {
     "name": "stdout",
     "output_type": "stream",
     "text": [
      "Requirement already satisfied: playsound in c:\\users\\rajen\\anaconda3\\lib\\site-packages (1.3.0)\n",
      "Note: you may need to restart the kernel to use updated packages.\n"
     ]
    }
   ],
   "source": [
    "pip install playsound"
   ]
  },
  {
   "cell_type": "code",
   "execution_count": 3,
   "id": "e6f76165",
   "metadata": {},
   "outputs": [],
   "source": [
    "from playsound import playsound\n",
    "playsound('E:\\\\PROJECT_MEDIA\\\\Aathma Rama Ananda Ramana - Brodha V - No English Only Hindi Version - Spirituality - ॐ_2.mp3')\n",
    "\n",
    "# always exchange '\\' and '/' to '\\\\' in path to execute the command coz single slash denoted to black_space character"
   ]
  },
  {
   "cell_type": "code",
   "execution_count": 4,
   "id": "85524709",
   "metadata": {},
   "outputs": [],
   "source": [
    "# internal/build-in module  >>>pip install os"
   ]
  },
  {
   "cell_type": "code",
   "execution_count": 5,
   "id": "946e41c3",
   "metadata": {},
   "outputs": [
    {
     "name": "stdout",
     "output_type": "stream",
     "text": [
      "Note: you may need to restart the kernel to use updated packages.\n"
     ]
    },
    {
     "name": "stderr",
     "output_type": "stream",
     "text": [
      "ERROR: Could not find a version that satisfies the requirement os (from versions: none)\n",
      "ERROR: No matching distribution found for os\n"
     ]
    }
   ],
   "source": [
    "pip install os"
   ]
  },
  {
   "cell_type": "code",
   "execution_count": 6,
   "id": "576280f1",
   "metadata": {},
   "outputs": [
    {
     "name": "stdout",
     "output_type": "stream",
     "text": [
      "<built-in function listdir>\n"
     ]
    }
   ],
   "source": [
    "import os\n",
    "print(os.listdir)"
   ]
  },
  {
   "cell_type": "markdown",
   "id": "bc37336a",
   "metadata": {},
   "source": [
    "# PRINT() FUNCTION :"
   ]
  },
  {
   "cell_type": "code",
   "execution_count": 7,
   "id": "ac5c5876",
   "metadata": {},
   "outputs": [
    {
     "name": "stdout",
     "output_type": "stream",
     "text": [
      "hello world\n"
     ]
    }
   ],
   "source": [
    "print(\"hello world\")"
   ]
  },
  {
   "cell_type": "code",
   "execution_count": 8,
   "id": "434b2502",
   "metadata": {},
   "outputs": [
    {
     "name": "stdout",
     "output_type": "stream",
     "text": [
      "5\n"
     ]
    }
   ],
   "source": [
    "print(2+3)"
   ]
  },
  {
   "cell_type": "code",
   "execution_count": 9,
   "id": "e6dd9986",
   "metadata": {},
   "outputs": [
    {
     "name": "stdout",
     "output_type": "stream",
     "text": [
      "sum =  8\n"
     ]
    }
   ],
   "source": [
    "a = 5\n",
    "b = 3\n",
    "c = a + b\n",
    "\n",
    "print(\"sum = \",c)"
   ]
  },
  {
   "cell_type": "code",
   "execution_count": 10,
   "id": "b5987126",
   "metadata": {},
   "outputs": [
    {
     "name": "stdout",
     "output_type": "stream",
     "text": [
      "sum of  5  and  3  is  8\n"
     ]
    }
   ],
   "source": [
    "a = 5\n",
    "b = 3\n",
    "c = a + b\n",
    "\n",
    "print(\"sum of \",a,\" and \",b,\" is \",c)   # default way"
   ]
  },
  {
   "cell_type": "code",
   "execution_count": 11,
   "id": "8f67743b",
   "metadata": {},
   "outputs": [
    {
     "name": "stdout",
     "output_type": "stream",
     "text": [
      "sum of 5 and 3 is 8\n"
     ]
    }
   ],
   "source": [
    "a = 5\n",
    "b = 3\n",
    "c = a + b\n",
    "\n",
    "print(f\"sum of {a} and {b} is {c}\")    # by using f-string"
   ]
  },
  {
   "cell_type": "code",
   "execution_count": 12,
   "id": "3e73f7dc",
   "metadata": {},
   "outputs": [
    {
     "name": "stdout",
     "output_type": "stream",
     "text": [
      "my name is john, and I am 34\n"
     ]
    }
   ],
   "source": [
    "age = '34'\n",
    "msg = 'my name is john, and I am ' + age\n",
    "\n",
    "print(msg)"
   ]
  },
  {
   "cell_type": "code",
   "execution_count": 13,
   "id": "d03c83a7",
   "metadata": {},
   "outputs": [
    {
     "name": "stdout",
     "output_type": "stream",
     "text": [
      "ram and syam are good friends.\n"
     ]
    }
   ],
   "source": [
    "n1 = 'ram'\n",
    "n2 = 'syam'\n",
    "txt = \"{} and {} are good friends.\"\n",
    "\n",
    "print(txt.format(n1,n2))"
   ]
  },
  {
   "cell_type": "code",
   "execution_count": 14,
   "id": "ec74ac30",
   "metadata": {},
   "outputs": [
    {
     "name": "stdout",
     "output_type": "stream",
     "text": [
      "my favorite place taj-mahal, and i'm ram with 25 years old.\n"
     ]
    }
   ],
   "source": [
    "name = 'ram'\n",
    "age = 25\n",
    "place = 'taj-mahal'\n",
    "\n",
    "print(\"my favorite place {2}, and i'm {0} with {1} years old.\".format(name,age,place))"
   ]
  },
  {
   "cell_type": "code",
   "execution_count": 15,
   "id": "50114c25",
   "metadata": {},
   "outputs": [
    {
     "name": "stdout",
     "output_type": "stream",
     "text": [
      "sum of 5.000000 and 3.000000 is 8\n"
     ]
    }
   ],
   "source": [
    "a = 5\n",
    "b = 3\n",
    "c = a + b\n",
    "sum = 'sum of %f and %f is'%(a,b)\n",
    "print(sum,c)"
   ]
  },
  {
   "cell_type": "code",
   "execution_count": 16,
   "id": "c277d09c",
   "metadata": {},
   "outputs": [
    {
     "name": "stdout",
     "output_type": "stream",
     "text": [
      "I am ram\n"
     ]
    }
   ],
   "source": [
    "x = 'I'\n",
    "y = 'am'\n",
    "z = 'ram'\n",
    "print(x,y,z)"
   ]
  },
  {
   "cell_type": "code",
   "execution_count": 17,
   "id": "d1e90ca1",
   "metadata": {},
   "outputs": [
    {
     "name": "stdout",
     "output_type": "stream",
     "text": [
      "Iamram\n"
     ]
    }
   ],
   "source": [
    "x = 'I'\n",
    "y = 'am'\n",
    "z = 'ram'\n",
    "print(x + y + z)"
   ]
  },
  {
   "cell_type": "markdown",
   "id": "254f96c0",
   "metadata": {},
   "source": [
    "# Global Variable:\n",
    "we'll study about it in Oop concept."
   ]
  },
  {
   "cell_type": "markdown",
   "id": "8a0ca157",
   "metadata": {},
   "source": [
    "# DATA TYPES:"
   ]
  },
  {
   "cell_type": "raw",
   "id": "d0ca0a0e",
   "metadata": {},
   "source": [
    "integer :"
   ]
  },
  {
   "cell_type": "code",
   "execution_count": 18,
   "id": "ae15f17f",
   "metadata": {},
   "outputs": [
    {
     "name": "stdout",
     "output_type": "stream",
     "text": [
      "a =  10\n",
      "data type of a =  <class 'int'>\n",
      "b =  -5\n",
      "data type of b =  <class 'int'>\n"
     ]
    }
   ],
   "source": [
    "a = 10       #integer\n",
    "b = -5\n",
    "\n",
    "print(\"a = \",a)\n",
    "print(\"data type of a = \",type(a))\n",
    "\n",
    "print(\"b = \",b)\n",
    "print(\"data type of b = \",type(b))"
   ]
  },
  {
   "cell_type": "raw",
   "id": "410033d8",
   "metadata": {},
   "source": [
    "float :"
   ]
  },
  {
   "cell_type": "code",
   "execution_count": 19,
   "id": "0fe4bdb3",
   "metadata": {},
   "outputs": [
    {
     "name": "stdout",
     "output_type": "stream",
     "text": [
      "a =  10.6\n",
      "data type of a =  <class 'float'>\n",
      "b =  -5.13\n",
      "data type of b =  <class 'float'>\n"
     ]
    }
   ],
   "source": [
    "a = 10.6       #float\n",
    "b = -5.13\n",
    "\n",
    "print(\"a = \",a)\n",
    "print(\"data type of a = \",type(a))\n",
    "\n",
    "print(\"b = \",b)\n",
    "print(\"data type of b = \",type(b))"
   ]
  },
  {
   "cell_type": "raw",
   "id": "6cd7801a",
   "metadata": {},
   "source": [
    "complex :"
   ]
  },
  {
   "cell_type": "code",
   "execution_count": 20,
   "id": "1e3cbed9",
   "metadata": {},
   "outputs": [
    {
     "name": "stdout",
     "output_type": "stream",
     "text": [
      "(3+4j)\n",
      "<class 'complex'>\n",
      "5j\n",
      "<class 'complex'>\n"
     ]
    }
   ],
   "source": [
    "a = 3 + 4j  #  complex number\n",
    "print(a)\n",
    "print(type(a))\n",
    "b = 5j\n",
    "print(b)\n",
    "print(type(b))"
   ]
  },
  {
   "cell_type": "raw",
   "id": "2d521321",
   "metadata": {},
   "source": [
    "operation on complex :"
   ]
  },
  {
   "cell_type": "code",
   "execution_count": 21,
   "id": "7cf51393",
   "metadata": {},
   "outputs": [
    {
     "name": "stdout",
     "output_type": "stream",
     "text": [
      "a + b (8+13j)\n",
      "<class 'complex'>\n",
      "a - b (-2-5j)\n",
      "<class 'complex'>\n",
      "a * b (-21+47j)\n",
      "<class 'complex'>\n",
      "a / b (0.4811320754716981-0.06603773584905659j)\n",
      "<class 'complex'>\n",
      "a ** b (0.714704513387209+0.19923326288380847j)\n",
      "<class 'complex'>\n"
     ]
    }
   ],
   "source": [
    "#  complex number operations\n",
    "a = 3 + 4j\n",
    "b = 5 + 9j\n",
    "\n",
    "\n",
    "c1 = a + b\n",
    "c2 = a - b\n",
    "c3 = a * b\n",
    "c4 = a / b\n",
    "c5 = a ** b\n",
    "\n",
    "print(\"a + b\",c1)\n",
    "print(type(c1))\n",
    "print(\"a - b\",c2)\n",
    "print(type(c2))\n",
    "print(\"a * b\",c3)\n",
    "print(type(c3))\n",
    "print(\"a / b\",c4)\n",
    "print(type(c4))\n",
    "print(\"a ** b\",c5)\n",
    "print(type(c5))"
   ]
  },
  {
   "cell_type": "raw",
   "id": "58348fdc",
   "metadata": {},
   "source": [
    "to get random number in python we use random module\n",
    "example:\n",
    "--------------------------------------------\n",
    "import random\n",
    "a = [1,2,3,4,5]\n",
    "print(random, range(a))   # check it again\n",
    "\n",
    "we'll read it in random module"
   ]
  },
  {
   "cell_type": "raw",
   "id": "5b929343",
   "metadata": {},
   "source": [
    "string :"
   ]
  },
  {
   "cell_type": "code",
   "execution_count": 22,
   "id": "0c3fa65c",
   "metadata": {},
   "outputs": [
    {
     "name": "stdout",
     "output_type": "stream",
     "text": [
      "a =  i am string\n",
      "data type of a =  <class 'str'>\n"
     ]
    }
   ],
   "source": [
    "a = 'i am string'       #string with single qoute\n",
    "print(\"a = \",a)\n",
    "print(\"data type of a = \",type(a))"
   ]
  },
  {
   "cell_type": "code",
   "execution_count": 23,
   "id": "b848fbe6",
   "metadata": {},
   "outputs": [
    {
     "name": "stdout",
     "output_type": "stream",
     "text": [
      "a =  i am string\n",
      "data type of a =  <class 'str'>\n"
     ]
    }
   ],
   "source": [
    "a = \"i am string\"       #string with double qoute\n",
    "print(\"a = \",a)\n",
    "print(\"data type of a = \",type(a))"
   ]
  },
  {
   "cell_type": "code",
   "execution_count": 24,
   "id": "87e3ae81",
   "metadata": {},
   "outputs": [
    {
     "name": "stdout",
     "output_type": "stream",
     "text": [
      "a =  i am\n",
      "a string\n",
      "with\n",
      "multiple line \n",
      "data type of a =  <class 'str'>\n"
     ]
    }
   ],
   "source": [
    "a = '''i am\n",
    "a string\n",
    "with\n",
    "multiple line '''       #string with multiple line with single quote\n",
    "print(\"a = \",a)\n",
    "print(\"data type of a = \",type(a))"
   ]
  },
  {
   "cell_type": "code",
   "execution_count": 25,
   "id": "f429b87c",
   "metadata": {},
   "outputs": [
    {
     "name": "stdout",
     "output_type": "stream",
     "text": [
      "a =  i am\n",
      "a string\n",
      "with\n",
      "multiple line\n",
      "data type of a =  <class 'str'>\n"
     ]
    }
   ],
   "source": [
    "a = \"\"\"i am\n",
    "a string\n",
    "with\n",
    "multiple line\"\"\"      #string with multiple line with double quote\n",
    "print(\"a = \",a)\n",
    "print(\"data type of a = \",type(a))"
   ]
  },
  {
   "cell_type": "code",
   "execution_count": 26,
   "id": "6002bb4e",
   "metadata": {},
   "outputs": [
    {
     "name": "stdout",
     "output_type": "stream",
     "text": [
      "strings are :\n",
      "1.  \"ram\" and \"shyam\" is my friend.\n",
      "<class 'str'>\n",
      "2.  mohan is meena's friend\n",
      "<class 'str'>\n",
      "3.  \"ram\" is mohan's brother and a good student\n",
      "<class 'str'>\n",
      "4.  \"ram\" is mohan's brother and a good student\n",
      "<class 'str'>\n"
     ]
    }
   ],
   "source": [
    "# string types acc to quotes\n",
    "a = '\"ram\" and \"shyam\" is my friend.'\n",
    "b = \"mohan is meena's friend\"\n",
    "c = '''\"ram\" is mohan's brother and a good student'''\n",
    "d = \"\"\"\"ram\" is mohan's brother and a good student\"\"\"\n",
    "\n",
    "print('strings are :')\n",
    "print(\"1. \",a)\n",
    "print(type(a))\n",
    "print(\"2. \",b)\n",
    "print(type(b))\n",
    "print(\"3. \",c)\n",
    "print(type(c))\n",
    "print(\"4. \",d)\n",
    "print(type(d))"
   ]
  },
  {
   "cell_type": "raw",
   "id": "a8a5ec37",
   "metadata": {},
   "source": [
    "we'll see string functions later...."
   ]
  },
  {
   "cell_type": "raw",
   "id": "794d36b4",
   "metadata": {},
   "source": [
    "boolean :"
   ]
  },
  {
   "cell_type": "code",
   "execution_count": 27,
   "id": "f8062c0c",
   "metadata": {},
   "outputs": [
    {
     "name": "stdout",
     "output_type": "stream",
     "text": [
      "True\n",
      "<class 'bool'>\n",
      "False\n",
      "<class 'bool'>\n"
     ]
    }
   ],
   "source": [
    "a = True  #boolean\n",
    "b = False \n",
    "print(a)\n",
    "print(type(a))\n",
    "print(b)\n",
    "print(type(b))"
   ]
  },
  {
   "cell_type": "raw",
   "id": "7842e3e2",
   "metadata": {},
   "source": [
    "check conditions with bool"
   ]
  },
  {
   "cell_type": "code",
   "execution_count": 28,
   "id": "c2aaa6c9",
   "metadata": {},
   "outputs": [
    {
     "name": "stdout",
     "output_type": "stream",
     "text": [
      "True\n",
      "False\n",
      "False\n"
     ]
    }
   ],
   "source": [
    "print(10 > 9)\n",
    "print(10 == 9)\n",
    "print(10 < 9)"
   ]
  },
  {
   "cell_type": "code",
   "execution_count": 29,
   "id": "0ca3f9ec",
   "metadata": {},
   "outputs": [
    {
     "name": "stdout",
     "output_type": "stream",
     "text": [
      "True\n",
      "True\n"
     ]
    }
   ],
   "source": [
    "print(bool(\"Hello\"))\n",
    "print(bool(15))"
   ]
  },
  {
   "cell_type": "raw",
   "id": "af38a373",
   "metadata": {},
   "source": [
    "None :"
   ]
  },
  {
   "cell_type": "code",
   "execution_count": 30,
   "id": "3d137f6e",
   "metadata": {},
   "outputs": [
    {
     "name": "stdout",
     "output_type": "stream",
     "text": [
      "None\n",
      "<class 'NoneType'>\n"
     ]
    }
   ],
   "source": [
    "a = None\n",
    "print(a)\n",
    "print(type(a))"
   ]
  },
  {
   "cell_type": "raw",
   "id": "96e30479",
   "metadata": {},
   "source": [
    "in others:\n",
    "    Example: Data_Type\n",
    "\n",
    "x = [\"apple\", \"banana\", \"cherry\"]\t                 list\t\n",
    "x = (\"apple\", \"banana\", \"cherry\")\t                 tuple\t\n",
    "x = range(6)\t                                     range\t\n",
    "x = {\"name\" : \"John\", \"age\" : 36}\t                 dict\t\n",
    "x = {\"apple\", \"banana\", \"cherry\"}\t                 set\t\n",
    "x = frozenset({\"apple\", \"banana\", \"cherry\"})\t     frozenset\n",
    "x = b\"Hello\"\t                                     bytes\t\n",
    "x = bytearray(5)\t                                 bytearray\t\n",
    "x = memoryview(bytes(5))\t                         memoryview\n",
    "\n",
    "we'll discus about them later..."
   ]
  },
  {
   "cell_type": "markdown",
   "id": "76d1d0be",
   "metadata": {},
   "source": [
    "# Variable:\n",
    "Variables are containers for storing data values, like numbers and characters.\n",
    "## Do :\n",
    "best way to naming variable is to use camel case ex. 'MyName' see 'M' and 'N' and only we can use '_' between characters\n",
    "## Don't :\n",
    "no space, no special character"
   ]
  },
  {
   "cell_type": "code",
   "execution_count": 31,
   "id": "63edb74e",
   "metadata": {},
   "outputs": [],
   "source": [
    "a = 10\n",
    "ram = 5\n",
    "MyName = 'raj'\n",
    "my_name = 'raj'\n",
    "_my_name = 'raj'\n",
    "my_name2 = 'raj'\n",
    "MYNAME = 'raj'\n",
    "\n",
    "# a b = 10\n",
    "# a%b = 1\n",
    "# a-b = 'ram'\n",
    "# 2name = 'ram'"
   ]
  },
  {
   "cell_type": "markdown",
   "id": "36690ab3",
   "metadata": {},
   "source": [
    "***assign multi value in multiple variable :***"
   ]
  },
  {
   "cell_type": "code",
   "execution_count": 32,
   "id": "e34627e5",
   "metadata": {},
   "outputs": [
    {
     "name": "stdout",
     "output_type": "stream",
     "text": [
      "10\n",
      "11\n",
      "12\n"
     ]
    }
   ],
   "source": [
    "a,b,c = 10,11,12\n",
    "print(a)\n",
    "print(b)\n",
    "print(c)"
   ]
  },
  {
   "cell_type": "markdown",
   "id": "c2e43959",
   "metadata": {},
   "source": [
    "***single value in multiple variables :***"
   ]
  },
  {
   "cell_type": "code",
   "execution_count": 33,
   "id": "0dca7abf",
   "metadata": {},
   "outputs": [
    {
     "name": "stdout",
     "output_type": "stream",
     "text": [
      "ram\n",
      "ram\n",
      "ram\n"
     ]
    }
   ],
   "source": [
    "x = y = z = 'ram'\n",
    "print(x)\n",
    "print(y)\n",
    "print(z)"
   ]
  },
  {
   "cell_type": "markdown",
   "id": "dcffe997",
   "metadata": {},
   "source": [
    "***if you have collection of value like any list, tuple, set.\n",
    "you can extract them in single valued variable.***"
   ]
  },
  {
   "cell_type": "code",
   "execution_count": 34,
   "id": "0d0c3cc0",
   "metadata": {},
   "outputs": [
    {
     "name": "stdout",
     "output_type": "stream",
     "text": [
      "oudi\n",
      "suzuki\n",
      "benz\n",
      "toyota\n"
     ]
    }
   ],
   "source": [
    "cars = ['oudi', 'suzuki', 'benz', 'toyota']\n",
    "a, b, c, d = cars\n",
    "\n",
    "print(a)\n",
    "print(b)\n",
    "print(c)\n",
    "print(d)"
   ]
  },
  {
   "cell_type": "markdown",
   "id": "b81f6571",
   "metadata": {},
   "source": [
    "# OPERATORS :"
   ]
  },
  {
   "cell_type": "markdown",
   "id": "3ffc6791",
   "metadata": {},
   "source": [
    "# 1. arithmatic operator:\n",
    "use for basic math operatons."
   ]
  },
  {
   "cell_type": "code",
   "execution_count": 35,
   "id": "1827b0a6",
   "metadata": {},
   "outputs": [],
   "source": [
    "# variable with values\n",
    "a = 5\n",
    "b = 3\n",
    "c = 2.4\n",
    "d = 3.1\n",
    "e = True\n",
    "f = False"
   ]
  },
  {
   "cell_type": "raw",
   "id": "62182cea",
   "metadata": {},
   "source": [
    "addition in python:"
   ]
  },
  {
   "cell_type": "code",
   "execution_count": 36,
   "id": "41975047",
   "metadata": {},
   "outputs": [
    {
     "name": "stdout",
     "output_type": "stream",
     "text": [
      "sum : 8\n",
      "sum : 5.5\n"
     ]
    }
   ],
   "source": [
    "# sum\n",
    "a = 5\n",
    "b = 3\n",
    "c = 2.4\n",
    "d = 3.1\n",
    "\n",
    "sum1 = a + b\n",
    "sum2 = c + d\n",
    "print(\"sum :\",sum1)\n",
    "print(\"sum :\",sum2)"
   ]
  },
  {
   "cell_type": "raw",
   "id": "6c96eb9b",
   "metadata": {},
   "source": [
    "subtraction "
   ]
  },
  {
   "cell_type": "code",
   "execution_count": 37,
   "id": "10775d6a",
   "metadata": {},
   "outputs": [
    {
     "name": "stdout",
     "output_type": "stream",
     "text": [
      "sub : 2\n",
      "sub : -0.7000000000000002\n"
     ]
    }
   ],
   "source": [
    "# sub\n",
    "a = 5\n",
    "b = 3\n",
    "c = 2.4\n",
    "d = 3.1\n",
    "\n",
    "sub1 = a - b\n",
    "sub2 = c - d\n",
    "print(\"sub :\",sub1)\n",
    "print(\"sub :\",sub2)"
   ]
  },
  {
   "cell_type": "raw",
   "id": "20d9ef85",
   "metadata": {},
   "source": [
    "multiply :"
   ]
  },
  {
   "cell_type": "code",
   "execution_count": 38,
   "id": "32adfa75",
   "metadata": {},
   "outputs": [
    {
     "name": "stdout",
     "output_type": "stream",
     "text": [
      "mul1 : 15\n",
      "mul2 : 7.4399999999999995\n"
     ]
    }
   ],
   "source": [
    "# mul\n",
    "a = 5\n",
    "b = 3\n",
    "c = 2.4\n",
    "d = 3.1\n",
    "\n",
    "mul1 = a * b\n",
    "mul2 = c * d\n",
    "print(\"mul1 :\",mul1)\n",
    "print(\"mul2 :\",mul2)"
   ]
  },
  {
   "cell_type": "raw",
   "id": "88185b72",
   "metadata": {},
   "source": [
    "division"
   ]
  },
  {
   "cell_type": "code",
   "execution_count": 39,
   "id": "fb13cb0f",
   "metadata": {},
   "outputs": [
    {
     "name": "stdout",
     "output_type": "stream",
     "text": [
      "div1 : 0.6\n",
      "div2 : 1.2916666666666667\n"
     ]
    }
   ],
   "source": [
    "# div\n",
    "a = 5\n",
    "b = 3\n",
    "c = 2.4\n",
    "d = 3.1\n",
    "\n",
    "div1 = b / a\n",
    "div2 = d / c\n",
    "print(\"div1 :\",div1)\n",
    "print(\"div2 :\",div2)"
   ]
  },
  {
   "cell_type": "raw",
   "id": "079b21dd",
   "metadata": {},
   "source": [
    "exponatial/ power"
   ]
  },
  {
   "cell_type": "code",
   "execution_count": 40,
   "id": "c27f8f7e",
   "metadata": {},
   "outputs": [
    {
     "name": "stdout",
     "output_type": "stream",
     "text": [
      "ex1 : 125\n",
      "ex2 : 15.088805115741808\n"
     ]
    }
   ],
   "source": [
    "# expo\n",
    "a = 5\n",
    "b = 3\n",
    "c = 2.4\n",
    "d = 3.1\n",
    "\n",
    "ex1 = a ** b\n",
    "ex2 = c ** d\n",
    "print(\"ex1 :\",ex1) # a to the power b\n",
    "print(\"ex2 :\",ex2) # c to the power d"
   ]
  },
  {
   "cell_type": "raw",
   "id": "08f9c660",
   "metadata": {},
   "source": [
    "reminder/modulus:"
   ]
  },
  {
   "cell_type": "code",
   "execution_count": 41,
   "id": "d37468ab",
   "metadata": {},
   "outputs": [
    {
     "name": "stdout",
     "output_type": "stream",
     "text": [
      "rem1 : 2\n",
      "rem2 : 2.4\n"
     ]
    }
   ],
   "source": [
    "# rem\n",
    "a = 5\n",
    "b = 3\n",
    "c = 2.4\n",
    "d = 3.1\n",
    "\n",
    "rem1 = a % b\n",
    "rem2 = c % d\n",
    "print(\"rem1 :\",rem1)\n",
    "print(\"rem2 :\",rem2)"
   ]
  },
  {
   "cell_type": "raw",
   "id": "614e66f1",
   "metadata": {},
   "source": [
    "floor division:"
   ]
  },
  {
   "cell_type": "markdown",
   "id": "5799e475",
   "metadata": {},
   "source": [
    "Floor division is a normal division operation except that it returns the largest possible integer. This integer is either less than or equal to the normal division result. Floor function is mathematically denoted by this [] symbole."
   ]
  },
  {
   "cell_type": "code",
   "execution_count": 42,
   "id": "8b8ddd38",
   "metadata": {},
   "outputs": [
    {
     "name": "stdout",
     "output_type": "stream",
     "text": [
      "div1 : 0\n",
      "div2 : 1.0\n"
     ]
    }
   ],
   "source": [
    "# div\n",
    "a = 5\n",
    "b = 3\n",
    "c = 2.4\n",
    "d = 3.1\n",
    "\n",
    "div1 = b // a\n",
    "div2 = d // c\n",
    "print(\"div1 :\",div1)\n",
    "print(\"div2 :\",div2)"
   ]
  },
  {
   "cell_type": "markdown",
   "id": "8516ea92",
   "metadata": {},
   "source": [
    "# 2. assignment operators:\n",
    "who hold '=' and used to assign value to exponant(variable)"
   ]
  },
  {
   "cell_type": "code",
   "execution_count": 43,
   "id": "b2ead7ee",
   "metadata": {},
   "outputs": [
    {
     "name": "stdout",
     "output_type": "stream",
     "text": [
      "(=assignment) x= 4\n",
      "(x += 3)= 7\n",
      "(x -= 3)= 4\n",
      "(x *= 3)= 12\n",
      "(x /= 3)= 4.0\n",
      "(x %= 3)= 1.0\n",
      "(x /= 3)= 0.3333333333333333\n",
      "(x **= 3)= 0.03703703703703703\n"
     ]
    }
   ],
   "source": [
    "x = 4\n",
    "print(\"(=assignment) x=\", x)\n",
    "\n",
    "x += 3  #x = x + 3\n",
    "print(\"(x += 3)=\",x)\n",
    "\n",
    "x -= 3  #x = x - 3\n",
    "print(\"(x -= 3)=\",x)\n",
    "\n",
    "x *= 3  #x = x * 3\n",
    "print(\"(x *= 3)=\",x)\n",
    "\n",
    "x /= 3  #x = x / 3\n",
    "print(\"(x /= 3)=\",x)\n",
    "\n",
    "x %= 3  #x = x % 3\n",
    "print(\"(x %= 3)=\",x)\n",
    "\n",
    "x /= 3  #x = x // 3\n",
    "print(\"(x /= 3)=\",x)\n",
    "\n",
    "x **= 3  #x = x ** 3\n",
    "print(\"(x **= 3)=\",x)"
   ]
  },
  {
   "cell_type": "markdown",
   "id": "9a73f84f",
   "metadata": {},
   "source": [
    "# Comparison Operators:\n",
    "Comparison operators are used to compare two values:"
   ]
  },
  {
   "cell_type": "code",
   "execution_count": 44,
   "id": "40d84cd9",
   "metadata": {},
   "outputs": [
    {
     "name": "stdout",
     "output_type": "stream",
     "text": [
      "(x == y) =  False\n",
      "(x != y) =  True\n",
      "(x < y) =  True\n",
      "(x <= y) =  True\n",
      "(x > y) =  False\n",
      "(x >= y) =  False\n"
     ]
    }
   ],
   "source": [
    "x = 5\n",
    "y = 8\n",
    "\n",
    "print(\"(x == y) = \",x == y)\n",
    "print(\"(x != y) = \",x != y)\n",
    "print(\"(x < y) = \",x < y)\n",
    "print(\"(x <= y) = \",x <= y)\n",
    "print(\"(x > y) = \",x > y)\n",
    "print(\"(x >= y) = \",x >= y)"
   ]
  },
  {
   "cell_type": "markdown",
   "id": "2a7373f9",
   "metadata": {},
   "source": [
    "# Logical operator:\n",
    "Returns True if both statements are true rather than false.<br>\n",
    "and, or, not"
   ]
  },
  {
   "cell_type": "code",
   "execution_count": 45,
   "id": "d4364ac9",
   "metadata": {},
   "outputs": [
    {
     "name": "stdout",
     "output_type": "stream",
     "text": [
      "value of 'bool1 and bool2' is :  False\n",
      "value of 'bool1 or bool2' is  True\n",
      "value of 'not bool2' is True\n"
     ]
    }
   ],
   "source": [
    "bool1 = True\n",
    "bool2 = False\n",
    "\n",
    "print(\"value of 'bool1 and bool2' is : \",bool1 and bool2)\n",
    "print(\"value of 'bool1 or bool2' is \",bool1 or bool2)\n",
    "print(\"value of 'not bool2' is\",not bool2)"
   ]
  },
  {
   "cell_type": "markdown",
   "id": "faa98c61",
   "metadata": {},
   "source": [
    "# identity operator:\n",
    "identity operators are the operators who used to compare the object that they are equal to or not"
   ]
  },
  {
   "cell_type": "code",
   "execution_count": 46,
   "id": "680ff14c",
   "metadata": {},
   "outputs": [
    {
     "name": "stdout",
     "output_type": "stream",
     "text": [
      "x is y =  False\n",
      "x is y =  True\n",
      "x is y =  True\n"
     ]
    }
   ],
   "source": [
    "x = 10\n",
    "y = 15\n",
    "z = 10\n",
    "\n",
    "print(\"x is y = \", x is y)\n",
    "print(\"x is y = \", x is not y)\n",
    "print(\"x is y = \", x is z)"
   ]
  },
  {
   "cell_type": "markdown",
   "id": "cf8c4bb5",
   "metadata": {},
   "source": [
    "# membership operators:"
   ]
  },
  {
   "cell_type": "code",
   "execution_count": 47,
   "id": "488a8098",
   "metadata": {},
   "outputs": [
    {
     "name": "stdout",
     "output_type": "stream",
     "text": [
      "1 in x =  True\n",
      "1 not in x =  False\n"
     ]
    }
   ],
   "source": [
    "x = [1, 2, 3, 4, 5]\n",
    "\n",
    "print(\"1 in x = \",1 in x)\n",
    "print(\"1 not in x = \",1 not in x)"
   ]
  },
  {
   "cell_type": "markdown",
   "id": "5a5616bd",
   "metadata": {},
   "source": [
    "# Bitwise operator:\n",
    "Bitwise operators are used to compare (binary) numbers"
   ]
  },
  {
   "cell_type": "raw",
   "id": "45148145",
   "metadata": {},
   "source": [
    "The & operator compares each bit and set it to 1 if both are 1, otherwise it is set to 0:\n",
    "\n",
    "6 = 0000000000000110\n",
    "3 = 0000000000000011\n",
    "--------------------\n",
    "2 = 0000000000000010\n",
    "====================\n",
    "\n",
    "Decimal numbers and their binary values:\n",
    "0 = 0000000000000000\n",
    "1 = 0000000000000001\n",
    "2 = 0000000000000010\n",
    "3 = 0000000000000011\n",
    "4 = 0000000000000100\n",
    "5 = 0000000000000101\n",
    "6 = 0000000000000110\n",
    "7 = 0000000000000111"
   ]
  },
  {
   "cell_type": "code",
   "execution_count": 48,
   "id": "084ff33a",
   "metadata": {},
   "outputs": [
    {
     "name": "stdout",
     "output_type": "stream",
     "text": [
      "2\n"
     ]
    }
   ],
   "source": [
    "print(6 & 3)"
   ]
  },
  {
   "cell_type": "raw",
   "id": "b162c5ac",
   "metadata": {},
   "source": [
    "The | operator compares each bit and set it to 1 if one or both is 1, otherwise it is set to 0:\n",
    "\n",
    "6 = 0000000000000110\n",
    "3 = 0000000000000011\n",
    "--------------------\n",
    "7 = 0000000000000111\n",
    "====================\n",
    "\n",
    "Decimal numbers and their binary values:\n",
    "0 = 0000000000000000\n",
    "1 = 0000000000000001\n",
    "2 = 0000000000000010\n",
    "3 = 0000000000000011\n",
    "4 = 0000000000000100\n",
    "5 = 0000000000000101\n",
    "6 = 0000000000000110\n",
    "7 = 0000000000000111"
   ]
  },
  {
   "cell_type": "code",
   "execution_count": 49,
   "id": "a79fa2a8",
   "metadata": {},
   "outputs": [
    {
     "name": "stdout",
     "output_type": "stream",
     "text": [
      "7\n"
     ]
    }
   ],
   "source": [
    "print(6 | 3)"
   ]
  },
  {
   "cell_type": "raw",
   "id": "b097fbfa",
   "metadata": {},
   "source": [
    "The ~ operator inverts each bit (0 becomes 1 and 1 becomes 0).\n",
    "\n",
    "Inverted 3 becomes -4:\n",
    " 3 = 0000000000000011\n",
    " ----------------------------\n",
    "-4 = 1111111111111100\n",
    "========================================\n",
    "Decimal numbers and their binary values:\n",
    " 4 = 0000000000000100\n",
    " 3 = 0000000000000011\n",
    " 2 = 0000000000000010\n",
    " 1 = 0000000000000001\n",
    " 0 = 0000000000000000\n",
    "-1 = 1111111111111111\n",
    "-2 = 1111111111111110\n",
    "-3 = 1111111111111101\n",
    "-4 = 1111111111111100"
   ]
  },
  {
   "cell_type": "code",
   "execution_count": 50,
   "id": "f0a1d36b",
   "metadata": {},
   "outputs": [
    {
     "name": "stdout",
     "output_type": "stream",
     "text": [
      "-4\n"
     ]
    }
   ],
   "source": [
    "print(~3)"
   ]
  },
  {
   "cell_type": "raw",
   "id": "df5568cb",
   "metadata": {},
   "source": [
    "The >> operator moves each bit the specified number of times to the right. Empty holes at the left are filled with 0's.\n",
    "\n",
    "If you move each bit 2 times to the right, 8 becomes 2:\n",
    " 8 = 0000000000001000\n",
    "becomes\n",
    " 2 = 0000000000000010\n",
    "\n",
    "Decimal numbers and their binary values:\n",
    " 0 = 0000000000000000\n",
    " 1 = 0000000000000001\n",
    " 2 = 0000000000000010\n",
    " 3 = 0000000000000011\n",
    " 4 = 0000000000000100\n",
    " 5 = 0000000000000101\n",
    " 6 = 0000000000000110\n",
    " 7 = 0000000000000111\n",
    " 8 = 0000000000001000\n",
    " 9 = 0000000000001001\n",
    "10 = 0000000000001010\n",
    "11 = 0000000000001011\n",
    "12 = 0000000000001100"
   ]
  },
  {
   "cell_type": "code",
   "execution_count": 51,
   "id": "fb6c3cf3",
   "metadata": {},
   "outputs": [
    {
     "name": "stdout",
     "output_type": "stream",
     "text": [
      "2\n"
     ]
    }
   ],
   "source": [
    "print(8 >> 2)"
   ]
  },
  {
   "cell_type": "raw",
   "id": "1845197c",
   "metadata": {},
   "source": [
    "The << operator inserts the specified number of 0's (in this case 2) from the right and let the same amount of leftmost bits fall off:\n",
    "\n",
    "If you push 00 in from the left:\n",
    " 3 = 0000000000000011\n",
    "becomes\n",
    "12 = 0000000000001100\n",
    "\n",
    "Decimal numbers and their binary values:\n",
    " 0 = 0000000000000000\n",
    " 1 = 0000000000000001\n",
    " 2 = 0000000000000010\n",
    " 3 = 0000000000000011\n",
    " 4 = 0000000000000100\n",
    " 5 = 0000000000000101\n",
    " 6 = 0000000000000110\n",
    " 7 = 0000000000000111\n",
    " 8 = 0000000000001000\n",
    " 9 = 0000000000001001\n",
    "10 = 0000000000001010\n",
    "11 = 0000000000001011\n",
    "12 = 0000000000001100"
   ]
  },
  {
   "cell_type": "code",
   "execution_count": 52,
   "id": "c8ff4268",
   "metadata": {},
   "outputs": [
    {
     "name": "stdout",
     "output_type": "stream",
     "text": [
      "12\n"
     ]
    }
   ],
   "source": [
    "print(3 << 2)"
   ]
  },
  {
   "cell_type": "markdown",
   "id": "c2da2aa5",
   "metadata": {},
   "source": [
    "# Operator Precedence:\n",
    "Operator precedence describes the order in which operations are performed.\n",
    "(read online)"
   ]
  },
  {
   "cell_type": "markdown",
   "id": "61e432c5",
   "metadata": {},
   "source": [
    "# type casting:\n",
    "There may be times when you want to specify a type on to a variable. This can be done with casting. Python is an object-orientated language, and as such it uses classes to define data types, including its primitive types.\n",
    "<br><br>\n",
    "it try to change datatype in all possible ways.\n",
    "<br><br>\n",
    "Casting in python is therefore done using constructor functions:\n",
    "<br><br>\n",
    "***int()*** - constructs an integer number from an integer literal, a float literal (by removing all decimals), or a string literal (providing the string represents a whole number)<br>\n",
    "***float()*** - constructs a float number from an integer literal, a float literal or a string literal (providing the string represents a float or an integer)<br>\n",
    "***str()*** - constructs a string from a wide variety of data types, including strings, integer literals and float literals"
   ]
  },
  {
   "cell_type": "code",
   "execution_count": 53,
   "id": "d3af2e9d",
   "metadata": {},
   "outputs": [
    {
     "name": "stdout",
     "output_type": "stream",
     "text": [
      "1 type of x :  <class 'int'>\n",
      "1 type of x :  <class 'int'>\n",
      "15 type of x :  <class 'int'>\n"
     ]
    }
   ],
   "source": [
    "x = int(1)\n",
    "y = int(1.2)\n",
    "#z = int('1.5')     # unable to do\n",
    "z = int('15')\n",
    "\n",
    "print(x,\"type of x : \",type(x))\n",
    "print(y,\"type of x : \",type(y))\n",
    "#print(z,\"type of x : \",type(z))\n",
    "print(z,\"type of x : \",type(z))"
   ]
  },
  {
   "cell_type": "code",
   "execution_count": 54,
   "id": "21130ab3",
   "metadata": {},
   "outputs": [
    {
     "name": "stdout",
     "output_type": "stream",
     "text": [
      "1.0 <class 'float'>\n",
      "2.8 <class 'float'>\n",
      "3.0 <class 'float'>\n",
      "4.2 <class 'float'>\n"
     ]
    }
   ],
   "source": [
    "x = float(1)\n",
    "y = float(2.8)\n",
    "z = float(\"3\")\n",
    "w = float(\"4.2\")\n",
    "\n",
    "print(x,type(x))\n",
    "print(y,type(y))\n",
    "print(z,type(z))\n",
    "print(w,type(w))"
   ]
  },
  {
   "cell_type": "code",
   "execution_count": 55,
   "id": "9364b271",
   "metadata": {},
   "outputs": [
    {
     "name": "stdout",
     "output_type": "stream",
     "text": [
      "s1 <class 'str'>\n",
      "2 <class 'str'>\n",
      "3.0 <class 'str'>\n"
     ]
    }
   ],
   "source": [
    "x = str(\"s1\") \n",
    "y = str(2)   \n",
    "z = str(3.0)  \n",
    "\n",
    "print(x,type(x))\n",
    "print(y,type(y))\n",
    "print(z,type(z))"
   ]
  },
  {
   "cell_type": "markdown",
   "id": "8d073bbd",
   "metadata": {},
   "source": [
    "# type conversion:\n",
    "type conversion is a technique to convert data type from one to another in possible ways.<br><br>\n",
    "to see the data type we use type() function and to covernt data type in typer converstion we use int(), float() and complex() functions"
   ]
  },
  {
   "cell_type": "code",
   "execution_count": 56,
   "id": "9f9a0fdc",
   "metadata": {},
   "outputs": [
    {
     "name": "stdout",
     "output_type": "stream",
     "text": [
      "10.0\n",
      "<class 'float'>\n",
      "7\n",
      "<class 'int'>\n",
      "(10+0j)\n",
      "<class 'complex'>\n"
     ]
    }
   ],
   "source": [
    "x = 10\n",
    "y = 7.5\n",
    "z = 5j\n",
    "\n",
    "# before conversion\n",
    "type(x)\n",
    "type(y)\n",
    "type(z)\n",
    "\n",
    "#convert from int to float:\n",
    "a = float(x)\n",
    "print(a)\n",
    "print(type(a))\n",
    "\n",
    "#convert from float to int:\n",
    "b = int(y)\n",
    "print(b)\n",
    "print(type(b))\n",
    "\n",
    "#convert from int to complex:\n",
    "c = complex(x)\n",
    "print(c)\n",
    "print(type(c))"
   ]
  },
  {
   "cell_type": "markdown",
   "id": "2dc11be2",
   "metadata": {},
   "source": [
    "# Input() function:\n",
    " it's used to take user input. By default, it returns the user input in form of a string."
   ]
  },
  {
   "cell_type": "code",
   "execution_count": 57,
   "id": "0e22b01a",
   "metadata": {},
   "outputs": [
    {
     "name": "stdout",
     "output_type": "stream",
     "text": [
      "enter your name : Rajendra Randa\n",
      "enter your address : indore madhya pradesh india\n",
      "my name is  Rajendra Randa  and  i live in  indore madhya pradesh india\n",
      "my name is Rajendra Randa and i live in indore madhya pradesh india\n"
     ]
    }
   ],
   "source": [
    "name = input('enter your name : ')\n",
    "add = input(\"enter your address : \")\n",
    "\n",
    "print(\"my name is \",name,\" and \",\"i live in \",add)   #default type\n",
    "print(f\"my name is {name} and i live in {add}\")      # using f-string"
   ]
  },
  {
   "cell_type": "markdown",
   "id": "dd245e50",
   "metadata": {},
   "source": [
    "***input function take input as 'string' by default but with type conversion we can take input as any data type i.e. int and float***"
   ]
  },
  {
   "cell_type": "code",
   "execution_count": 58,
   "id": "9c579233",
   "metadata": {},
   "outputs": [
    {
     "name": "stdout",
     "output_type": "stream",
     "text": [
      "enter any number: 12\n",
      "12\n",
      "<class 'str'>\n",
      "enter any float number: 154\n",
      "154.0\n",
      "<class 'float'>\n",
      "enter any int number: 124\n",
      "124\n",
      "<class 'int'>\n"
     ]
    }
   ],
   "source": [
    "a = input(\"enter any number: \")\n",
    "print(a)\n",
    "print(type(a))\n",
    "\n",
    "a = float(input(\"enter any float number: \"))\n",
    "print(a)\n",
    "print(type(a))\n",
    "\n",
    "a = int(input(\"enter any int number: \"))\n",
    "print(a)\n",
    "print(type(a))"
   ]
  },
  {
   "cell_type": "code",
   "execution_count": 59,
   "id": "30f6099c",
   "metadata": {},
   "outputs": [
    {
     "name": "stdout",
     "output_type": "stream",
     "text": [
      "enter no. 1 :98\n",
      "enter no. 2 :79\n",
      "sum of 98.000000 and 79.000000 is 177.0\n"
     ]
    }
   ],
   "source": [
    "a = float(input(\"enter no. 1 :\"))\n",
    "b = float(input(\"enter no. 2 :\"))\n",
    "c = a + b\n",
    "sum = 'sum of %f and %f is'%(a,b)\n",
    "print(sum,c)"
   ]
  },
  {
   "cell_type": "markdown",
   "id": "bd7af8bc",
   "metadata": {},
   "source": [
    "# string operation:\n",
    "there are various operation and functions, we can applied on strings."
   ]
  },
  {
   "cell_type": "code",
   "execution_count": 60,
   "id": "84291040",
   "metadata": {},
   "outputs": [
    {
     "name": "stdout",
     "output_type": "stream",
     "text": [
      "enter name : rajendra kumar randa\n",
      "good morning !!!, rajendra kumar randa\n",
      "good morning !!!, rajendra kumar randa\n"
     ]
    }
   ],
   "source": [
    "greet = 'good morning !!!, '\n",
    "name = input(\"enter name : \")\n",
    "\n",
    "print(greet+name)\n",
    "\n",
    "msg = greet+name\n",
    "print(msg)"
   ]
  },
  {
   "cell_type": "code",
   "execution_count": 61,
   "id": "5cca3ef8",
   "metadata": {},
   "outputs": [],
   "source": [
    "name = \"Rajendra Kumar Randa\""
   ]
  },
  {
   "cell_type": "code",
   "execution_count": 62,
   "id": "c0b21203",
   "metadata": {},
   "outputs": [
    {
     "name": "stdout",
     "output_type": "stream",
     "text": [
      "index of 0 : R\n",
      "index of 2 : j\n",
      "index of 18 : d\n"
     ]
    }
   ],
   "source": [
    "print(\"index of 0 :\", name[0])\n",
    "print(\"index of 2 :\", name[2])\n",
    "print(\"index of 18 :\", name[18])\n",
    "# print(\"index of 23 :\", name[23])   #IndexError: string index out of range"
   ]
  },
  {
   "cell_type": "markdown",
   "id": "5e0192e9",
   "metadata": {},
   "source": [
    "# nagative index:\n",
    " it goes to string = [-n, .... , -4, -3, -2, -1, 0]"
   ]
  },
  {
   "cell_type": "code",
   "execution_count": 63,
   "id": "9905fd88",
   "metadata": {},
   "outputs": [
    {
     "name": "stdout",
     "output_type": "stream",
     "text": [
      "index of 2 : d\n",
      "index of 2 : r\n"
     ]
    }
   ],
   "source": [
    "print(\"index of 2 :\", name[-2])\n",
    "print(\"index of 2 :\", name[-14])"
   ]
  },
  {
   "cell_type": "markdown",
   "id": "e9bba826",
   "metadata": {},
   "source": [
    "***slicing*** : dividing string into parts"
   ]
  },
  {
   "cell_type": "code",
   "execution_count": 64,
   "id": "f2b8701d",
   "metadata": {},
   "outputs": [
    {
     "name": "stdout",
     "output_type": "stream",
     "text": [
      "index 0 to 5 :  A quic\n",
      "index 0 to 5 :  A quic\n",
      "index -6 to -2 :   dog\n",
      "index -9 to 0 :  azy dog .\n",
      "index -9 to 0 :  azy dog .\n"
     ]
    }
   ],
   "source": [
    "str = \"A quick brown fox jumps over the lazy dog .\"\n",
    "\n",
    "print(\"index 0 to 5 : \", str[0:6])  # [starting_index, ending+1]\n",
    "print(\"index 0 to 5 : \",str[:6])\n",
    "\n",
    "print(\"index -6 to -2 : \", str[-6:-2]) \n",
    "\n",
    "print(\"index -9 to 0 : \", str[-9:])\n",
    "print(\"index -9 to 0 : \", str[-9:])"
   ]
  },
  {
   "cell_type": "markdown",
   "id": "a03d02c5",
   "metadata": {},
   "source": [
    "## some more examples:"
   ]
  },
  {
   "cell_type": "code",
   "execution_count": 65,
   "id": "400b9149",
   "metadata": {},
   "outputs": [],
   "source": [
    "name = \"Rajendra Kumar Randa\""
   ]
  },
  {
   "cell_type": "code",
   "execution_count": 66,
   "id": "9ced3368",
   "metadata": {},
   "outputs": [
    {
     "name": "stdout",
     "output_type": "stream",
     "text": [
      "Rajendra Kumar Randa\n",
      "<class 'str'>\n",
      "20\n",
      "R\n",
      "e\n",
      "n\n",
      "Rajen\n",
      "Raje\n",
      "Rajendra Kumar Randa\n",
      "aj\n",
      "an\n",
      "an\n",
      "Rajend\n"
     ]
    },
    {
     "data": {
      "text/plain": [
       "'02468'"
      ]
     },
     "execution_count": 66,
     "metadata": {},
     "output_type": "execute_result"
    }
   ],
   "source": [
    "print(name)\n",
    "print(type(name))\n",
    "print(len(name))\n",
    "\n",
    "print(name[0])\n",
    "print(name[3])\n",
    "print(name[4]) #not work for out of index\n",
    "print(name[:5])\n",
    "print(name[:4])\n",
    "print(name[0:])\n",
    "print(name[1:3]) #[1:2]\n",
    "c = name[-4:-2] #nagative index\n",
    "print(c)\n",
    "print(name[-4:-2])\n",
    "d = name[1::5] #ski p indexing value\n",
    "d = name[0:6:1] #string[start_index:end_index:skip_index]\n",
    "print(d)\n",
    "name[::2]\n",
    "num = '0123456789' \n",
    "num[::2] #skil each 2nd values"
   ]
  },
  {
   "cell_type": "code",
   "execution_count": 67,
   "id": "6dedb7d2",
   "metadata": {},
   "outputs": [
    {
     "name": "stdout",
     "output_type": "stream",
     "text": [
      "[0, 2, 4, 6, 8]\n"
     ]
    }
   ],
   "source": [
    "# silicing wwork with collection of datatype (list,tuple...)\n",
    "l = [0, 1, 2, 3, 4, 5, 6, 7, 8]\n",
    "m = l[0:9:2]\n",
    "print(m)"
   ]
  },
  {
   "cell_type": "markdown",
   "id": "eb8ce13e",
   "metadata": {},
   "source": [
    "# string functions:"
   ]
  },
  {
   "cell_type": "code",
   "execution_count": 68,
   "id": "e15ac214",
   "metadata": {},
   "outputs": [],
   "source": [
    "story = '''In “The Necklace” by Guy de Maupassant, the main character, \n",
    "Mathilde, has always dreamed of being an aristocrat but lives in \n",
    "poverty. Embarrassed about her lack of fine possessions, she borrows a \n",
    "necklace from a wealthy friend but loses it. The story is known for its \n",
    "subversive and influential twist ending.'''"
   ]
  },
  {
   "cell_type": "code",
   "execution_count": 69,
   "id": "67298ef9",
   "metadata": {},
   "outputs": [
    {
     "name": "stdout",
     "output_type": "stream",
     "text": [
      "In “The Necklace” by Guy de Maupassant, the main character, \n",
      "Mathilde, has always dreamed of being an aristocrat but lives in \n",
      "poverty. Embarrassed about her lack of fine possessions, she borrows a \n",
      "necklace from a wealthy friend but loses it. The story is known for its \n",
      "subversive and influential twist ending.\n",
      "length :  312\n"
     ]
    }
   ],
   "source": [
    "# string functions:\n",
    "print(story)\n",
    "print(\"length : \",len(story))"
   ]
  },
  {
   "cell_type": "code",
   "execution_count": 70,
   "id": "23de38ea",
   "metadata": {},
   "outputs": [
    {
     "name": "stdout",
     "output_type": "stream",
     "text": [
      "True\n",
      "False\n",
      "4\n",
      "50\n",
      "In “the necklace” by guy de maupassant, the main character, \n",
      "mathilde, has always dreamed of being an aristocrat but lives in \n",
      "poverty. embarrassed about her lack of fine possessions, she borrows a \n",
      "necklace from a wealthy friend but loses it. the story is known for its \n",
      "subversive and influential twist ending.\n",
      "2\n",
      "In “The Necklace” by Guy de Maupassant, the lead character, \n",
      "Mathilde, has always dreamed of being an aristocrat but lives in \n",
      "poverty. Embarrassed about her lack of fine possessions, she borrows a \n",
      "necklace from a wealthy friend but loses it. The story is known for its \n",
      "subversive and influential twist ending.\n"
     ]
    }
   ],
   "source": [
    "print(story.endswith('.'))\n",
    "print(story.endswith('ending'))\n",
    "print(story.count('v'))\n",
    "print(story.count(' '))\n",
    "print(story.capitalize())\n",
    "print(story.find(' '))\n",
    "print(story.replace(\"main\", \"lead\")) #replace all accurances"
   ]
  },
  {
   "cell_type": "markdown",
   "id": "40d6bd98",
   "metadata": {},
   "source": [
    "# Let's see more with new example:"
   ]
  },
  {
   "cell_type": "code",
   "execution_count": 71,
   "id": "263c6fc7",
   "metadata": {},
   "outputs": [
    {
     "name": "stdout",
     "output_type": "stream",
     "text": [
      "A quick brown fox jumps  over the lazy dog . dog are smart pet.\n",
      "63\n",
      "False\n",
      "True\n",
      "1\n",
      "1\n",
      "14\n",
      "14\n",
      "1\n",
      "A quick brown fox jumps  over the lazy cat . cat are smart pet.\n"
     ]
    }
   ],
   "source": [
    "story = \"A quick brown fox jumps  over the lazy dog . dog are smart pet.\"\n",
    "\n",
    "print(story)\n",
    "print(len(story))\n",
    "print(story.endswith(\"dog\"))\n",
    "print(story.endswith(\".\"))\n",
    "print(story.count(\"v\"))\n",
    "print(story.count(\"brown\"))\n",
    "print(story.count(\" \"))\n",
    "print(story.find(\"fox\"))\n",
    "print(story.find(\" \"))\n",
    "print(story.replace(\"dog\", \"cat\"))"
   ]
  },
  {
   "cell_type": "markdown",
   "id": "fd14fe46",
   "metadata": {},
   "source": [
    "# space sequence character:\n",
    "they are special characters who used to make output better.\n",
    "some of them are :<br>\n",
    "\\n : new line<br>\n",
    "\\t : a tab<br>\n",
    "\\\\ : useing \\ <br>\n",
    "\\ : use same quote as start or end inside the strings and etc."
   ]
  },
  {
   "cell_type": "code",
   "execution_count": 72,
   "id": "1e0b0622",
   "metadata": {},
   "outputs": [
    {
     "name": "stdout",
     "output_type": "stream",
     "text": [
      "this is a ball.\n",
      "this color is blue.\n",
      "in maths,\n",
      "\tif we divide 2 into 2 (2/2) is 1\n",
      " and this is harry's\tball.\\'\n"
     ]
    }
   ],
   "source": [
    "new_story = \"this is a ball.\\nthis color is blue.\\nin maths,\\n\\tif we divide 2 into 2 (2/2) is 1\\n and this is harry\\'s\\tball.\\\\'\"\n",
    "\n",
    "print(new_story)"
   ]
  },
  {
   "cell_type": "markdown",
   "id": "15da53a8",
   "metadata": {},
   "source": [
    "# excersize:"
   ]
  },
  {
   "cell_type": "code",
   "execution_count": 73,
   "id": "ec42ea8c",
   "metadata": {},
   "outputs": [
    {
     "name": "stdout",
     "output_type": "stream",
     "text": [
      "enter your name: Rajendra Kumar Randa\n",
      "enter date: 22/12/2022\n",
      "********** greeting ************\n",
      "Dear Rajendra Kumar Randa ,\n",
      "greeting from company 'ABC'. I'm happy to tell about your selection. \n",
      "you're selected.\n",
      "\n",
      "have a great day!\n",
      "\t\t\t\t\t\tdate: 22/12/2022\n"
     ]
    }
   ],
   "source": [
    "# ex 1\n",
    "letter = '''Dear <|NAME|> ,\n",
    "greeting from company 'ABC'. I'm happy to tell about your selection. \n",
    "you're selected.\\n\n",
    "have a great day!\n",
    "\\t\\t\\t\\t\\t\\tdate: <|DATE|>'''\n",
    "\n",
    "name = input(\"enter your name: \")\n",
    "date = input(\"enter date: \")\n",
    "\n",
    "letter = letter.replace(\"<|NAME|>\",name)\n",
    "letter = letter.replace(\"<|DATE|>\",date)\n",
    "\n",
    "print(\"********** greeting ************\")\n",
    "print(letter)"
   ]
  },
  {
   "cell_type": "raw",
   "id": "83d92c36",
   "metadata": {},
   "source": [
    "# find double space and exchange it to single"
   ]
  },
  {
   "cell_type": "code",
   "execution_count": 74,
   "id": "4f177dc7",
   "metadata": {},
   "outputs": [
    {
     "name": "stdout",
     "output_type": "stream",
     "text": [
      "10\n",
      "-1\n",
      "this is my book.\n"
     ]
    }
   ],
   "source": [
    "str1 = \"this is my  ball.\"\n",
    "str2 = \"this is my pen.\"\n",
    "str3 = \"this  is my  book.\"\n",
    "doublespace1 = str1.find(\"  \")\n",
    "doublespace2 = str2.find(\"  \")\n",
    "print(doublespace1)\n",
    "print(doublespace2)\n",
    "\n",
    "str3 = str3.replace(\"  \",\" \")\n",
    "print(str3)"
   ]
  },
  {
   "cell_type": "raw",
   "id": "85f6af0c",
   "metadata": {},
   "source": [
    "#format the latter? \n",
    "ltr = \"dear harry, this python course is nice!thanks!\""
   ]
  },
  {
   "cell_type": "code",
   "execution_count": 75,
   "id": "8eab5606",
   "metadata": {},
   "outputs": [
    {
     "name": "stdout",
     "output_type": "stream",
     "text": [
      "dear harry, \n",
      "\tthis python course is nice!\n",
      "\t\t\t\t\t\t\tthanks!\n"
     ]
    }
   ],
   "source": [
    "ltr = \"dear harry, this python course is nice!thanks!\"\n",
    "formatted_letter = \"dear harry, \\n\\tthis python course is nice!\\n\\t\\t\\t\\t\\t\\t\\tthanks!\"\n",
    "print(formatted_letter)"
   ]
  },
  {
   "cell_type": "markdown",
   "id": "718c8976",
   "metadata": {},
   "source": [
    "# List (data type)\n",
    "Lists are used to store multiple items in a single variable.\n",
    "it's changable/ mutable and indexed/ordered, it allows duplicates."
   ]
  },
  {
   "cell_type": "raw",
   "id": "c9ec5154",
   "metadata": {},
   "source": [
    "empty list :"
   ]
  },
  {
   "cell_type": "code",
   "execution_count": 76,
   "id": "1479fbb0",
   "metadata": {},
   "outputs": [
    {
     "name": "stdout",
     "output_type": "stream",
     "text": [
      "[]\n",
      "0\n",
      "<class 'list'>\n",
      "[2]\n",
      "1\n",
      "<class 'list'>\n"
     ]
    }
   ],
   "source": [
    "l = []\n",
    "print(l)\n",
    "print(len(l))\n",
    "print(type(l))\n",
    "\n",
    "# after add an element\n",
    "l.insert(0,2)\n",
    "print(l)\n",
    "print(len(l))\n",
    "print(type(l))"
   ]
  },
  {
   "cell_type": "code",
   "execution_count": 77,
   "id": "1a495429",
   "metadata": {},
   "outputs": [
    {
     "name": "stdout",
     "output_type": "stream",
     "text": [
      "list :  [1, 2.3, 'ram', True, 0, 0, 0]\n",
      "type :  <class 'list'>\n",
      "length :  7\n",
      "index of [0] :  1\n",
      "index of [2] :  ram\n",
      "type of element of list on index[1] :  <class 'float'>\n",
      "type of element of list on index[2] :  <class 'str'>\n"
     ]
    }
   ],
   "source": [
    "a = [1, 2.3, 'ram', True, 0, 0, 0]\n",
    "\n",
    "print(\"list : \",a)\n",
    "print(\"type : \",type(a))\n",
    "print(\"length : \",len(a))\n",
    "print(\"index of [0] : \",a[0])\n",
    "print(\"index of [2] : \",a[2])\n",
    "# print(\"index of [6] : \",a[6])       # out of index\n",
    "print(\"type of element of list on index[1] : \",type(a[1]))\n",
    "print(\"type of element of list on index[2] : \",type(a[2]))"
   ]
  },
  {
   "cell_type": "code",
   "execution_count": 78,
   "id": "1e797c25",
   "metadata": {},
   "outputs": [
    {
     "name": "stdout",
     "output_type": "stream",
     "text": [
      "after update item on index[6] list will be :  [1, 2.3, 'ram', True, 0, 0, 9]\n"
     ]
    }
   ],
   "source": [
    "a[6] = 9\n",
    "print(\"after update item on index[6] list will be : \",a)"
   ]
  },
  {
   "cell_type": "raw",
   "id": "23b0ae29",
   "metadata": {},
   "source": [
    "NOTE : also index works same as work on strings"
   ]
  },
  {
   "cell_type": "code",
   "execution_count": 79,
   "id": "48c78c47",
   "metadata": {},
   "outputs": [
    {
     "name": "stdout",
     "output_type": "stream",
     "text": [
      "['ram', 'syam', 'mohan', 'sohan', 'meena', 'sita', 4, 500]\n",
      "['ram', 'syam', 'mohan', 'sohan']\n",
      "['meena', 'sita', 4, 500]\n",
      "['ram', 'syam', 'mohan', 'sohan', 'meena', 'sita', 4, 'kajal']\n"
     ]
    }
   ],
   "source": [
    "friends = [\"ram\",\"syam\",\"mohan\",\"sohan\",\"meena\",\"sita\", 4, 500]\n",
    "\n",
    "print(friends)\n",
    "\n",
    "print(friends[:4]) #slice with index\n",
    "print(friends[-4:]) #slice with index\n",
    "\n",
    "friends[-1] = \"kajal\"\n",
    "print(friends)"
   ]
  },
  {
   "cell_type": "markdown",
   "id": "35a6cb87",
   "metadata": {},
   "source": [
    "# functions on list:"
   ]
  },
  {
   "cell_type": "code",
   "execution_count": 80,
   "id": "51393d36",
   "metadata": {},
   "outputs": [
    {
     "name": "stdout",
     "output_type": "stream",
     "text": [
      "num[:3] =  [1, 16, 56]\n",
      "num[3:] =  [10, 0, 14, 0]\n",
      "num[::2] =  [1, 56, 0, 0]\n"
     ]
    }
   ],
   "source": [
    "num = [1, 16, 56, 10, 0, 14, 0]\n",
    "\n",
    "print(\"num[:3] = \",num[:3])    # num[0:3]\n",
    "print(\"num[3:] = \",num[3:])    # num[3:last element]\n",
    "print(\"num[::2] = \",num[::2])    #num[0:n-1:2nd element skipped]"
   ]
  },
  {
   "cell_type": "markdown",
   "id": "ed29c779",
   "metadata": {},
   "source": [
    "***sort the list of char./no.***"
   ]
  },
  {
   "cell_type": "code",
   "execution_count": 81,
   "id": "f04dc03c",
   "metadata": {},
   "outputs": [
    {
     "name": "stdout",
     "output_type": "stream",
     "text": [
      "sorted list :  [0, 0, 1, 10, 14, 16, 56]\n"
     ]
    }
   ],
   "source": [
    "num = [1, 16, 56, 10, 0, 14, 0]\n",
    "num.sort()\n",
    "print(\"sorted list : \",num)"
   ]
  },
  {
   "cell_type": "markdown",
   "id": "bb7f3e23",
   "metadata": {},
   "source": [
    "***reverse the list:***"
   ]
  },
  {
   "cell_type": "code",
   "execution_count": 82,
   "id": "4428f03e",
   "metadata": {},
   "outputs": [
    {
     "name": "stdout",
     "output_type": "stream",
     "text": [
      "reversed list :  [0, 14, 0, 10, 56, 16, 1]\n"
     ]
    }
   ],
   "source": [
    "num = [1, 16, 56, 10, 0, 14, 0]\n",
    "num.reverse()\n",
    "print(\"reversed list : \",num)"
   ]
  },
  {
   "cell_type": "markdown",
   "id": "6ca86d0c",
   "metadata": {},
   "source": [
    "# some baasic functions on list:"
   ]
  },
  {
   "cell_type": "code",
   "execution_count": null,
   "id": "61925dbb",
   "metadata": {},
   "outputs": [],
   "source": [
    "num = [1, 16, 56, 10, 14, 1, 0]\n",
    "\n",
    "print(num)\n",
    "\n",
    "num.sort()\n",
    "print(\"sort : \",num)\n",
    "\n",
    "num.reverse()\n",
    "print(\"reverse : \",num)\n",
    "\n",
    "num.append(50)\n",
    "print(\"append 50 : \",num)\n",
    "\n",
    "num.insert(0, 2.3)      # insert(index no, value)\n",
    "print(\"insert '2.3' on index[0] : \",num)\n",
    "\n",
    "num.pop(1)      # pop(index)\n",
    "print(\"pop '1' : \",num)\n",
    "\n",
    "num.pop()\n",
    "print(\"pop : \",num)  #remove last item\n",
    "\n",
    "num.remove(0)   # remove(value)\n",
    "print(\"remove '0' : \",num)\n",
    "\n",
    "del num[1]      #delete item permanantly from source list\n",
    "print(\"del index[1] : \",num)"
   ]
  },
  {
   "cell_type": "raw",
   "id": "1a3455c1",
   "metadata": {},
   "source": [
    "clear and del functions:\n",
    "\n",
    "a = [1,3,5,6,4,6,3]\n",
    "b = [1,3,54,2,5,7,4]\n",
    "# del, delete entire list\n",
    "# del a\n",
    "print(a)\n",
    "output: NameError: name 'a' is not defined\n",
    "# clear() the list content\n",
    "b.clear()\n",
    "print(b)\n",
    "output: []"
   ]
  },
  {
   "cell_type": "markdown",
   "id": "239829da",
   "metadata": {},
   "source": [
    "## extend : murge two datatype"
   ]
  },
  {
   "cell_type": "code",
   "execution_count": 84,
   "id": "faff2566",
   "metadata": {},
   "outputs": [
    {
     "name": "stdout",
     "output_type": "stream",
     "text": [
      "['a', 'b', 'c', 'p', 'q', 'z']\n",
      "['a', 'b', 'c', 1, 2, 3]\n"
     ]
    }
   ],
   "source": [
    "# list with list\n",
    "x = ['a','b','c']\n",
    "y = ['p','q','z']\n",
    "x.extend(y)\n",
    "print(x)\n",
    "# list with tuple\n",
    "p = ['a','b','c']\n",
    "q = (1,2,3)\n",
    "p.extend(q)\n",
    "print(p)"
   ]
  },
  {
   "cell_type": "markdown",
   "id": "3e5767e7",
   "metadata": {},
   "source": [
    "### list with loop:"
   ]
  },
  {
   "cell_type": "code",
   "execution_count": 85,
   "id": "da16b84b",
   "metadata": {},
   "outputs": [
    {
     "name": "stdout",
     "output_type": "stream",
     "text": [
      "enter name :ram\n",
      "yes,it is...\n"
     ]
    }
   ],
   "source": [
    "l = ['ram', 'sohan', 'mohan']\n",
    "x = input(\"enter name :\")\n",
    "if x in l:\n",
    "    print(\"yes,it is...\")\n",
    "else:\n",
    "    print(\"no, it is not...\")"
   ]
  },
  {
   "cell_type": "code",
   "execution_count": 87,
   "id": "cd6382d9",
   "metadata": {},
   "outputs": [
    {
     "name": "stdout",
     "output_type": "stream",
     "text": [
      "for:\n",
      "0\n",
      "10\n",
      "20\n",
      "30\n",
      "40\n",
      "50\n",
      "60\n",
      "70\n",
      "8\n",
      "90\n",
      "100\n",
      "for:\n",
      "40\n",
      "40\n",
      "40\n",
      "40\n",
      "40\n",
      "40\n",
      "40\n",
      "40\n",
      "40\n",
      "40\n",
      "40\n",
      "while :\n",
      "100\n"
     ]
    }
   ],
   "source": [
    "# some basic use list in loop\n",
    "x = [0, 10, 20, 30, 40, 50, 60, 70, 8, 90, 100]\n",
    "\n",
    "print(\"for:\")\n",
    "# print item one by one\n",
    "for item in x:\n",
    "    print(item)\n",
    "\n",
    "\n",
    "print(\"for:\")\n",
    "# print via index number using range() and len()\n",
    "for item in range(len(x)):\n",
    "    print(x[4])\n",
    "\n",
    "print(\"while :\")\n",
    "# using while loop\n",
    "i = 0\n",
    "while item<len(x):\n",
    "    print(x[item])\n",
    "    item = item + 1"
   ]
  },
  {
   "cell_type": "code",
   "execution_count": 89,
   "id": "370b1644",
   "metadata": {},
   "outputs": [
    {
     "name": "stdout",
     "output_type": "stream",
     "text": [
      "for:\n",
      "0\n",
      "10\n",
      "20\n",
      "30\n",
      "40\n",
      "50\n",
      "60\n",
      "70\n",
      "8\n",
      "90\n",
      "100\n"
     ]
    },
    {
     "data": {
      "text/plain": [
       "[None, None, None, None, None, None, None, None, None, None, None]"
      ]
     },
     "execution_count": 89,
     "metadata": {},
     "output_type": "execute_result"
    }
   ],
   "source": [
    "print(\"for:\")\n",
    "# using for loop\n",
    "x = [0, 10, 20, 30, 40, 50, 60, 70, 8, 90, 100]\n",
    "\n",
    "[print(item) for item in x]"
   ]
  },
  {
   "cell_type": "markdown",
   "id": "36576ab7",
   "metadata": {},
   "source": [
    "# tuple (data type):\n",
    "it is collection of all type of data type.<br><br>\n",
    "it is imutable(unchangable), allowed to hold duplicate values and also indexed/ordered."
   ]
  },
  {
   "cell_type": "raw",
   "id": "ff253148",
   "metadata": {},
   "source": [
    "empty tuple:"
   ]
  },
  {
   "cell_type": "code",
   "execution_count": 90,
   "id": "cbf4b50c",
   "metadata": {},
   "outputs": [
    {
     "name": "stdout",
     "output_type": "stream",
     "text": [
      "()\n",
      "<class 'tuple'>\n",
      "0\n"
     ]
    }
   ],
   "source": [
    "empty_tuple = ()\n",
    "print(empty_tuple)\n",
    "print(type(empty_tuple))\n",
    "print(len(empty_tuple))"
   ]
  },
  {
   "cell_type": "raw",
   "id": "ffb000ac",
   "metadata": {},
   "source": [
    "tuple with single value:"
   ]
  },
  {
   "cell_type": "code",
   "execution_count": 91,
   "id": "8cdcc32f",
   "metadata": {},
   "outputs": [
    {
     "name": "stdout",
     "output_type": "stream",
     "text": [
      "3\n",
      "<class 'int'>\n",
      "(2,)\n",
      "<class 'tuple'>\n"
     ]
    }
   ],
   "source": [
    "t = (3)   # wrong way\n",
    "print(t)\n",
    "print(type(t))\n",
    "\n",
    "t = (2,)  # right way\n",
    "print(t)\n",
    "print(type(t))"
   ]
  },
  {
   "cell_type": "markdown",
   "id": "ccbd5a5b",
   "metadata": {},
   "source": [
    "# operations on tuple:"
   ]
  },
  {
   "cell_type": "code",
   "execution_count": 1,
   "id": "cd119d52",
   "metadata": {},
   "outputs": [
    {
     "name": "stdout",
     "output_type": "stream",
     "text": [
      "(0, 12, 2.5, 24, 50, 2, 2, 2)\n",
      "<class 'tuple'>\n",
      "<class 'float'>\n",
      "\n",
      "count '2' :  3\n",
      "index(50) :  4\n"
     ]
    }
   ],
   "source": [
    "t = (0, 12, 2.5, 24, 50, 2, 2, 2)\n",
    "print(t)\n",
    "print(type(t))\n",
    "print(type(t[2]))\n",
    "print(\"\")\n",
    "print(\"count '2' : \", t.count(2))\n",
    "print(\"index(50) : \", t.index(50))   # return index no by value index(value)"
   ]
  },
  {
   "cell_type": "code",
   "execution_count": 2,
   "id": "bc5e90c5",
   "metadata": {},
   "outputs": [
    {
     "name": "stdout",
     "output_type": "stream",
     "text": [
      "('apple', 'banana', 'cherry')\n",
      "<class 'tuple'>\n",
      "['apple', 'kiwi', 'cherry']\n",
      "<class 'list'>\n",
      "('apple', 'kiwi', 'cherry')\n",
      "<class 'tuple'>\n"
     ]
    }
   ],
   "source": [
    "# convert tuple into list to update it?\n",
    "x = ('apple','banana','cherry')\n",
    "print(x)\n",
    "print(type(x))\n",
    "\n",
    "y = list(x)\n",
    "y[1] = 'kiwi'\n",
    "\n",
    "print(y)\n",
    "print(type(y))\n",
    "\n",
    "x = tuple(y)\n",
    "print(x)\n",
    "print(type(x))\n",
    "\n",
    "# by this way we can perform all operation on tuples"
   ]
  },
  {
   "cell_type": "code",
   "execution_count": 3,
   "id": "7ca45a95",
   "metadata": {},
   "outputs": [
    {
     "name": "stdout",
     "output_type": "stream",
     "text": [
      "1\n",
      "3\n",
      "5\n",
      "6\n",
      "7\n",
      "8\n"
     ]
    }
   ],
   "source": [
    "# loop with tuple\n",
    "a = (1,3,5,6,7,8)\n",
    "for i in a:\n",
    "    print(i)"
   ]
  },
  {
   "cell_type": "code",
   "execution_count": 4,
   "id": "82b0da4e",
   "metadata": {},
   "outputs": [
    {
     "name": "stdout",
     "output_type": "stream",
     "text": [
      "1\n",
      "3\n",
      "5\n",
      "6\n",
      "7\n",
      "8\n"
     ]
    }
   ],
   "source": [
    "# loop with tuple and range\n",
    "a = (1,3,5,6,7,8)\n",
    "for i in range(len(a)):\n",
    "    print(a[i])"
   ]
  },
  {
   "cell_type": "code",
   "execution_count": 6,
   "id": "5931b736",
   "metadata": {},
   "outputs": [
    {
     "name": "stdout",
     "output_type": "stream",
     "text": [
      "1\n",
      "2\n",
      "3\n",
      "4\n",
      "5\n",
      "6\n"
     ]
    }
   ],
   "source": [
    "# tuple with while loop\n",
    "ab = (1,2,3,4,5,6)\n",
    "i = 0\n",
    "while i < len(ab):\n",
    "    print(ab[i])\n",
    "    i = i + 1"
   ]
  },
  {
   "cell_type": "markdown",
   "id": "9155591f",
   "metadata": {},
   "source": [
    "## math with tuple:"
   ]
  },
  {
   "cell_type": "code",
   "execution_count": 7,
   "id": "f5dd9cb9",
   "metadata": {},
   "outputs": [
    {
     "name": "stdout",
     "output_type": "stream",
     "text": [
      "('a', 'b', 'c', 1, 2, 3)\n",
      "('apple', 'banana', 'cherry', 'apple', 'banana', 'cherry')\n"
     ]
    }
   ],
   "source": [
    "# Join two tuples:\n",
    "tuple1 = (\"a\", \"b\" , \"c\")\n",
    "tuple2 = (1, 2, 3)\n",
    "tuple3 = tuple1 + tuple2\n",
    "print(tuple3)\n",
    "\n",
    "# Multiply the fruits tuple by 2:\n",
    "fruits = (\"apple\", \"banana\", \"cherry\")\n",
    "mytuple = fruits * 2\n",
    "print(mytuple)"
   ]
  },
  {
   "cell_type": "markdown",
   "id": "9009f313",
   "metadata": {},
   "source": [
    "# Using Asterisk*\n",
    "If the number of variables is less than the number of values, you can add an * to the variable name and the values will be assigned to the variable as a list:"
   ]
  },
  {
   "cell_type": "raw",
   "id": "560f518c",
   "metadata": {},
   "source": [
    "quiz: Assign the rest of the values as a list called \"red\":"
   ]
  },
  {
   "cell_type": "code",
   "execution_count": 8,
   "id": "4eddd975",
   "metadata": {},
   "outputs": [
    {
     "name": "stdout",
     "output_type": "stream",
     "text": [
      "apple\n",
      "banana\n",
      "['cherry', 'strawberry', 'raspberry']\n"
     ]
    }
   ],
   "source": [
    "fruits = (\"apple\", \"banana\", \"cherry\", \"strawberry\", \"raspberry\")\n",
    "\n",
    "(green, yellow, *red) = fruits\n",
    "\n",
    "print(green)\n",
    "print(yellow)\n",
    "print(red)"
   ]
  },
  {
   "cell_type": "markdown",
   "id": "b9c8fa72",
   "metadata": {},
   "source": [
    "# revision (list & tuple):"
   ]
  },
  {
   "cell_type": "raw",
   "id": "55ab5b90",
   "metadata": {},
   "source": [
    "enter 5 fruit name and create list"
   ]
  },
  {
   "cell_type": "code",
   "execution_count": 9,
   "id": "80197e44",
   "metadata": {},
   "outputs": [
    {
     "name": "stdout",
     "output_type": "stream",
     "text": [
      "enter fruit no 1 : apple\n",
      "enter fruit no 2 : banana\n",
      "enter fruit no 3 : papaya\n",
      "enter fruit no 4 : graps\n",
      "enter fruit no 5 : cherry\n",
      "list of give fruits are :  ['apple', 'banana', 'papaya', 'graps', 'cherry']\n",
      "<class 'list'>\n",
      "5\n"
     ]
    }
   ],
   "source": [
    "f1 = input(\"enter fruit no 1 : \")\n",
    "f2 = input(\"enter fruit no 2 : \")\n",
    "f3 = input(\"enter fruit no 3 : \")\n",
    "f4 = input(\"enter fruit no 4 : \")\n",
    "f5 = input(\"enter fruit no 5 : \")\n",
    "\n",
    "l =[f1, f2, f3, f4, f5]\n",
    "\n",
    "print(\"list of give fruits are : \", l)\n",
    "print(type(l))\n",
    "print(len(l))"
   ]
  },
  {
   "cell_type": "raw",
   "id": "c66543e7",
   "metadata": {},
   "source": [
    "collect marks of 5 student and store it in incresing order"
   ]
  },
  {
   "cell_type": "code",
   "execution_count": 10,
   "id": "192674ff",
   "metadata": {},
   "outputs": [
    {
     "name": "stdout",
     "output_type": "stream",
     "text": [
      "enter marks of student no. 1 : 98\n",
      "enter marks of student no. 2 : 79\n",
      "enter marks of student no. 3 : 86\n",
      "enter marks of student no. 4 : 98\n",
      "enter marks of student no. 5 : 59\n",
      "marks of students are in sorted form :  [59, 79, 86, 98, 98]\n"
     ]
    }
   ],
   "source": [
    "m1  = int(input(\"enter marks of student no. 1 : \"))\n",
    "m2  = int(input(\"enter marks of student no. 2 : \"))\n",
    "m3  = int(input(\"enter marks of student no. 3 : \"))\n",
    "m4  = int(input(\"enter marks of student no. 4 : \"))\n",
    "m5  = int(input(\"enter marks of student no. 5 : \"))\n",
    "\n",
    "l = [m1, m2, m3, m4, m5]\n",
    "l.sort()\n",
    "print(\"marks of students are in sorted form : \", l)"
   ]
  },
  {
   "cell_type": "raw",
   "id": "634bcdb0",
   "metadata": {},
   "source": [
    "prove that tuple is immutable?"
   ]
  },
  {
   "cell_type": "raw",
   "id": "abebc0e2",
   "metadata": {},
   "source": [
    "t = (1, 23, 45, 78, 0)\n",
    "t[1] = 20\n",
    "print(t)\n",
    "---------------------------------------------------------------------------\n",
    "TypeError                                 Traceback (most recent call last)\n",
    "~\\AppData\\Local\\Temp\\ipykernel_24548\\2602675683.py in <module>\n",
    "      1 # prove that tuple is immutable?\n",
    "      2 t = (1, 23, 45, 78, 0)\n",
    "----> 3 t[1] = 20\n",
    "      4 print(t)\n",
    "\n",
    "TypeError: 'tuple' object does not support item assignment"
   ]
  },
  {
   "cell_type": "raw",
   "id": "8ff3431a",
   "metadata": {},
   "source": [
    "sum of element of list"
   ]
  },
  {
   "cell_type": "code",
   "execution_count": 11,
   "id": "9ed9676e",
   "metadata": {},
   "outputs": [
    {
     "name": "stdout",
     "output_type": "stream",
     "text": [
      "sum :  114\n",
      "sum :  114\n"
     ]
    }
   ],
   "source": [
    "mylist = [12, 23, 34, 45]\n",
    "# way 1 : without using loop\n",
    "sum = mylist[0] + mylist[1] + mylist[2] + mylist[3]\n",
    "print(\"sum : \",sum)\n",
    "# way 2\n",
    "total = 0\n",
    "for x in range(0, len(mylist)):\n",
    "    total = total + mylist[x]\n",
    "print(\"sum : \",total)"
   ]
  },
  {
   "cell_type": "raw",
   "id": "ac8b2390",
   "metadata": {},
   "source": [
    "count zeroes in tuple"
   ]
  },
  {
   "cell_type": "code",
   "execution_count": 12,
   "id": "896e0d42",
   "metadata": {},
   "outputs": [
    {
     "name": "stdout",
     "output_type": "stream",
     "text": [
      "total no of zeroes :  4\n"
     ]
    }
   ],
   "source": [
    "t  = ( 0, 21, 1, 0, 4, 6, 23, 0, 0 )\n",
    "print(\"total no of zeroes : \",t.count(0))"
   ]
  },
  {
   "cell_type": "raw",
   "id": "97e6f5c1",
   "metadata": {},
   "source": [
    "Using the tuple() method to make a tuple:"
   ]
  },
  {
   "cell_type": "code",
   "execution_count": 13,
   "id": "1e4dbe54",
   "metadata": {},
   "outputs": [
    {
     "name": "stdout",
     "output_type": "stream",
     "text": [
      "('apple', 'banana', 'cherry')\n"
     ]
    }
   ],
   "source": [
    " # note the double round-brackets\n",
    "thistuple = tuple((\"apple\", \"banana\", \"cherry\"))\n",
    "print(thistuple)"
   ]
  },
  {
   "cell_type": "raw",
   "id": "9ff22ce4",
   "metadata": {},
   "source": [
    "check specific number in tuple"
   ]
  },
  {
   "cell_type": "code",
   "execution_count": 14,
   "id": "96f076f0",
   "metadata": {},
   "outputs": [
    {
     "name": "stdout",
     "output_type": "stream",
     "text": [
      "true\n"
     ]
    }
   ],
   "source": [
    "t = (1,2,3,4,56)\n",
    "if 1 in t:\n",
    "    print(\"true\")\n",
    "else:\n",
    "    print(\"false\")"
   ]
  },
  {
   "cell_type": "markdown",
   "id": "755350d4",
   "metadata": {},
   "source": [
    "# Dictionary:\n",
    "its collection of 'key-value' pairs.\n",
    "<br>it is indexed, unordered, mutable(changable), and hold non-duplicate keys."
   ]
  },
  {
   "cell_type": "markdown",
   "id": "4311a150",
   "metadata": {},
   "source": [
    "***NOTE: if two keys wpuld be same than key will hold new updated value and if\n",
    "values are same it doesn't matter.***"
   ]
  },
  {
   "cell_type": "code",
   "execution_count": 1,
   "id": "67ed5981",
   "metadata": {},
   "outputs": [
    {
     "name": "stdout",
     "output_type": "stream",
     "text": [
      "{}\n",
      "<class 'dict'>\n",
      "{'a': 1, 'b': 2, 'c': 3}\n",
      "<class 'dict'>\n",
      "{'x': 1, 'y': 3, 'z': 'raj'}\n",
      "<class 'dict'>\n"
     ]
    }
   ],
   "source": [
    "empty_dict = {}\n",
    "print(empty_dict)\n",
    "print(type(empty_dict))\n",
    "\n",
    "d = {'a': 1,'b': 2,'c':3,}\n",
    "print(d)\n",
    "print(type(d))\n",
    "\n",
    "d2 = dict(x = 1, y = 3, z = 'raj')\n",
    "print(d2)\n",
    "print(type(d2))"
   ]
  },
  {
   "cell_type": "code",
   "execution_count": 2,
   "id": "51e628e0",
   "metadata": {},
   "outputs": [
    {
     "name": "stdout",
     "output_type": "stream",
     "text": [
      "Dictionary is :  {'red': 'one type of color', 'fast': 'in a quick manner', 'harry': 'a programmer', 'l': [1, 2, 3, 4, 5], 't': (10, 20, 30, 40, 50), 'D': {'nu': [11, 12, 13, 14], 'tu': (110, 120, 130, 140), 'di': {'x': [7, 8, 9], 'y': (77, 88, 99), 'd2': {'m': [9, 99, 999], 'n': [8, 88, 888], 'o': (5, 55, 555)}}}}\n",
      "type of Dictionary is :  <class 'dict'>\n",
      "type of 'o' is :  <class 'tuple'>\n",
      "value of 'red' is :  one type of color\n",
      "value of 'fast' is :  in a quick manner\n",
      "value of 'harry' is :  a programmer\n",
      "value of 'l' is :  [1, 2, 3, 4, 5]\n",
      "value of 't' is :  (10, 20, 30, 40, 50)\n",
      "value of 'D' is :  {'nu': [11, 12, 13, 14], 'tu': (110, 120, 130, 140), 'di': {'x': [7, 8, 9], 'y': (77, 88, 99), 'd2': {'m': [9, 99, 999], 'n': [8, 88, 888], 'o': (5, 55, 555)}}}\n",
      "value of 'nu' is :  [11, 12, 13, 14]\n",
      "value of 'di' is :  {'x': [7, 8, 9], 'y': (77, 88, 99), 'd2': {'m': [9, 99, 999], 'n': [8, 88, 888], 'o': (5, 55, 555)}}\n",
      "value of 'x' is :  [7, 8, 9]\n",
      "value of 'd2' is :  {'m': [9, 99, 999], 'n': [8, 88, 888], 'o': (5, 55, 555)}\n",
      "value of 'o' is :  (5, 55, 555)\n",
      "keys :  dict_keys(['red', 'fast', 'harry', 'l', 't', 'D'])\n",
      "type of values :  <class 'dict_values'>\n",
      "values :  dict_values(['one type of color', 'in a quick manner', 'a programmer', [1, 2, 3, 4, 5], (10, 20, 30, 40, 50), {'nu': [11, 12, 13, 14], 'tu': (110, 120, 130, 140), 'di': {'x': [7, 8, 9], 'y': (77, 88, 99), 'd2': {'m': [9, 99, 999], 'n': [8, 88, 888], 'o': (5, 55, 555)}}}])\n",
      "type of keys :  <class 'dict_keys'>\n",
      "item :  dict_items([('red', 'one type of color'), ('fast', 'in a quick manner'), ('harry', 'a programmer'), ('l', [1, 2, 3, 4, 5]), ('t', (10, 20, 30, 40, 50)), ('D', {'nu': [11, 12, 13, 14], 'tu': (110, 120, 130, 140), 'di': {'x': [7, 8, 9], 'y': (77, 88, 99), 'd2': {'m': [9, 99, 999], 'n': [8, 88, 888], 'o': (5, 55, 555)}}})])\n",
      "keys :  ['red', 'fast', 'harry', 'l', 't', 'D']\n",
      "dict_items([('red', 'one type of color'), ('fast', 'in a quick manner'), ('harry', 'a programmer'), ('l', [1, 2, 3, 4, 5]), ('t', (10, 20, 30, 40, 50)), ('D', {'nu': [11, 12, 13, 14], 'tu': (110, 120, 130, 140), 'di': {'x': [7, 8, 9], 'y': (77, 88, 99), 'd2': {'m': [9, 99, 999], 'n': [8, 88, 888], 'o': (5, 55, 555)}, 'hero': 'save the life'}}), ('marks', ['a', 'b', 'c'])])\n"
     ]
    }
   ],
   "source": [
    "myDict = {\n",
    "    \"red\"  : 'one type of color',\n",
    "    \"fast\" : 'in a quick manner',\n",
    "    \"harry\": 'a programmer',\n",
    "    \"l\"    : [1, 2, 3, 4, 5],\n",
    "    \"t\"    : (10, 20, 30, 40, 50),\n",
    "    \"D\"    : {\n",
    "        \"nu\": [11, 12, 13, 14],\n",
    "        \"tu\": (110, 120, 130, 140),\n",
    "        \"di\": {\n",
    "            \"x\" : [7, 8, 9],\n",
    "            \"y\" : (77, 88, 99),\n",
    "            \"d2\":{\"m\": [9, 99, 999],\n",
    "                  \"n\": [8, 88, 888],\n",
    "                  \"o\":(5,55,555),\n",
    "                 }\n",
    "              }\n",
    "    },\n",
    "  }\n",
    "\n",
    "# print dictionary\n",
    "print(\"Dictionary is : \",myDict)\n",
    "\n",
    "# type of element N dictionary\n",
    "print(\"type of Dictionary is : \",type(myDict))\n",
    "print(\"type of 'o' is : \",type(myDict['D']['di']['d2']['o']))\n",
    "\n",
    "\n",
    "# print elements\n",
    "print(\"value of 'red' is : \",myDict['red'])\n",
    "print(\"value of 'fast' is : \",myDict['fast'])\n",
    "print(\"value of 'harry' is : \",myDict['harry'])\n",
    "print(\"value of 'l' is : \",myDict['l'])\n",
    "print(\"value of 't' is : \",myDict['t'])\n",
    "print(\"value of 'D' is : \",myDict['D'])\n",
    "\n",
    "# print inner elements\n",
    "print(\"value of 'nu' is : \",myDict['D']['nu'])\n",
    "print(\"value of 'di' is : \",myDict['D']['di'])\n",
    "\n",
    "# print inner value\n",
    "print(\"value of 'x' is : \",myDict['D']['di']['x'])\n",
    "print(\"value of 'd2' is : \",myDict['D']['di']['d2'])\n",
    "print(\"value of 'o' is : \",myDict['D']['di']['d2']['o'])\n",
    "\n",
    "print(\"keys : \",myDict.keys())\n",
    "print(\"type of values : \",type(myDict.values()))\n",
    "print(\"values : \",myDict.values())\n",
    "print(\"type of keys : \",type(myDict.keys()))\n",
    "\n",
    "# item() if you want to see key-value pair\n",
    "print(\"item : \",myDict.items())\n",
    "\n",
    "# convert key to list of keys:\n",
    "print(\"keys : \",list(myDict.keys()))\n",
    "\n",
    "# add value\n",
    "myDict['marks'] = ['a','b','c']\n",
    "myDict['D']['di']['hero'] = 'save the life'\n",
    "print(myDict.items())"
   ]
  },
  {
   "cell_type": "code",
   "execution_count": 3,
   "id": "497460eb",
   "metadata": {},
   "outputs": [
    {
     "name": "stdout",
     "output_type": "stream",
     "text": [
      "{'a': 'this is a', 'b': 'this is b', 'c': 'this is c'}\n",
      "dict_items([('a', 'this is a'), ('b', 'this is b'), ('c', 'this is c')])\n",
      "dict_keys(['a', 'b', 'c'])\n",
      "dict_values(['this is a', 'this is b', 'this is c'])\n",
      "after update :  {'a': 'this is a', 'b': 'this is b', 'c': 'this is c', 'd': 'this is d'}\n",
      "this is d\n",
      "this is d\n"
     ]
    }
   ],
   "source": [
    "newDict = {\n",
    "    'a': 'this is a',\n",
    "    'b': 'this is b',\n",
    "    'c': 'this is c',\n",
    "}\n",
    "print(newDict)\n",
    "print(newDict.items())\n",
    "print(newDict.keys())\n",
    "print(newDict.values())\n",
    "\n",
    "newDict['d'] = 'this is d'\n",
    "print('after update : ',newDict)\n",
    "\n",
    "print(newDict['d'])\n",
    "print(newDict.get('d'))"
   ]
  },
  {
   "cell_type": "raw",
   "id": "19345cb8",
   "metadata": {},
   "source": [
    "difference: we use get mathod in the place of using [] mathod b'coz if that pair would not exist in our dictionary than get() will return 'none' but [] will throw error\n",
    "\n",
    "newDict = {\n",
    "    'a': 'this is a',\n",
    "    'b': 'this is b',\n",
    "    'c': 'this is c',\n",
    "}\n",
    "# when u put right key\n",
    "print(newDict.get(\"c\"))\n",
    "print(newDict[\"c\"])\n",
    "# when u put wrong key\n",
    "print(newDict.get(\"d\")) #output : None\n",
    "print(newDict[\"d\"]) #output : error(keyError)\n",
    "\n",
    "\n",
    "Output:\n",
    "this is c\n",
    "this is c\n",
    "None\n",
    "---------------------------------------------------------------------------\n",
    "KeyError                                  Traceback (most recent call last)\n",
    "~\\AppData\\Local\\Temp\\ipykernel_3676\\1366039664.py in <module>\n",
    "     10 # when u put wrong key\n",
    "     11 print(newDict.get(\"d\")) #output : None\n",
    "---> 12 print(newDict[\"d\"]) #output : error(keyError)\n",
    "\n",
    "KeyError: 'd'"
   ]
  },
  {
   "cell_type": "code",
   "execution_count": 31,
   "id": "89402fce",
   "metadata": {},
   "outputs": [
    {
     "name": "stdout",
     "output_type": "stream",
     "text": [
      "Yes, 'model' is one of the keys in the thisdict dictionary\n"
     ]
    }
   ],
   "source": [
    "# if with dictionary:\n",
    "\n",
    "thisdict = {\n",
    "  \"brand\": \"Ford\",\n",
    "  \"model\": \"Mustang\",\n",
    "  \"year\": 1964\n",
    "}\n",
    "if \"model\" in thisdict:\n",
    "    print(\"Yes, 'model' is one of the keys in the thisdict dictionary\")\n",
    "else:\n",
    "    print(\"sorry, we keyword doesn't match...\")"
   ]
  },
  {
   "cell_type": "code",
   "execution_count": null,
   "id": "60746e43",
   "metadata": {},
   "outputs": [],
   "source": [
    "# Change the value:\n",
    "thisdict = {\n",
    "  \"brand\": \"Ford\",\n",
    "  \"model\": \"Mustang\",\n",
    "  \"year\": 1964\n",
    "}\n",
    "thisdict[\"year\"] = 2018\n",
    "print(thisdict)\n",
    "\n",
    "# update dictionary\n",
    "thisdict.update({'year':2020})\n",
    "print(thisdict)\n",
    "\n",
    "# add pair\n",
    "thisdict.update({'color': 'blue'})\n",
    "print(thisdict)\n",
    "\n",
    "# add pair\n",
    "thisdict['engin'] = '900CC'\n",
    "print(thisdict)\n",
    "\n",
    "# delete pair\n",
    "del thisdict['engin']\n",
    "print(thisdict)"
   ]
  },
  {
   "cell_type": "code",
   "execution_count": 32,
   "id": "5399c095",
   "metadata": {},
   "outputs": [
    {
     "name": "stdout",
     "output_type": "stream",
     "text": [
      "brand\n",
      "model\n",
      "year\n",
      "brand\n",
      "model\n",
      "year\n",
      "Ford\n",
      "Mustang\n",
      "1964\n",
      "Ford\n",
      "Mustang\n",
      "1964\n",
      "brand Ford\n",
      "model Mustang\n",
      "year 1964\n",
      "brand  :  Ford\n",
      "model  :  Mustang\n",
      "year  :  1964\n"
     ]
    }
   ],
   "source": [
    "# loop in dictionary\n",
    "thisdict = {\n",
    "  \"brand\": \"Ford\",\n",
    "  \"model\": \"Mustang\",\n",
    "  \"year\": 1964\n",
    " }\n",
    "\n",
    "# print all key names\n",
    "for x in thisdict:\n",
    "    print(x)\n",
    "    \n",
    "# print all keys\n",
    "for x in thisdict.keys():\n",
    "    print(x)\n",
    "    \n",
    "# print all values\n",
    "for x in thisdict:\n",
    "    print(thisdict[x])\n",
    "    \n",
    "# print all values\n",
    "for x in thisdict.values():\n",
    "    print(x)\n",
    "    \n",
    "# print pairs of dict\n",
    "for x,y in thisdict.items():\n",
    "    print(x,y)\n",
    "    \n",
    "# print pairs of dict in better way\n",
    "for x,y in thisdict.items():\n",
    "    print(x,\" : \",y)"
   ]
  },
  {
   "cell_type": "markdown",
   "id": "6ce0a8d3",
   "metadata": {},
   "source": [
    "# some functions with dictionary :"
   ]
  },
  {
   "cell_type": "code",
   "execution_count": 34,
   "id": "488979dc",
   "metadata": {},
   "outputs": [
    {
     "name": "stdout",
     "output_type": "stream",
     "text": [
      "{'brand': 'Ford', 'model': 'Mustang', 'year': 1964}\n",
      "{'brand': 'Ford', 'model': 'Mustang', 'year': 1964}\n"
     ]
    }
   ],
   "source": [
    "thisdict = {\n",
    "  \"brand\": \"Ford\",\n",
    "  \"model\": \"Mustang\",\n",
    "  \"year\": 1964\n",
    " }\n",
    "# make a copy of dict using co[y]\n",
    "mydict = thisdict.copy()\n",
    "print(mydict)\n",
    "\n",
    "# make a copy of dict using dict()\n",
    "mydict1 = dict(thisdict)\n",
    "print(mydict1)"
   ]
  },
  {
   "cell_type": "code",
   "execution_count": 35,
   "id": "808dca91",
   "metadata": {},
   "outputs": [
    {
     "name": "stdout",
     "output_type": "stream",
     "text": [
      "Tobias\n"
     ]
    }
   ],
   "source": [
    "# nexted dictionary\n",
    "child1 = {\n",
    "  \"name\" : \"Emil\",\n",
    "  \"year\" : 2004\n",
    "}\n",
    "child2 = {\n",
    "  \"name\" : \"Tobias\",\n",
    "  \"year\" : 2007\n",
    "}\n",
    "child3 = {\n",
    "  \"name\" : \"Linus\",\n",
    "  \"year\" : 2011\n",
    "}\n",
    "\n",
    "myfamily = {\n",
    "  \"child1\" : child1,\n",
    "  \"child2\" : child2,\n",
    "  \"child3\" : child3\n",
    "}\n",
    "\n",
    "print(myfamily[\"child2\"][\"name\"])"
   ]
  },
  {
   "cell_type": "markdown",
   "id": "914b146c",
   "metadata": {},
   "source": [
    "# Dictionary Methods:\n",
    "    Python has a set of built-in methods that you can use on dictionaries."
   ]
  },
  {
   "cell_type": "raw",
   "id": "a3b282c8",
   "metadata": {},
   "source": [
    "Method                 Description\n",
    "\n",
    "clear()       Removes all the elements from the dictionary\n",
    "copy()        Returns a copy of the dictionary\n",
    "fromkeys()    Returns a dictionary with the specified keys and value\n",
    "get()         Returns the value of the specified key\n",
    "items()       Returns a list containing a tuple for each key value pair\n",
    "keys()        Returns a list containing the dictionary's keys\n",
    "pop()         Removes the element with the specified key\n",
    "popitem()     Removes the last inserted key-value pair\n",
    "setdefault()  Returns the value of the specified key. If the key does not exist: insert the key, with the specified value\n",
    "update()      Updates the dictionary with the specified key-value pairs\n",
    "values()      Returns a list of all the values in the dictionary"
   ]
  },
  {
   "cell_type": "markdown",
   "id": "16f9558c",
   "metadata": {},
   "source": [
    "# set:\n",
    "it is non-pair, immutable/non-changable, non.indexed, unordered and not hold duplicate values. you can't change value but u can add or delete values."
   ]
  },
  {
   "cell_type": "code",
   "execution_count": 36,
   "id": "d5d818b6",
   "metadata": {},
   "outputs": [
    {
     "name": "stdout",
     "output_type": "stream",
     "text": [
      "set()\n",
      "<class 'set'>\n",
      "{10, 20, 30}\n"
     ]
    }
   ],
   "source": [
    "# empty set\n",
    "g = set()\n",
    "print(g)\n",
    "print(type(g))\n",
    "\n",
    "g.add(10)\n",
    "g.add(20)\n",
    "g.add(30)\n",
    "print(g)"
   ]
  },
  {
   "cell_type": "raw",
   "id": "12055695",
   "metadata": {},
   "source": [
    "functions on set()"
   ]
  },
  {
   "cell_type": "code",
   "execution_count": 37,
   "id": "644717c6",
   "metadata": {},
   "outputs": [
    {
     "name": "stdout",
     "output_type": "stream",
     "text": [
      "s :  {10, 20, 30}\n",
      "<class 'set'>\n",
      "s :  {40, 10, 20, 30}\n",
      "4\n"
     ]
    }
   ],
   "source": [
    "s = {10, 20, 30}\n",
    "print(\"s : \",s)\n",
    "print(type(s))\n",
    "s.add(40)\n",
    "print(\"s : \",s)\n",
    "print(len(s))"
   ]
  },
  {
   "cell_type": "raw",
   "id": "162c6466",
   "metadata": {},
   "source": [
    "note : you can't add mutable item in set data type"
   ]
  },
  {
   "cell_type": "code",
   "execution_count": 38,
   "id": "e79b2993",
   "metadata": {},
   "outputs": [
    {
     "name": "stdout",
     "output_type": "stream",
     "text": [
      "{True, 42, 11, 12.5, 51, 21, (3+9j), 31}\n",
      "remove 21 : {True, 42, 11, 12.5, 51, (3+9j), 31}\n",
      "{42, 11, 12.5, 51, (3+9j), 31}\n"
     ]
    }
   ],
   "source": [
    "a = {11, 21, 31, 42, 51, True, 12.5, 3+9j}\n",
    "# a.add(['a','b'])\n",
    "print(a)\n",
    "a.remove(21)\n",
    "print(\"remove 21 :\",a)\n",
    "a.pop()  # remove random item\n",
    "print(a)"
   ]
  },
  {
   "cell_type": "code",
   "execution_count": 39,
   "id": "6bdf05b9",
   "metadata": {},
   "outputs": [
    {
     "name": "stdout",
     "output_type": "stream",
     "text": [
      "{10, 35, 20, 30}\n",
      "<class 'set'>\n"
     ]
    }
   ],
   "source": [
    "b = set()\n",
    "b.add(10)\n",
    "b.add(20)\n",
    "b.add(30)\n",
    "b.add(35)\n",
    "print(b)\n",
    "print(type(b))"
   ]
  },
  {
   "cell_type": "raw",
   "id": "70f04be7",
   "metadata": {},
   "source": [
    "set is famous for some math numerical features."
   ]
  },
  {
   "cell_type": "code",
   "execution_count": 40,
   "id": "71be9ee5",
   "metadata": {},
   "outputs": [
    {
     "name": "stdout",
     "output_type": "stream",
     "text": [
      "s1 =  {6, 7, 8, 9, 10, 11}\n",
      "s2 =  {1, 2, 3, 4, 5, 6, 8, 10}\n",
      "union of 's1' and 's2' is : {1, 2, 3, 4, 5, 6, 7, 8, 9, 10, 11}\n",
      "intersection of 's1' and 's2' is : {1, 2, 3, 4, 5}\n",
      "all element who are not in both set s1 and s2 :  None\n"
     ]
    }
   ],
   "source": [
    "# union and intersection\n",
    "s1 = {1, 2, 3, 4, 5, 7, 9, 11}\n",
    "s2 = {1, 2, 4, 6, 8, 10, 3, 5}\n",
    "x = s1.union(s2)\n",
    "y = s1.intersection(s2)\n",
    "z = s1.symmetric_difference_update(s2)\n",
    "print('s1 = ',s1)\n",
    "print('s2 = ',s2)\n",
    "print(\"union of 's1' and 's2' is :\",x)\n",
    "print(\"intersection of 's1' and 's2' is :\",y)\n",
    "print(\"all element who are not in both set s1 and s2 : \",z)"
   ]
  },
  {
   "cell_type": "code",
   "execution_count": 41,
   "id": "7dba8a5b",
   "metadata": {},
   "outputs": [
    {
     "name": "stdout",
     "output_type": "stream",
     "text": [
      "set() {True, 2.5, 'a', 12} {False, 12.65, 13, 'char'}\n"
     ]
    }
   ],
   "source": [
    "s1 = set()\n",
    "s2 = {'a', True, 2.5, 12}\n",
    "s3 = set(('char', False, 12.65, 13))\n",
    "print(s1,s2,s3)"
   ]
  },
  {
   "cell_type": "code",
   "execution_count": 42,
   "id": "ef594c43",
   "metadata": {},
   "outputs": [
    {
     "name": "stdout",
     "output_type": "stream",
     "text": [
      "raj\n",
      "gita\n",
      "mohan\n",
      "sita\n",
      "True\n"
     ]
    }
   ],
   "source": [
    "# set with loop:\n",
    "myset = {'raj', 'mohan', 'sita', 'gita'}\n",
    "for x in myset:\n",
    "    print(x)\n",
    "\n",
    "# check value present or not\n",
    "print('raj' in myset)"
   ]
  },
  {
   "cell_type": "code",
   "execution_count": 43,
   "id": "adcf0b4f",
   "metadata": {},
   "outputs": [
    {
     "name": "stdout",
     "output_type": "stream",
     "text": [
      "{'c', 1, 'a', 2, 3, 'b'}\n",
      "{1, 2, 3, 'c', 'b', 'a'}\n"
     ]
    }
   ],
   "source": [
    "a1 = {'a', 'b', 'c'}\n",
    "a2 = {1, 2, 3}\n",
    "a1.update(a2)\n",
    "print(a1)\n",
    "a2.update(a1)\n",
    "print(a2)"
   ]
  },
  {
   "cell_type": "code",
   "execution_count": 45,
   "id": "f188717d",
   "metadata": {},
   "outputs": [
    {
     "name": "stdout",
     "output_type": "stream",
     "text": [
      "o is :  {'s', 'a', 12, 45, 'd'}\n",
      "remove :  {'s', 'a', 45, 'd'}\n",
      "discard :  {'s', 45, 'd'}\n",
      "{1, 3, 5, 7, 9}\n"
     ]
    }
   ],
   "source": [
    "# delete items in set \n",
    "o = {'a', 12, 'd', 45, 's'}\n",
    "print('o is : ',o)\n",
    "o.remove(12)\n",
    "print('remove : ',o)\n",
    "o.discard('a')\n",
    "print('discard : ',o)\n",
    "\n",
    "# delete any set \n",
    "x = {1, 3, 5, 7, 9}\n",
    "print(x)\n",
    "del x\n",
    "# print(x)      # 'x' is not define"
   ]
  },
  {
   "cell_type": "markdown",
   "id": "b5f16e0f",
   "metadata": {},
   "source": [
    "# Set Methods :"
   ]
  },
  {
   "cell_type": "raw",
   "id": "b020ebe9",
   "metadata": {},
   "source": [
    "Python has a set of built-in methods that you can use on sets.\n",
    "\n",
    "Method                                  Description\n",
    "\n",
    "add()                            Adds an element to the set\n",
    "clear()                          Removes all the elements from the set\n",
    "copy()                           Returns a copy of the set\n",
    "difference()                     Returns a set containing the difference between two or more sets\n",
    "difference_update()              Removes the items in this set that are also included in another, specified set\n",
    "discard()                        Remove the specified item\n",
    "intersection()                   Returns a set, that is the intersection of two other sets\n",
    "intersection_update()            Removes the items in this set that are not present in other, specified set(s)\n",
    "isdisjoint()                     Returns whether two sets have a intersection or not\n",
    "issubset()                       Returns whether another set contains this set or not\n",
    "issuperset()                     Returns whether this set contains another set or not\n",
    "pop()                            Removes an element from the set\n",
    "remove()                         Removes the specified element\n",
    "symmetric_difference()          Returns a set with the symmetric differences of two sets\n",
    "symmetric_difference_update()   inserts the symmetric differences from this set and another\n",
    "union()                         Return a set containing the union of sets\n",
    "update()                        Update the set with the union of this set and others"
   ]
  },
  {
   "cell_type": "markdown",
   "id": "bd51efd4",
   "metadata": {},
   "source": [
    "# excersize:\n",
    "    dictionary() and set()"
   ]
  },
  {
   "cell_type": "raw",
   "id": "e5bc5aea",
   "metadata": {},
   "source": [
    "create empty dict and allow your 4 friend to enter their fav_lang and\n",
    "use keys as their names, assume name will be unique"
   ]
  },
  {
   "cell_type": "code",
   "execution_count": 46,
   "id": "57e341a6",
   "metadata": {},
   "outputs": [
    {
     "name": "stdout",
     "output_type": "stream",
     "text": [
      "enter favorite language of geeta : hin\n",
      "enter favorite language of meeta : sans\n",
      "enter favorite language of seeta : sp\n",
      "enter favorite language of neeta : ph\n",
      "dict_items([('geeta', 'hin'), ('meeta', 'sans'), ('seeta', 'sp'), ('neeta', 'ph')])\n"
     ]
    }
   ],
   "source": [
    "f1 = input('enter favorite language of geeta : ')\n",
    "f2 = input('enter favorite language of meeta : ')\n",
    "f3 = input('enter favorite language of seeta : ')\n",
    "f4 = input('enter favorite language of neeta : ')\n",
    "dict = {}\n",
    "dict['geeta'] = f1\n",
    "dict['meeta'] = f2\n",
    "dict['seeta'] = f3\n",
    "dict['neeta'] = f4\n",
    "print(dict.items())"
   ]
  },
  {
   "cell_type": "raw",
   "id": "5c278745",
   "metadata": {},
   "source": [
    "ques: can you change the value inside a list which is contained in sets \n",
    "like that s = {8, 7, 12, [1, 2]}\n",
    "\n",
    "ans: no, coz set is immutable so list can never containned in set and\n",
    "another thing if it'll be tuple than you can't change coz it's non-changable means hashable"
   ]
  },
  {
   "cell_type": "markdown",
   "id": "1898f3f6",
   "metadata": {},
   "source": [
    "# Indentation:\n",
    "     the spaces at the beginning of a code line. Where in other\n",
    "programming languages the indentation in code is for readability only,\n",
    "the indentation in Python is very important. Python uses indentation to\n",
    "indicate a block of code."
   ]
  },
  {
   "cell_type": "markdown",
   "id": "b5bcaf74",
   "metadata": {},
   "source": [
    "# pass statement:\n",
    "     if statements cannot be empty, but if you for some reason have an if statement with no content, put in the pass statement to avoid getting an error."
   ]
  },
  {
   "cell_type": "raw",
   "id": "c9ebd3d4",
   "metadata": {},
   "source": [
    "pass: it means null statement(stands for do nothing with previous statement)"
   ]
  },
  {
   "cell_type": "code",
   "execution_count": 47,
   "id": "962d236c",
   "metadata": {},
   "outputs": [],
   "source": [
    "a = 33\n",
    "b = 200\n",
    "\n",
    "if b > a:\n",
    "    pass"
   ]
  },
  {
   "cell_type": "code",
   "execution_count": 48,
   "id": "a4957b30",
   "metadata": {},
   "outputs": [
    {
     "name": "stdout",
     "output_type": "stream",
     "text": [
      "that's it...\n"
     ]
    }
   ],
   "source": [
    "i = 4\n",
    "if i > 3 :\n",
    "    pass\n",
    "while i > 6 :\n",
    "    pass\n",
    "def run(player):\n",
    "    pass\n",
    "print(\"that's it...\")"
   ]
  },
  {
   "cell_type": "markdown",
   "id": "74ab1aa4",
   "metadata": {},
   "source": [
    "we can use pass statement to skip writing control statement or code inside of function to complete it later"
   ]
  },
  {
   "cell_type": "code",
   "execution_count": 49,
   "id": "a6e2e445",
   "metadata": {},
   "outputs": [
    {
     "name": "stdout",
     "output_type": "stream",
     "text": [
      "usefull to create empty function using 'pass' statement \n"
     ]
    }
   ],
   "source": [
    "def dummy(drug):\n",
    "    pass\n",
    "\n",
    "dummy('a')\n",
    "print(\"usefull to create empty function using 'pass' statement \")"
   ]
  },
  {
   "cell_type": "markdown",
   "id": "544eb7d3",
   "metadata": {},
   "source": [
    "# Control statements:\n",
    "            it works like a ladder when 1st condition will go true it'll go for execute the code under it rather than go for next condition or code.it's work ladder if 1st will true than it'll never go for next\n",
    "if, elif and else also optional and work anywhere\n",
    "if-elif-else ladder"
   ]
  },
  {
   "cell_type": "raw",
   "id": "a1b672e4",
   "metadata": {},
   "source": [
    "    python support usual conditions from math:\n",
    "    \n",
    "    Equals: a == b\n",
    "    Not Equals: a != b\n",
    "    Less than: a < b\n",
    "    Less than or equal to: a <= b\n",
    "    Greater than: a > b\n",
    "    Greater than or equal to: a >= b"
   ]
  },
  {
   "cell_type": "markdown",
   "id": "336c9f62",
   "metadata": {},
   "source": [
    "  # 1. if control statement:\n",
    "  it works only and only when if condition will be true than next statement will execute.\n",
    "    "
   ]
  },
  {
   "cell_type": "raw",
   "id": "337d0f97",
   "metadata": {},
   "source": [
    "syntax:\n",
    "    if(condition):\n",
    "        code/statements"
   ]
  },
  {
   "cell_type": "code",
   "execution_count": 50,
   "id": "37bc5248",
   "metadata": {},
   "outputs": [
    {
     "name": "stdout",
     "output_type": "stream",
     "text": [
      "b is greater than a\n"
     ]
    }
   ],
   "source": [
    "a = 33\n",
    "b = 200\n",
    "if b > a :\n",
    "    print(\"b is greater than a\")\n",
    "# print() will execute only and only if condition will true"
   ]
  },
  {
   "cell_type": "code",
   "execution_count": 51,
   "id": "c3a69b9c",
   "metadata": {},
   "outputs": [],
   "source": [
    "x = 12\n",
    "y = 10\n",
    "if(x<y):\n",
    "    print(\"y is greater than x\")\n",
    "# no output"
   ]
  },
  {
   "cell_type": "markdown",
   "id": "70a4fc00",
   "metadata": {},
   "source": [
    "# elif: (nested if):\n",
    "\"if the previous conditions were not true, then try this condition\""
   ]
  },
  {
   "cell_type": "code",
   "execution_count": 52,
   "id": "be9c7d23",
   "metadata": {},
   "outputs": [
    {
     "name": "stdout",
     "output_type": "stream",
     "text": [
      "a and b other are equals\n"
     ]
    }
   ],
   "source": [
    "a = 33\n",
    "b = 33\n",
    "\n",
    "if a > b :\n",
    "    print(\"a is greater than b...\")\n",
    "elif a == b :\n",
    "    print(\"a and b other are equals\")"
   ]
  },
  {
   "cell_type": "code",
   "execution_count": 54,
   "id": "f072ce55",
   "metadata": {},
   "outputs": [],
   "source": [
    "a = 12\n",
    "if(a==7):\n",
    "    print(\"yes\")\n",
    "elif(a>56):\n",
    "    print(\"yes or no\") #no output"
   ]
  },
  {
   "cell_type": "code",
   "execution_count": 55,
   "id": "cd4c37c5",
   "metadata": {},
   "outputs": [
    {
     "name": "stdout",
     "output_type": "stream",
     "text": [
      "x is above 10 \n",
      "and also above 20\n"
     ]
    }
   ],
   "source": [
    "#  default nested if : we rarely use nested if\n",
    "# let's see\n",
    "x = 40\n",
    "if x > 10 :\n",
    "    print(\"x is above 10 \")\n",
    "    if x > 20 :\n",
    "        print(\"and also above 20\")\n",
    "    else:\n",
    "        print(\"and not above 20\")\n",
    "else:\n",
    "    print(\"less then 10\")"
   ]
  },
  {
   "cell_type": "markdown",
   "id": "b31533e5",
   "metadata": {},
   "source": [
    "# else:\n",
    "    it works whenever another all conditions will be false. it can work with all statements."
   ]
  },
  {
   "cell_type": "markdown",
   "id": "7847da50",
   "metadata": {},
   "source": [
    "## EXAMPLE:"
   ]
  },
  {
   "cell_type": "code",
   "execution_count": 56,
   "id": "8ff17b79",
   "metadata": {},
   "outputs": [
    {
     "name": "stdout",
     "output_type": "stream",
     "text": [
      "greater\n"
     ]
    }
   ],
   "source": [
    "a = 22\n",
    "if a > 9 :\n",
    "    print(\"greater\")\n",
    "else:\n",
    "    print(\"lesser\")"
   ]
  },
  {
   "cell_type": "code",
   "execution_count": 58,
   "id": "b80f28e9",
   "metadata": {},
   "outputs": [
    {
     "name": "stdout",
     "output_type": "stream",
     "text": [
      "enter age: 13\n",
      "no\n"
     ]
    }
   ],
   "source": [
    "age = int(input(\"enter age: \"))\n",
    "if age >= 18 :\n",
    "    print(\"yes\")\n",
    "else:\n",
    "    print(\"no\")"
   ]
  },
  {
   "cell_type": "code",
   "execution_count": 61,
   "id": "683dd7b2",
   "metadata": {},
   "outputs": [
    {
     "name": "stdout",
     "output_type": "stream",
     "text": [
      "u can work if your age is : age greater than 33 and also age less than 55\n",
      "enter age: 50\n",
      "you're  50 ,you can work....\n"
     ]
    }
   ],
   "source": [
    "# u can work if your age is : age greater than 33 and also age less than 55\n",
    "print(\"u can work if your age is : age greater than 33 and also age less than 55\")\n",
    "age = int(input(\"enter age: \"))\n",
    "if(age>33 and age<55):\n",
    "    print(\"you're \",age,\",you can work....\")\n",
    "else:\n",
    "    print(\"you're \",age,\",you can't work...\")"
   ]
  },
  {
   "cell_type": "markdown",
   "id": "49c3c6d8",
   "metadata": {},
   "source": [
    "***if-elif-else: IN SHORT HANDS 👐 ***"
   ]
  },
  {
   "cell_type": "code",
   "execution_count": 62,
   "id": "03cc2239",
   "metadata": {},
   "outputs": [
    {
     "name": "stdout",
     "output_type": "stream",
     "text": [
      "a is greater than b\n"
     ]
    }
   ],
   "source": [
    "a = 200\n",
    "b = 33\n",
    "if b > a :\n",
    "    print(\"b is greater than a\")\n",
    "elif a == b:\n",
    "    print(\"a and b both are equals\")\n",
    "else:\n",
    "    print(\"a is greater than b\")"
   ]
  },
  {
   "cell_type": "markdown",
   "id": "8446b374",
   "metadata": {},
   "source": [
    "one life with if:"
   ]
  },
  {
   "cell_type": "code",
   "execution_count": 63,
   "id": "33c1b271",
   "metadata": {},
   "outputs": [
    {
     "name": "stdout",
     "output_type": "stream",
     "text": [
      "a is greater than b\n"
     ]
    }
   ],
   "source": [
    "a, b = 15, 12\n",
    "if a > b : print(\"a is greater than b\")"
   ]
  },
  {
   "cell_type": "markdown",
   "id": "b8e3e714",
   "metadata": {},
   "source": [
    "one line with if-else:"
   ]
  },
  {
   "cell_type": "code",
   "execution_count": 65,
   "id": "b6fd8108",
   "metadata": {},
   "outputs": [
    {
     "name": "stdout",
     "output_type": "stream",
     "text": [
      "b is greater than a\n"
     ]
    }
   ],
   "source": [
    "a = 2\n",
    "b = 330\n",
    "print(\"a is greater than b\") if a > b else print(\"b is greater than a\")"
   ]
  },
  {
   "cell_type": "markdown",
   "id": "22f9d453",
   "metadata": {},
   "source": [
    "one line with ternary operator or conditional expressions"
   ]
  },
  {
   "cell_type": "code",
   "execution_count": 67,
   "id": "b294114c",
   "metadata": {},
   "outputs": [
    {
     "name": "stdout",
     "output_type": "stream",
     "text": [
      "=\n"
     ]
    }
   ],
   "source": [
    "a = 330\n",
    "b = 330\n",
    "print(\"A\") if a > b else print(\"=\") if b == a else print(\"B\")"
   ]
  },
  {
   "cell_type": "markdown",
   "id": "c72037c0",
   "metadata": {},
   "source": [
    "***'and' in if statements:***"
   ]
  },
  {
   "cell_type": "code",
   "execution_count": 68,
   "id": "633374c3",
   "metadata": {},
   "outputs": [
    {
     "name": "stdout",
     "output_type": "stream",
     "text": [
      "bothe conditions are true...\n"
     ]
    }
   ],
   "source": [
    "a = 200\n",
    "b = 33\n",
    "c = 500\n",
    "if a > b and c > a :\n",
    "    print(\"bothe conditions are true...\")"
   ]
  },
  {
   "cell_type": "markdown",
   "id": "2be81cc4",
   "metadata": {},
   "source": [
    "'or' in if statements:"
   ]
  },
  {
   "cell_type": "code",
   "execution_count": 69,
   "id": "e54713c7",
   "metadata": {},
   "outputs": [
    {
     "name": "stdout",
     "output_type": "stream",
     "text": [
      "anyone of them, condition should be true...\n"
     ]
    }
   ],
   "source": [
    "a = 200\n",
    "b = 33\n",
    "c = 500\n",
    "if a > b or c < a : \n",
    "    print(\"anyone of them, condition should be true...\")"
   ]
  },
  {
   "cell_type": "markdown",
   "id": "f9c78c0d",
   "metadata": {},
   "source": [
    "'not' in if statement:"
   ]
  },
  {
   "cell_type": "code",
   "execution_count": 70,
   "id": "d23b2f24",
   "metadata": {},
   "outputs": [
    {
     "name": "stdout",
     "output_type": "stream",
     "text": [
      "b is not greater than a\n"
     ]
    }
   ],
   "source": [
    "a = 10\n",
    "b = 5\n",
    "if not a < b : \n",
    "    print(\"b is not greater than a\")"
   ]
  },
  {
   "cell_type": "markdown",
   "id": "d0f03548",
   "metadata": {},
   "source": [
    "'in' and 'is' if statement:"
   ]
  },
  {
   "cell_type": "code",
   "execution_count": 71,
   "id": "e9c50e6a",
   "metadata": {},
   "outputs": [
    {
     "name": "stdout",
     "output_type": "stream",
     "text": [
      "True\n"
     ]
    }
   ],
   "source": [
    "a = None\n",
    "if a is None:\n",
    "    print(True)\n",
    "elif a < 0 or a > 0 :\n",
    "    print(False)\n",
    "else:\n",
    "    print(\"a is zero\")"
   ]
  },
  {
   "cell_type": "code",
   "execution_count": 72,
   "id": "6b3f748c",
   "metadata": {},
   "outputs": [
    {
     "name": "stdout",
     "output_type": "stream",
     "text": [
      "i'm optional\n"
     ]
    }
   ],
   "source": [
    "a = 12\n",
    "if(a==7):\n",
    "    print(\"yes\")\n",
    "elif(a>56):\n",
    "    print(\"yes or no\")\n",
    "else:\n",
    "    print(\"i'm optional\")"
   ]
  },
  {
   "cell_type": "markdown",
   "id": "ef72e1b6",
   "metadata": {},
   "source": [
    "# prectice : with if"
   ]
  },
  {
   "cell_type": "markdown",
   "id": "bd410085",
   "metadata": {},
   "source": [
    "quiz: a spam comment is defined as a text containing keywords[make a lot of money,\n",
    "      buy now,suscribe this,click this,]WAP to detect it."
   ]
  },
  {
   "cell_type": "raw",
   "id": "e8f27d68",
   "metadata": {},
   "source": [
    "\n",
    "print(\"make a lot of money, buy now, suscribe this, click this\")\n",
    "\n",
    "comment = input(\"to check your comment spam or not\\nenter your comment :\\n\")\n",
    "if(\"make a lot of money\" in comment or \"buy now\" in comment or\n",
    "\"suscribe this\" in comment or \"click this\" in comment):\n",
    "    print(\"your comment is spam..\")\n",
    "else:\n",
    "    print(\"your comment is not spam..\")\n",
    "    \n",
    "output:\n",
    "make a lot of money,buy now,suscribe this,click this\n",
    "to check your comment spam or not\n",
    "enter your comment :\n",
    "hurry up!! and get a lot of money gift cards\n",
    "your comment is not spam.."
   ]
  },
  {
   "cell_type": "code",
   "execution_count": 1,
   "id": "ff6dbd76",
   "metadata": {},
   "outputs": [
    {
     "name": "stdout",
     "output_type": "stream",
     "text": [
      "smap word: make a lot of money, buy now, suscribe this, click this\n",
      "to check your comment spam or not\n",
      "enter your comment :\n",
      "hurry up!! get a lot of money and gift cards,\n",
      "your comment is not spam..\n"
     ]
    }
   ],
   "source": [
    "print(\"smap word: make a lot of money, buy now, suscribe this, click this\")\n",
    "\n",
    "comment = input(\"to check your comment spam or not\\nenter your comment :\\n\")\n",
    "if(\"make a lot of money\" in comment or \"buy now\" in comment or\n",
    "\"suscribe this\" in comment or \"click this\" in comment):\n",
    "    print(\"your comment is spam..\")\n",
    "else:\n",
    "    print(\"your comment is not spam..\")"
   ]
  },
  {
   "cell_type": "raw",
   "id": "5d83f4db",
   "metadata": {},
   "source": [
    "WAP given username hold 10char or not"
   ]
  },
  {
   "cell_type": "code",
   "execution_count": 2,
   "id": "8164c2e4",
   "metadata": {
    "scrolled": true
   },
   "outputs": [
    {
     "name": "stdout",
     "output_type": "stream",
     "text": [
      "enter your username : emsrajen\n",
      "invalid username\n"
     ]
    }
   ],
   "source": [
    "username = input(\"enter your username : \")\n",
    "total_char = len(username)\n",
    "if total_char >= 10 :\n",
    "    print(\"valid username\")\n",
    "else:\n",
    "    print(\"invalid username\")"
   ]
  },
  {
   "cell_type": "raw",
   "id": "ddef4ccd",
   "metadata": {},
   "source": [
    "WAP to check ,whether name in list or not\n",
    "[\"raj\",\"mohan\",\"sohan\",\"sita\",\"gita\"]"
   ]
  },
  {
   "cell_type": "code",
   "execution_count": 3,
   "id": "bdad387c",
   "metadata": {},
   "outputs": [
    {
     "name": "stdout",
     "output_type": "stream",
     "text": [
      "enter name to check wether name is in list or not : raj\n",
      "name is exist in list...\n"
     ]
    }
   ],
   "source": [
    "names = [\"raj\",\"mohan\",\"sohan\",\"sita\",\"gita\"]\n",
    "name = input(\"enter name to check wether name is in list or not : \")\n",
    "if name in names:\n",
    "    print(\"name is exist in list...\")\n",
    "else:\n",
    "    print(\"name isn't exist in list...\")"
   ]
  },
  {
   "cell_type": "raw",
   "id": "d27a6cb5",
   "metadata": {},
   "source": [
    "wap to findout any string/name is exixt in post or not"
   ]
  },
  {
   "cell_type": "code",
   "execution_count": 4,
   "id": "6ec6c111",
   "metadata": {},
   "outputs": [
    {
     "name": "stdout",
     "output_type": "stream",
     "text": [
      "enter post : dummies transforms the hard-to-understand into easy-to-use to enable learners at every level to fuel their pursuit of professional and personal advancement.\n",
      "enter name to search : fuel\n",
      "name is exist in list...\n"
     ]
    }
   ],
   "source": [
    "post = input(\"enter post : \")\n",
    "name = input(\"enter name to search : \")\n",
    "if name in post:\n",
    "    print(\"name is exist in list...\")\n",
    "else:\n",
    "    print(\"name isn't exist in list...\")"
   ]
  },
  {
   "cell_type": "markdown",
   "id": "db587466",
   "metadata": {},
   "source": [
    "# LOOP : repeatation of block of statement"
   ]
  },
  {
   "cell_type": "raw",
   "id": "7218a731",
   "metadata": {},
   "source": [
    "Python has two primitive loop commands:\n",
    "1. while loops\n",
    "2. for loops"
   ]
  },
  {
   "cell_type": "markdown",
   "id": "84adbc33",
   "metadata": {},
   "source": [
    "# 1. while loop :"
   ]
  },
  {
   "cell_type": "raw",
   "id": "aa0bdd49",
   "metadata": {},
   "source": [
    "[ don't write infinite loop ]\n",
    "# example:\n",
    "i = 0\n",
    "while i < 10 :\n",
    "    print(\"yes\")"
   ]
  },
  {
   "cell_type": "code",
   "execution_count": 5,
   "id": "4bfc7e3c",
   "metadata": {},
   "outputs": [
    {
     "name": "stdout",
     "output_type": "stream",
     "text": [
      "yes  0\n",
      "yes  1\n",
      "yes  2\n",
      "yes  3\n",
      "yes  4\n",
      "yes  5\n",
      "yes  6\n",
      "yes  7\n",
      "yes  8\n",
      "yes  9\n",
      "Done...!\n"
     ]
    }
   ],
   "source": [
    "i = 0\n",
    "while i < 10 :\n",
    "    print(\"yes \",i)\n",
    "    i = i + 1\n",
    "print(\"Done...!\")"
   ]
  },
  {
   "cell_type": "code",
   "execution_count": 6,
   "id": "c1d39ac3",
   "metadata": {},
   "outputs": [
    {
     "name": "stdout",
     "output_type": "stream",
     "text": [
      "numbers from 1 to 15 : \n",
      "1\n",
      "2\n",
      "3\n",
      "4\n",
      "5\n",
      "6\n",
      "7\n",
      "8\n",
      "9\n",
      "10\n",
      "11\n",
      "12\n",
      "13\n",
      "14\n",
      "15\n",
      "that's it\n"
     ]
    }
   ],
   "source": [
    "print(\"numbers from 1 to 15 : \")\n",
    "i = 1\n",
    "while i <= 15 :\n",
    "    print(i)\n",
    "    i += 1\n",
    "print(\"that's it\")"
   ]
  },
  {
   "cell_type": "code",
   "execution_count": 7,
   "id": "60283b6b",
   "metadata": {},
   "outputs": [
    {
     "name": "stdout",
     "output_type": "stream",
     "text": [
      "numbers from 1 to 15 : \n",
      "1\n",
      "2\n",
      "3\n",
      "4\n",
      "5\n",
      "6\n",
      "7\n",
      "8\n",
      "9\n",
      "10\n",
      "11\n",
      "12\n",
      "13\n",
      "14\n",
      "15\n",
      "that's it\n"
     ]
    }
   ],
   "source": [
    "print(\"numbers from 1 to 15 : \")\n",
    "i = 1\n",
    "while i < 16 :\n",
    "    print(i)\n",
    "    i += 1\n",
    "print(\"that's it\")"
   ]
  },
  {
   "cell_type": "code",
   "execution_count": 8,
   "id": "0f2cb798",
   "metadata": {},
   "outputs": [
    {
     "name": "stdout",
     "output_type": "stream",
     "text": [
      "1 . I'm rajendra\n",
      "2 . I'm rajendra\n",
      "3 . I'm rajendra\n",
      "4 . I'm rajendra\n",
      "5 . I'm rajendra\n"
     ]
    }
   ],
   "source": [
    "# print string multiple times\n",
    "i = 1\n",
    "while i < 6 :\n",
    "    print(i, \". I'm rajendra\")\n",
    "    i = i + 1"
   ]
  },
  {
   "cell_type": "code",
   "execution_count": 9,
   "id": "902f75d6",
   "metadata": {},
   "outputs": [
    {
     "name": "stdout",
     "output_type": "stream",
     "text": [
      "apple\n",
      "banana\n",
      "papaya\n",
      "graps\n",
      "mango\n",
      "cherry\n"
     ]
    }
   ],
   "source": [
    "# print element from collection / list\n",
    "fruit = ['apple', 'banana', 'papaya', 'graps', 'mango', 'cherry']\n",
    "i = 0\n",
    "while i < len(fruit) :\n",
    "    print(fruit[i])\n",
    "    i = i + 1"
   ]
  },
  {
   "cell_type": "raw",
   "id": "168b164a",
   "metadata": {},
   "source": [
    "extra : while with break, continue and pass"
   ]
  },
  {
   "cell_type": "markdown",
   "id": "0f41319c",
   "metadata": {},
   "source": [
    "break :  when break condition is true in loop then after successful executing\n",
    "<br>break statement loop stop printing values."
   ]
  },
  {
   "cell_type": "code",
   "execution_count": 10,
   "id": "31f04f91",
   "metadata": {},
   "outputs": [
    {
     "name": "stdout",
     "output_type": "stream",
     "text": [
      "1\n",
      "2\n",
      "3\n"
     ]
    }
   ],
   "source": [
    "i = 1\n",
    "while i < 6 :\n",
    "    print(i)\n",
    "    if i == 3 :\n",
    "        break\n",
    "    i = i + 1"
   ]
  },
  {
   "cell_type": "markdown",
   "id": "8bebbeb1",
   "metadata": {},
   "source": [
    "continue: when condition for continue is true than that value skipped and againg loop will start the printing values."
   ]
  },
  {
   "cell_type": "code",
   "execution_count": 11,
   "id": "f63fe302",
   "metadata": {},
   "outputs": [
    {
     "name": "stdout",
     "output_type": "stream",
     "text": [
      "1\n",
      "2\n",
      "4\n",
      "5\n",
      "6\n"
     ]
    }
   ],
   "source": [
    "i = 0\n",
    "while i < 6 :\n",
    "    i += 1\n",
    "    if i == 3 :\n",
    "        continue\n",
    "    print(i)"
   ]
  },
  {
   "cell_type": "markdown",
   "id": "a5c9208b",
   "metadata": {},
   "source": [
    "pass: it means null statement(stands for do nothing with previous statement)"
   ]
  },
  {
   "cell_type": "raw",
   "id": "1b086f62",
   "metadata": {},
   "source": [
    "i = 1\n",
    "while i < 6 :\n",
    "    pass\n",
    "    print(i)\n",
    "[NOTE: we are not executing it coz it'll show limitless output]"
   ]
  },
  {
   "cell_type": "markdown",
   "id": "de0d01ef",
   "metadata": {},
   "source": [
    "else : when loop condition is false then else condition execute and it work<br>same as else work with if keywords."
   ]
  },
  {
   "cell_type": "code",
   "execution_count": 7,
   "id": "562fa216",
   "metadata": {},
   "outputs": [
    {
     "name": "stdout",
     "output_type": "stream",
     "text": [
      "enter any number : 8\n",
      " i is greater than 6\n"
     ]
    }
   ],
   "source": [
    "i = int(input(\"enter any number : \"))\n",
    "while i < 6 :\n",
    "    print(i)\n",
    "    i += 1\n",
    "else:\n",
    "    print(\" i is greater than 6\")"
   ]
  },
  {
   "cell_type": "markdown",
   "id": "83556908",
   "metadata": {},
   "source": [
    "# 2. for loop :\n",
    "used to iterate through a sequesnce like list, tuple, string[iterables]\n",
    "with keywords (is,in,range)"
   ]
  },
  {
   "cell_type": "raw",
   "id": "ef444b33",
   "metadata": {},
   "source": [
    "syntax:\n",
    "        for iterator in/is dataframes(list,tuple,set):\n",
    "            statements...."
   ]
  },
  {
   "cell_type": "code",
   "execution_count": 8,
   "id": "3a344bdb",
   "metadata": {},
   "outputs": [
    {
     "name": "stdout",
     "output_type": "stream",
     "text": [
      "banana\n",
      "mango\n",
      "apple\n",
      "watermalon\n",
      "graps\n"
     ]
    }
   ],
   "source": [
    "fruits = ['banana', 'mango', 'apple', 'watermalon', 'graps']\n",
    "for items in fruits:\n",
    "    print(items)"
   ]
  },
  {
   "cell_type": "code",
   "execution_count": 9,
   "id": "fdb157f9",
   "metadata": {},
   "outputs": [
    {
     "name": "stdout",
     "output_type": "stream",
     "text": [
      "red apple\n",
      "red banana\n",
      "red cherry\n",
      "big apple\n",
      "big banana\n",
      "big cherry\n",
      "tasty apple\n",
      "tasty banana\n",
      "tasty cherry\n"
     ]
    }
   ],
   "source": [
    "adj = [\"red\", \"big\", \"tasty\"]\n",
    "fruits = [\"apple\", \"banana\", \"cherry\"]\n",
    "\n",
    "for x in adj:\n",
    "    for y in fruits:\n",
    "        print(x, y)"
   ]
  },
  {
   "cell_type": "markdown",
   "id": "e423a90c",
   "metadata": {},
   "source": [
    "# for with range:\n",
    "used to generate sequence of number and it's print until 'range'"
   ]
  },
  {
   "cell_type": "raw",
   "id": "e11baa16",
   "metadata": {},
   "source": [
    "default starting values of range is 0\n",
    "range 0 to 7"
   ]
  },
  {
   "cell_type": "code",
   "execution_count": 10,
   "id": "52f87452",
   "metadata": {},
   "outputs": [
    {
     "name": "stdout",
     "output_type": "stream",
     "text": [
      "0\n",
      "1\n",
      "2\n",
      "3\n",
      "4\n",
      "5\n",
      "6\n",
      "7\n"
     ]
    }
   ],
   "source": [
    "for i in range(8):\n",
    "    print(i)"
   ]
  },
  {
   "cell_type": "raw",
   "id": "c70a0d08",
   "metadata": {},
   "source": [
    "range 1 to 10"
   ]
  },
  {
   "cell_type": "code",
   "execution_count": 11,
   "id": "95e04b14",
   "metadata": {},
   "outputs": [
    {
     "name": "stdout",
     "output_type": "stream",
     "text": [
      "1\n",
      "2\n",
      "3\n",
      "4\n",
      "5\n",
      "6\n",
      "7\n",
      "8\n",
      "9\n",
      "10\n"
     ]
    }
   ],
   "source": [
    "for i in range(1,11):\n",
    "    print(i)"
   ]
  },
  {
   "cell_type": "raw",
   "id": "ccfed951",
   "metadata": {},
   "source": [
    "range(1,10,2) = 1-10 with spacing 2"
   ]
  },
  {
   "cell_type": "code",
   "execution_count": 12,
   "id": "b3217c83",
   "metadata": {},
   "outputs": [
    {
     "name": "stdout",
     "output_type": "stream",
     "text": [
      "1\n",
      "3\n",
      "5\n",
      "7\n",
      "9\n"
     ]
    }
   ],
   "source": [
    "for i in range(1,11,2):\n",
    "    print(i)"
   ]
  },
  {
   "cell_type": "raw",
   "id": "79cf5049",
   "metadata": {},
   "source": [
    "loop with else :"
   ]
  },
  {
   "cell_type": "code",
   "execution_count": 13,
   "id": "a124cc49",
   "metadata": {},
   "outputs": [
    {
     "name": "stdout",
     "output_type": "stream",
     "text": [
      "0\n",
      "1\n",
      "2\n",
      "3\n",
      "4\n",
      "5\n",
      "6\n",
      "7\n",
      "8\n",
      "9\n",
      "10\n",
      "this is inside of 'for'\n"
     ]
    }
   ],
   "source": [
    "for i in range(11):\n",
    "    print(i)\n",
    "\n",
    "else:   #when condition will be false\n",
    "    print(\"this is inside of 'for'\")"
   ]
  },
  {
   "cell_type": "raw",
   "id": "3f1d316d",
   "metadata": {},
   "source": [
    "break with for loop:"
   ]
  },
  {
   "cell_type": "code",
   "execution_count": 14,
   "id": "bcbd2a3d",
   "metadata": {},
   "outputs": [
    {
     "name": "stdout",
     "output_type": "stream",
     "text": [
      "0\n",
      "1\n",
      "2\n",
      "3\n",
      "4\n",
      "5\n"
     ]
    }
   ],
   "source": [
    "for i in range(11):\n",
    "    print(i)\n",
    "    if i == 5 :\n",
    "        break\n",
    "else:\n",
    "    print(\"this is inside of 'for'\")      # 0 1 2 3 4 5\n",
    "\n",
    "# else will execute when for loop will exit with condition\n",
    "# not exit with break, else will run with suceess termination of for  "
   ]
  },
  {
   "cell_type": "code",
   "execution_count": 15,
   "id": "d5a8e797",
   "metadata": {},
   "outputs": [
    {
     "name": "stdout",
     "output_type": "stream",
     "text": [
      "0\n",
      "1\n",
      "2\n",
      "3\n",
      "4\n",
      "5\n"
     ]
    }
   ],
   "source": [
    "for i in range(8):\n",
    "    print(i)\n",
    "    if(i==5):\n",
    "        break\n",
    "else:\n",
    "    print(\"this is inside of 'for'\")  #0 1 2 3 this is inside of 'for'"
   ]
  },
  {
   "cell_type": "raw",
   "id": "63f2a66d",
   "metadata": {},
   "source": [
    "continue with for loop:"
   ]
  },
  {
   "cell_type": "code",
   "execution_count": 16,
   "id": "7083c25a",
   "metadata": {},
   "outputs": [
    {
     "name": "stdout",
     "output_type": "stream",
     "text": [
      "0\n",
      "1\n",
      "2\n",
      "3\n",
      "4\n",
      "6\n",
      "8\n",
      "9\n",
      "10\n"
     ]
    }
   ],
   "source": [
    "for i in range(11):\n",
    "    if i == 5 or i == 7 :\n",
    "        continue\n",
    "    print(i)"
   ]
  },
  {
   "cell_type": "markdown",
   "id": "4e7bb832",
   "metadata": {},
   "source": [
    "# for more example of 'for' loop :"
   ]
  },
  {
   "cell_type": "raw",
   "id": "13d8458f",
   "metadata": {},
   "source": [
    "print multiplication table using loop"
   ]
  },
  {
   "cell_type": "code",
   "execution_count": 18,
   "id": "656f0190",
   "metadata": {},
   "outputs": [
    {
     "name": "stdout",
     "output_type": "stream",
     "text": [
      "enter number to print table : 19\n",
      "way 1\n",
      "19\n",
      "38\n",
      "57\n",
      "76\n",
      "95\n",
      "114\n",
      "133\n",
      "152\n",
      "171\n",
      "190\n",
      "way 2\n",
      "19  X  1  =  19\n",
      "19  X  2  =  38\n",
      "19  X  3  =  57\n",
      "19  X  4  =  76\n",
      "19  X  5  =  95\n",
      "19  X  6  =  114\n",
      "19  X  7  =  133\n",
      "19  X  8  =  152\n",
      "19  X  9  =  171\n",
      "19  X  10  =  190\n",
      "way 3\n",
      "19 X 1 = 19\n",
      "19 X 2 = 38\n",
      "19 X 3 = 57\n",
      "19 X 4 = 76\n",
      "19 X 5 = 95\n",
      "19 X 6 = 114\n",
      "19 X 7 = 133\n",
      "19 X 8 = 152\n",
      "19 X 9 = 171\n",
      "19 X 10 = 190\n"
     ]
    }
   ],
   "source": [
    "num = int(input(\"enter number to print table : \"))\n",
    "i = 1\n",
    "print(\"way 1\")\n",
    "for i in range(1,11):\n",
    "    print(i * num)\n",
    "print(\"way 2\")\n",
    "for i in range(1,11):\n",
    "    print(num, \" X \" ,i, \" = \",i*num)\n",
    "print(\"way 3\")\n",
    "for i in range(1,11):\n",
    "    print(f\"{num} X {i} = {i*num}\")"
   ]
  },
  {
   "cell_type": "markdown",
   "id": "3e229fcb",
   "metadata": {},
   "source": [
    "try to study str() and fstrings too  f\"string_char {values,express,calculation}string_char {values,express,calculation}string_char {values,express,calculation}\" via online sources or in string chapter"
   ]
  },
  {
   "cell_type": "markdown",
   "id": "4beaca58",
   "metadata": {},
   "source": [
    "# excersize :"
   ]
  },
  {
   "cell_type": "code",
   "execution_count": 19,
   "id": "ce99eaaa",
   "metadata": {},
   "outputs": [
    {
     "name": "stdout",
     "output_type": "stream",
     "text": [
      "list :  ['ram', 'mohan', 'sohan', 'sita', 'suresh', 'lakhan', 'sachin', 'harry'] \n",
      "greeting for all whose names starts with 's' :\n",
      "good morning ! sohan\n",
      "good morning ! sita\n",
      "good morning ! suresh\n",
      "good morning ! sachin\n"
     ]
    }
   ],
   "source": [
    "names = ['ram', 'mohan', 'sohan', 'sita', 'suresh', 'lakhan', 'sachin', 'harry']\n",
    "print(\"list : \",names,\"\\ngreeting for all whose names starts with 's' :\")\n",
    "for name in names:\n",
    "    if name.startswith('s'):\n",
    "        print(\"good morning !\",name)"
   ]
  },
  {
   "cell_type": "raw",
   "id": "90ad58ca",
   "metadata": {},
   "source": [
    "check weather number is prime or not"
   ]
  },
  {
   "cell_type": "code",
   "execution_count": 21,
   "id": "852283c7",
   "metadata": {},
   "outputs": [
    {
     "name": "stdout",
     "output_type": "stream",
     "text": [
      "enter any number to check wether number is prime or not : 153\n",
      "153  is not prime number...\n"
     ]
    }
   ],
   "source": [
    "num = int(input(\"enter any number to check wether number is prime or not : \"))\n",
    "prime = True\n",
    "for i in range(2,num):\n",
    "    if num % i == 0 and num != 2 :\n",
    "        prime = False\n",
    "        break\n",
    "\n",
    "if prime:\n",
    "    print(num,\" is prime number...\")\n",
    "else:\n",
    "    print(num,\" is not prime number...\")"
   ]
  },
  {
   "cell_type": "raw",
   "id": "8b199ec0",
   "metadata": {},
   "source": [
    "WAP to findout factorial"
   ]
  },
  {
   "cell_type": "code",
   "execution_count": 22,
   "id": "1659c051",
   "metadata": {},
   "outputs": [
    {
     "name": "stdout",
     "output_type": "stream",
     "text": [
      "enter any number to get factorial : 9\n",
      "factorial of 9 is : 362880\n"
     ]
    }
   ],
   "source": [
    "num = int(input(\"enter any number to get factorial : \"))\n",
    "fact = 1\n",
    "for i in range(1,num+1):\n",
    "    fact = fact *i\n",
    "print(f\"factorial of {num} is : {fact}\")"
   ]
  },
  {
   "cell_type": "raw",
   "id": "bef185e9",
   "metadata": {},
   "source": [
    "WAP to print first 'n' natual number using while loop."
   ]
  },
  {
   "cell_type": "code",
   "execution_count": 23,
   "id": "d6ae8710",
   "metadata": {},
   "outputs": [
    {
     "name": "stdout",
     "output_type": "stream",
     "text": [
      "enter range to get sum of first natural number : 5\n",
      "natural no. are : \n",
      "1\n",
      "2\n",
      "3\n",
      "4\n",
      "5\n",
      "sum of first 5 natural no. is : 15\n"
     ]
    }
   ],
   "source": [
    "num = int(input(\"enter range to get sum of first natural number : \"))\n",
    "sum = 0\n",
    "i = 1\n",
    "print(\"natural no. are : \")\n",
    "while i < num+1 :\n",
    "    sum = sum + i\n",
    "    n = i\n",
    "    print(n)\n",
    "    i += 1\n",
    "print(f\"sum of first {i-1} natural no. is : {sum}\")"
   ]
  },
  {
   "cell_type": "raw",
   "id": "2158a6b6",
   "metadata": {},
   "source": [
    "Reverse Multiplication Table using loop"
   ]
  },
  {
   "cell_type": "code",
   "execution_count": 24,
   "id": "3f71eca7",
   "metadata": {},
   "outputs": [
    {
     "name": "stdout",
     "output_type": "stream",
     "text": [
      "enter number to get table : 3\n",
      "3 X 10 = 30\n",
      "3 X 9 = 27\n",
      "3 X 8 = 24\n",
      "3 X 7 = 21\n",
      "3 X 6 = 18\n",
      "3 X 5 = 15\n",
      "3 X 4 = 12\n",
      "3 X 3 = 9\n",
      "3 X 2 = 6\n",
      "3 X 1 = 3\n"
     ]
    }
   ],
   "source": [
    "num = int(input(\"enter number to get table : \"))\n",
    "limit = 10\n",
    "i = 0\n",
    "for i in range(limit,i,-1):\n",
    "    print(f\"{num} X {i} = {num*i}\")"
   ]
  },
  {
   "cell_type": "markdown",
   "id": "ff1f774e",
   "metadata": {},
   "source": [
    "# let's try pattern code with python:"
   ]
  },
  {
   "cell_type": "raw",
   "id": "0aa8a077",
   "metadata": {},
   "source": [
    "1. print tringle"
   ]
  },
  {
   "cell_type": "code",
   "execution_count": 25,
   "id": "f4094a50",
   "metadata": {},
   "outputs": [
    {
     "name": "stdout",
     "output_type": "stream",
     "text": [
      "  *  \n",
      " *** \n",
      "*****\n"
     ]
    }
   ],
   "source": [
    "i = 3\n",
    "for i in range(3) :\n",
    "    print(\" \" * (3-i-1),end=\"\")\n",
    "    print(\"*\" * (2*i+1),end=\"\")\n",
    "    print(\" \" * (3-i-1))"
   ]
  },
  {
   "cell_type": "code",
   "execution_count": 26,
   "id": "1a931ef8",
   "metadata": {},
   "outputs": [
    {
     "name": "stdout",
     "output_type": "stream",
     "text": [
      "enter range : 5\n",
      "    *    \n",
      "   ***   \n",
      "  *****  \n",
      " ******* \n",
      "*********\n"
     ]
    }
   ],
   "source": [
    "n = int(input(\"enter range : \"))\n",
    "i = n\n",
    "for i in range(n):\n",
    "    print(\" \" * (n-i-1),end = \"\")\n",
    "    print(\"*\" * (2*i+1),end = \"\")\n",
    "    print(\" \" * (n-i-1))"
   ]
  },
  {
   "cell_type": "raw",
   "id": "32843586",
   "metadata": {},
   "source": [
    "right side tringle pattern:"
   ]
  },
  {
   "cell_type": "code",
   "execution_count": 27,
   "id": "fbd66b3c",
   "metadata": {},
   "outputs": [
    {
     "name": "stdout",
     "output_type": "stream",
     "text": [
      "*\n",
      "**\n",
      "***\n",
      "****\n"
     ]
    }
   ],
   "source": [
    "for i in range(4):\n",
    "    print(\"*\" * (i+1))"
   ]
  },
  {
   "cell_type": "code",
   "execution_count": 28,
   "id": "5b857a3a",
   "metadata": {},
   "outputs": [
    {
     "name": "stdout",
     "output_type": "stream",
     "text": [
      "enter range : 5\n",
      "*\n",
      "**\n",
      "***\n",
      "****\n",
      "*****\n"
     ]
    }
   ],
   "source": [
    "n = int(input(\"enter range : \"))\n",
    "for i in range(n) : \n",
    "    print(\"*\" * (i + 1))"
   ]
  },
  {
   "cell_type": "raw",
   "id": "165cbb02",
   "metadata": {},
   "source": [
    "left side tringle pattern :"
   ]
  },
  {
   "cell_type": "code",
   "execution_count": 29,
   "id": "f84456aa",
   "metadata": {},
   "outputs": [
    {
     "name": "stdout",
     "output_type": "stream",
     "text": [
      "*****\n",
      "****\n",
      "***\n",
      "**\n",
      "*\n"
     ]
    }
   ],
   "source": [
    "for i in range(5):\n",
    "    print(\"*\" * (5-i))"
   ]
  },
  {
   "cell_type": "code",
   "execution_count": 30,
   "id": "c488844f",
   "metadata": {},
   "outputs": [
    {
     "name": "stdout",
     "output_type": "stream",
     "text": [
      "enter range : 7\n",
      "*******\n",
      "******\n",
      "*****\n",
      "****\n",
      "***\n",
      "**\n",
      "*\n"
     ]
    }
   ],
   "source": [
    "n = int(input(\"enter range : \"))\n",
    "for i in range(n):\n",
    "    print(\"*\" * (n-i))"
   ]
  },
  {
   "cell_type": "markdown",
   "id": "37bc952f",
   "metadata": {},
   "source": [
    "# Function & recursion:"
   ]
  },
  {
   "cell_type": "markdown",
   "id": "91f189bd",
   "metadata": {},
   "source": [
    "### FUNCTION:\n",
    "   group of statement or specific task you can use it and we can stop repeatation to write code and use it many times.<br><br>\n",
    "    A function is a block of code which only runs when it is called.\n",
    "You can pass data, known as parameters, into a function.\n",
    "A function can return data as a result.<br>\n",
    "when a code gets bigger in size and complexity of it grows,it gets difficult to track specific statement<br>\n",
    "   so, a function can be reused by the programmer in a given program any number of times."
   ]
  },
  {
   "cell_type": "raw",
   "id": "94e8360d",
   "metadata": {},
   "source": [
    "syntax:\n",
    "         def function_name(parameters):   ---> function defination\n",
    "              block_of_statements;        ---> function_body\n",
    "              \n",
    "         function(parameter)              ---> funtion calling"
   ]
  },
  {
   "cell_type": "markdown",
   "id": "392f1fb4",
   "metadata": {},
   "source": [
    "### let's see of functions with using example..."
   ]
  },
  {
   "cell_type": "code",
   "execution_count": 65,
   "id": "b76e2a2a",
   "metadata": {},
   "outputs": [
    {
     "ename": "TypeError",
     "evalue": "'int' object is not callable",
     "output_type": "error",
     "traceback": [
      "\u001b[1;31m---------------------------------------------------------------------------\u001b[0m",
      "\u001b[1;31mTypeError\u001b[0m                                 Traceback (most recent call last)",
      "\u001b[1;32m~\\AppData\\Local\\Temp\\ipykernel_17100\\2025504056.py\u001b[0m in \u001b[0;36m<module>\u001b[1;34m\u001b[0m\n\u001b[0;32m      1\u001b[0m \u001b[1;31m# in simple way\u001b[0m\u001b[1;33m\u001b[0m\u001b[1;33m\u001b[0m\u001b[0m\n\u001b[0;32m      2\u001b[0m \u001b[0mmarks1\u001b[0m \u001b[1;33m=\u001b[0m \u001b[1;33m[\u001b[0m\u001b[1;36m45\u001b[0m\u001b[1;33m,\u001b[0m \u001b[1;36m78\u001b[0m\u001b[1;33m,\u001b[0m \u001b[1;36m86\u001b[0m\u001b[1;33m,\u001b[0m \u001b[1;36m77\u001b[0m\u001b[1;33m]\u001b[0m\u001b[1;33m\u001b[0m\u001b[1;33m\u001b[0m\u001b[0m\n\u001b[1;32m----> 3\u001b[1;33m \u001b[0mp1\u001b[0m \u001b[1;33m=\u001b[0m \u001b[1;33m(\u001b[0m\u001b[1;33m(\u001b[0m\u001b[0msum\u001b[0m\u001b[1;33m(\u001b[0m\u001b[0mmarks1\u001b[0m\u001b[1;33m)\u001b[0m \u001b[1;33m/\u001b[0m \u001b[1;36m400\u001b[0m\u001b[1;33m)\u001b[0m \u001b[1;33m*\u001b[0m \u001b[1;36m100\u001b[0m\u001b[1;33m)\u001b[0m\u001b[1;33m\u001b[0m\u001b[1;33m\u001b[0m\u001b[0m\n\u001b[0m\u001b[0;32m      4\u001b[0m \u001b[0mmarks2\u001b[0m \u001b[1;33m=\u001b[0m \u001b[1;33m[\u001b[0m\u001b[1;36m75\u001b[0m\u001b[1;33m,\u001b[0m \u001b[1;36m89\u001b[0m\u001b[1;33m,\u001b[0m \u001b[1;36m92\u001b[0m\u001b[1;33m,\u001b[0m \u001b[1;36m70\u001b[0m\u001b[1;33m]\u001b[0m\u001b[1;33m\u001b[0m\u001b[1;33m\u001b[0m\u001b[0m\n\u001b[0;32m      5\u001b[0m \u001b[0mp2\u001b[0m \u001b[1;33m=\u001b[0m \u001b[1;33m(\u001b[0m\u001b[1;33m(\u001b[0m\u001b[0msum\u001b[0m\u001b[1;33m(\u001b[0m\u001b[0mmarks2\u001b[0m\u001b[1;33m)\u001b[0m \u001b[1;33m/\u001b[0m \u001b[1;36m400\u001b[0m\u001b[1;33m)\u001b[0m \u001b[1;33m*\u001b[0m \u001b[1;36m100\u001b[0m\u001b[1;33m)\u001b[0m\u001b[1;33m\u001b[0m\u001b[1;33m\u001b[0m\u001b[0m\n",
      "\u001b[1;31mTypeError\u001b[0m: 'int' object is not callable"
     ]
    }
   ],
   "source": [
    "# in simple way\n",
    "marks1 = [45, 78, 86, 77]\n",
    "p1 = ((sum(marks1) / 400) * 100)\n",
    "marks2 = [75, 89, 92, 70]\n",
    "p2 = ((sum(marks2) / 400) * 100)\n",
    "print(p1, p2)\n",
    "\n",
    "# using function\n",
    "def percent(marks):\n",
    "    return (sum(marks) / 400) * 100\n",
    "p1 = percent(marks1)\n",
    "p2 = percent(marks2)\n",
    "print(p1,\" and \",p2)"
   ]
  },
  {
   "cell_type": "code",
   "execution_count": 66,
   "id": "a2827e75",
   "metadata": {},
   "outputs": [
    {
     "name": "stdout",
     "output_type": "stream",
     "text": [
      "you are welcome\n",
      "have a good day !! ram\n"
     ]
    }
   ],
   "source": [
    "def demo():\n",
    "    print('you are welcome')\n",
    "def demo1(name):\n",
    "    print('have a good day !!',name)\n",
    "\n",
    "demo()\n",
    "demo1('ram')"
   ]
  },
  {
   "cell_type": "markdown",
   "id": "7a7a70b8",
   "metadata": {},
   "source": [
    "# Type of functions:\n",
    "function can return results or print directly but most of them, there are two type of functions:<br>\n",
    "1. built-in : already define in python's library<br>\n",
    "2. user-defined : defined by users"
   ]
  },
  {
   "cell_type": "code",
   "execution_count": 1,
   "id": "32a7dc31",
   "metadata": {},
   "outputs": [
    {
     "name": "stdout",
     "output_type": "stream",
     "text": [
      "100\n",
      "good morning !!!, raj\n"
     ]
    }
   ],
   "source": [
    "# EXAMPLE:\n",
    "# built-in function:\n",
    "mark = [10, 20, 30, 40]\n",
    "print(sum(mark))    # here sum()  is built-in function\n",
    "\n",
    "# user defined function:\n",
    "def greet(name):\n",
    "    print('good morning !!!,', name)\n",
    "greet('raj')"
   ]
  },
  {
   "cell_type": "code",
   "execution_count": 2,
   "id": "1eeae2e9",
   "metadata": {},
   "outputs": [
    {
     "name": "stdout",
     "output_type": "stream",
     "text": [
      "219\n"
     ]
    }
   ],
   "source": [
    "def add(x,y,z):\n",
    "    return x + y + z\n",
    "a = add(45,85,89)\n",
    "print(a)"
   ]
  },
  {
   "cell_type": "code",
   "execution_count": 3,
   "id": "ce93e8e0",
   "metadata": {},
   "outputs": [
    {
     "data": {
      "text/plain": [
       "'hello Mr. R'"
      ]
     },
     "execution_count": 3,
     "metadata": {},
     "output_type": "execute_result"
    }
   ],
   "source": [
    "def gret(name):\n",
    "    gr = \"hello \" + name\n",
    "    return gr\n",
    "gret('Mr. R')"
   ]
  },
  {
   "cell_type": "code",
   "execution_count": 4,
   "id": "2a70f531",
   "metadata": {},
   "outputs": [
    {
     "name": "stdout",
     "output_type": "stream",
     "text": [
      "addition :  60 \n",
      "subtraction :  15\n"
     ]
    }
   ],
   "source": [
    "def add(x,y):\n",
    "    add = x + y\n",
    "    return add\n",
    "\n",
    "def sub(x,y):\n",
    "    sub = x - y\n",
    "    return sub\n",
    "\n",
    "a = add(45,15)\n",
    "b = sub(26,11)\n",
    "print(\"addition : \",a,\"\\nsubtraction : \",b)"
   ]
  },
  {
   "cell_type": "markdown",
   "id": "742a3735",
   "metadata": {},
   "source": [
    "# Arguments in functions :"
   ]
  },
  {
   "cell_type": "markdown",
   "id": "d47c7b8a",
   "metadata": {},
   "source": [
    "# 1. number of arguments:\n",
    "there are any number of args can have be in function if you put there specific number then that would be necessary to give them number of args as input of data.\n",
    "\n",
    "   By default, a function must be called with the correct number of arguments. Meaning that if your function expects 2 arguments, you have to call the function with 2 arguments, not more, and not less."
   ]
  },
  {
   "cell_type": "raw",
   "id": "6950cb21",
   "metadata": {},
   "source": [
    "Example:\n",
    "This function expects 2 arguments, and gets 2 arguments:"
   ]
  },
  {
   "cell_type": "code",
   "execution_count": 5,
   "id": "362b2035",
   "metadata": {},
   "outputs": [
    {
     "name": "stdout",
     "output_type": "stream",
     "text": [
      "my full name is raj kumar.\n"
     ]
    }
   ],
   "source": [
    "def myfun(x,y):\n",
    "    print(f\"my full name is {x} {y}.\")\n",
    "myfun(\"raj\",\"kumar\")"
   ]
  },
  {
   "cell_type": "raw",
   "id": "f382dc27",
   "metadata": {},
   "source": [
    "IF WE DON'T PASS SAME NUMBER OF ARGS AS FUNCTION NEED:\n",
    "\n",
    "def myfun(x,y):\n",
    "    print(f\"my full name is {x} {y}.\")\n",
    "myfun(\"raj\")\n",
    "\n",
    "OUTPUT :\n",
    "-------------------------------------------------------------------\n",
    "TypeError                       Traceback (most recent call last)\n",
    "~\\AppData\\Local\\Temp\\ipykernel_620\\2530529599.py in <module>\n",
    "      1 def myfun(x,y):\n",
    "      2     print(f\"my full name is {x} {y}.\")\n",
    "----> 3 myfun(\"raj\")\n",
    "\n",
    "TypeError: myfun() missing 1 required positional argument: 'y'"
   ]
  },
  {
   "cell_type": "markdown",
   "id": "eabddbc4",
   "metadata": {},
   "source": [
    "# default :\n",
    "we can have a value as default argument in functions,\n",
    "if we have specify name = 'stranger' in line"
   ]
  },
  {
   "cell_type": "code",
   "execution_count": 6,
   "id": "006e2acd",
   "metadata": {},
   "outputs": [
    {
     "name": "stdout",
     "output_type": "stream",
     "text": [
      "Good Morning !!!, stranger\n",
      "Good Morning !!!, raj\n"
     ]
    }
   ],
   "source": [
    "def greeting(name = 'stranger'):\n",
    "    gr = \"Good Morning !!!, \" + name\n",
    "    return gr\n",
    "\n",
    "a = greeting()\n",
    "b = greeting(\"raj\")\n",
    "print(a)\n",
    "print(b)"
   ]
  },
  {
   "cell_type": "markdown",
   "id": "3259131a",
   "metadata": {},
   "source": [
    "# *args and **kwargs in function :"
   ]
  },
  {
   "cell_type": "raw",
   "id": "ca8ce17d",
   "metadata": {},
   "source": [
    "Special Symbols Used for passing arguments:-\n",
    "\n",
    "*args (Non-Keyword Arguments)\n",
    "**kwargs (Keyword Arguments)\n",
    "-----------------------------------------------------------------------\n",
    "NOTE :\n",
    "“We use the “wildcard” or “*” notation like this – *args OR **kwargs – as our function’s argument when we have doubts about the number of  arguments we should pass in a function.” "
   ]
  },
  {
   "cell_type": "markdown",
   "id": "af0fadeb",
   "metadata": {},
   "source": [
    "# *args :\n",
    "   If you do not know the number of arguments that will be passed into your function, add a * before the parameter name in the function definition.<BR><BR>\n",
    "\n",
    "  This way the function will receive an arguments in the form of tuple, and can access the items according to requirements.<BR><BR>\n",
    "    \n",
    "The special syntax *args in function definitions in python is used to pass a variable number of arguments to a function. It is used to pass a non-key worded, variable-length argument list.<BR><BR>\n",
    "\n",
    "The syntax is to use the symbol * to take in a variable number of arguments; by convention, it is often used with the word args.<BR><BR>\n",
    "\n",
    "What *args allows you to do is take in more arguments than the number of formal arguments that you previously defined. With *args, any number of extra arguments can be tacked on to your current formal parameters (including zero extra arguments).<BR><BR>\n",
    "\n",
    "For example, we want to make a multiply function that takes any number of arguments and is able to multiply them all together. It can be done using *args.<BR><BR>\n",
    "\n",
    "Using the *, the variable that we associate with the * becomes an iterable meaning you can do things like iterate over it, run some higher-order functions such as map and filter, etc."
   ]
  },
  {
   "cell_type": "code",
   "execution_count": 72,
   "id": "71ae83bd",
   "metadata": {},
   "outputs": [
    {
     "name": "stdout",
     "output_type": "stream",
     "text": [
      "my full name is rajendra, kumar randa\n"
     ]
    }
   ],
   "source": [
    "# Example:\n",
    "# If the number of arguments is unknown, add a * before the parameter name:\n",
    "def myfun(*name):\n",
    "    result = f\"my full name is {name[0]}, {name[1]} {name[2]}\"\n",
    "    return result\n",
    "\n",
    "x = myfun('rajendra', 'kumar','randa')\n",
    "print(x)"
   ]
  },
  {
   "cell_type": "code",
   "execution_count": 83,
   "id": "7f08e23c",
   "metadata": {},
   "outputs": [
    {
     "name": "stdout",
     "output_type": "stream",
     "text": [
      "this is good boy\n",
      "a b c d e\n",
      "a\n",
      "b\n",
      "c\n",
      "d\n",
      "e\n",
      "this is good boy\n",
      "\n"
     ]
    }
   ],
   "source": [
    "def name(x,*args):\n",
    "    print(x)\n",
    "    print(*args)\n",
    "    for item in args:\n",
    "        print(item)\n",
    "x = 'this is good boy'\n",
    "l = ['a','b','c','d','e']\n",
    "name(x,*l)\n",
    "name(x)"
   ]
  },
  {
   "cell_type": "markdown",
   "id": "09ca88c6",
   "metadata": {},
   "source": [
    "The phrase Keyword Arguments are often shortened to kwargs in Python documentations."
   ]
  },
  {
   "cell_type": "markdown",
   "id": "7465e235",
   "metadata": {},
   "source": [
    "# **kwargs:"
   ]
  },
  {
   "cell_type": "raw",
   "id": "bb94ff67",
   "metadata": {},
   "source": [
    "If you do not know how many keyword arguments that will be passed into your function, add two asterisk: \" ** \" before the parameter name in the function definition.\n",
    "This way the function will receive a dictionary of arguments, and can access the items accordingly.\n",
    "If the number of keyword arguments is unknown, add a double \"**\" before the parameter name.\n",
    "it takes key-value pairs like dictionary in argument and we can create dictionary and pass it as \"**\" with variable name."
   ]
  },
  {
   "cell_type": "code",
   "execution_count": 85,
   "id": "cade40b6",
   "metadata": {},
   "outputs": [
    {
     "name": "stdout",
     "output_type": "stream",
     "text": [
      "His last name is Refsnes\n"
     ]
    }
   ],
   "source": [
    "def my_function(**kid):\n",
    "  print(\"His last name is \" + kid[\"lname\"])\n",
    "\n",
    "my_function(fname = \"Tobias\", lname = \"Refsnes\")"
   ]
  },
  {
   "cell_type": "code",
   "execution_count": 86,
   "id": "c3aaeb13",
   "metadata": {},
   "outputs": [
    {
     "name": "stdout",
     "output_type": "stream",
     "text": [
      "first = Geeks\n",
      "mid = for\n",
      "last = Geeks\n"
     ]
    }
   ],
   "source": [
    "def myFun(**kwargs):\n",
    "    for key, value in kwargs.items():\n",
    "        print(f\"{key} = {value}\")\n",
    "\n",
    "# Driver code\n",
    "myFun(first='Geeks', mid='for', last='Geeks')"
   ]
  },
  {
   "cell_type": "code",
   "execution_count": 87,
   "id": "78df6f55",
   "metadata": {},
   "outputs": [
    {
     "name": "stdout",
     "output_type": "stream",
     "text": [
      "a : this is a\n",
      "b : this is b\n",
      "c : this is c\n",
      "d : this is d\n"
     ]
    }
   ],
   "source": [
    "def fun1(**kwargs):\n",
    "    for key,value in kwargs.items():\n",
    "        print(key,\":\",value)\n",
    "\n",
    "dict = {'a': 'this is a','b': 'this is b','c': 'this is c','d': 'this is d',}\n",
    "fun1(**dict)"
   ]
  },
  {
   "cell_type": "markdown",
   "id": "21d79336",
   "metadata": {},
   "source": [
    "***difference between *args and **kwargs is that *args is works for collection of values and **kwargs for dictionaries***"
   ]
  },
  {
   "cell_type": "raw",
   "id": "17d6bf2e",
   "metadata": {},
   "source": [
    "by default use this argument in the last like (......**kwargs)\n",
    "example of **kwargs with simple variable,"
   ]
  },
  {
   "cell_type": "code",
   "execution_count": 88,
   "id": "42d2da39",
   "metadata": {},
   "outputs": [
    {
     "name": "stdout",
     "output_type": "stream",
     "text": [
      "this is string\n",
      "a : this is a\n",
      "b : this is b\n",
      "c : this is c\n",
      "d : this is d\n"
     ]
    }
   ],
   "source": [
    "def fun1(s,**kwargs):\n",
    "    print(s)\n",
    "    for key,value in kwargs.items():\n",
    "        print(key,\":\",value)\n",
    "        \n",
    "str = 'this is string'\n",
    "dict = {'a': 'this is a','b': 'this is b','c': 'this is c','d': 'this is d',}\n",
    "fun1(str,**dict)"
   ]
  },
  {
   "cell_type": "raw",
   "id": "2d1afa16",
   "metadata": {},
   "source": [
    "let's see simple, *args and **kwargs type argument togather,\n",
    "default we use it in this order as : simple, *args, **kwargs"
   ]
  },
  {
   "cell_type": "raw",
   "id": "c8ffa3dd",
   "metadata": {},
   "source": [
    "main thing in that, if you don't pass them as argument in the time of function calling they'll never give errors"
   ]
  },
  {
   "cell_type": "code",
   "execution_count": 89,
   "id": "0b3962d7",
   "metadata": {},
   "outputs": [
    {
     "name": "stdout",
     "output_type": "stream",
     "text": [
      "this is python\n",
      "it is so simple\n",
      "([1, 2, 3, 4, 5], [9, 8, 7, 6], {0: 'this is 0', 'x': 'this is x', 'y': 'this is y', 'z': 'this is z'}, {0: 'this is 0', 'x': 'this is x', 'y': 'this is y', 'z': 'this is z'})\n",
      "{}\n"
     ]
    }
   ],
   "source": [
    "def show(x,y,*a,**c):\n",
    "    print(x)\n",
    "    print(y)\n",
    "    print(a)\n",
    "    print(c)\n",
    "\n",
    "p = 'this is python'\n",
    "q = 'it is so simple'\n",
    "l1 = [1, 2, 3, 4, 5]\n",
    "l2 = [9, 8 , 7, 6]\n",
    "dict1 = {0: 'this is 0','x': 'this is x','y': 'this is y','z': 'this is z',}\n",
    "dict2 = {0: 'this is 0','x': 'this is x','y': 'this is y','z': 'this is z',}\n",
    "show(p,q,l1,l2,dict1,dict2)\n",
    "\n",
    "# only one * and ** parameter allowed"
   ]
  },
  {
   "cell_type": "markdown",
   "id": "33277859",
   "metadata": {},
   "source": [
    "# Recursion:\n",
    "the function called himself is known as recursion."
   ]
  },
  {
   "cell_type": "markdown",
   "id": "bc4ebc41",
   "metadata": {},
   "source": [
    "### let's see that via example:"
   ]
  },
  {
   "cell_type": "code",
   "execution_count": 90,
   "id": "b18551d0",
   "metadata": {},
   "outputs": [
    {
     "name": "stdout",
     "output_type": "stream",
     "text": [
      "120\n"
     ]
    }
   ],
   "source": [
    "# factorial : 4! = 4 * 3 * 2 * 1 = 42\n",
    "# n! = n! * (n-1) * .......3 * 2 * 1 || fact(n) = n * fact(n-1)\n",
    "def fact(n):\n",
    "    if n == 1 or n == 0:       # coz fact of 1 or 0 is always 1\n",
    "        return 1\n",
    "    else:\n",
    "        return (n*fact(n-1))\n",
    "\n",
    "x = fact(5)\n",
    "print(x)"
   ]
  },
  {
   "cell_type": "markdown",
   "id": "0e455d3d",
   "metadata": {},
   "source": [
    "***NOTE*** : be careful with using recursion  working to ensure that the function doesn't call infinitly himself.<br>\n",
    "recursion is sometimes the most direct way to code an algorithm"
   ]
  },
  {
   "cell_type": "markdown",
   "id": "9fd866aa",
   "metadata": {},
   "source": [
    "# lambda function :\n",
    "   this function create using 'lanbda' keyword\n",
    "<br>A lambda function is a small anonymous function. it takes any number of \n",
    "arguments, but can only have one expression\n",
    "<br><br>***Syntax***-<br>\n",
    "lambda arguments : expression"
   ]
  },
  {
   "cell_type": "code",
   "execution_count": 91,
   "id": "bc1909f2",
   "metadata": {},
   "outputs": [
    {
     "name": "stdout",
     "output_type": "stream",
     "text": [
      "6\n",
      "9\n",
      "6\n"
     ]
    }
   ],
   "source": [
    "# lambda function:\n",
    "a = lambda num : num +1; print(a(5))\n",
    "square = lambda x : x*x\n",
    "sum = lambda x, y, z : x+y+z\n",
    "x = 3\n",
    "y = 2\n",
    "print(square(x))\n",
    "print(sum(x,y,1))"
   ]
  },
  {
   "cell_type": "markdown",
   "id": "c7a758f0",
   "metadata": {},
   "source": [
    "# Why Use Lambda Functions?\n",
    "The power of lambda is better shown when you use them as an anonymous function inside another function.<br>\n",
    "Say you have a function definition that takes one argument, and that argument will be multiplied with an unknown number.<br>\n",
    "why we use: if you wwant to create any function with one expression or\n",
    "need to return function as so you can use it that time and also can use \n",
    "it anywhere"
   ]
  },
  {
   "cell_type": "markdown",
   "id": "a4081f7a",
   "metadata": {},
   "source": [
    "# Example:"
   ]
  },
  {
   "cell_type": "raw",
   "id": "8c25e315",
   "metadata": {},
   "source": [
    "Add 10 to argument a, and return the result:"
   ]
  },
  {
   "cell_type": "code",
   "execution_count": 92,
   "id": "5f746725",
   "metadata": {},
   "outputs": [
    {
     "name": "stdout",
     "output_type": "stream",
     "text": [
      "15\n"
     ]
    }
   ],
   "source": [
    "x = lambda a : a + 10\n",
    "print(x(5))"
   ]
  },
  {
   "cell_type": "raw",
   "id": "83a56f71",
   "metadata": {},
   "source": [
    "Multiply argument a with argument b and return the result:"
   ]
  },
  {
   "cell_type": "code",
   "execution_count": 93,
   "id": "24dc3805",
   "metadata": {},
   "outputs": [
    {
     "data": {
      "text/plain": [
       "8"
      ]
     },
     "execution_count": 93,
     "metadata": {},
     "output_type": "execute_result"
    }
   ],
   "source": [
    "x = lambda a,b : a * b\n",
    "x(2,4)"
   ]
  },
  {
   "cell_type": "raw",
   "id": "43c9b628",
   "metadata": {},
   "source": [
    "Summarize argument a, b, and c and return the result:"
   ]
  },
  {
   "cell_type": "code",
   "execution_count": 94,
   "id": "148bae68",
   "metadata": {},
   "outputs": [
    {
     "name": "stdout",
     "output_type": "stream",
     "text": [
      "13\n"
     ]
    }
   ],
   "source": [
    "x = lambda a, b, c : a + b + c\n",
    "print(x(5, 6, 2))"
   ]
  },
  {
   "cell_type": "markdown",
   "id": "cf756810",
   "metadata": {},
   "source": [
    "### lambda function inside of function:"
   ]
  },
  {
   "cell_type": "markdown",
   "id": "9d9475c6",
   "metadata": {},
   "source": [
    "# Example:"
   ]
  },
  {
   "cell_type": "code",
   "execution_count": 95,
   "id": "9266ccee",
   "metadata": {},
   "outputs": [
    {
     "name": "stdout",
     "output_type": "stream",
     "text": [
      "22\n"
     ]
    }
   ],
   "source": [
    "def myfunc(n):\n",
    "    return lambda a : a * n\n",
    "\n",
    "mydoubler = myfunc(2)\n",
    "\n",
    "print(mydoubler(11))"
   ]
  },
  {
   "cell_type": "code",
   "execution_count": 96,
   "id": "155786d0",
   "metadata": {},
   "outputs": [
    {
     "name": "stdout",
     "output_type": "stream",
     "text": [
      "33\n"
     ]
    }
   ],
   "source": [
    "def myfunc(n):\n",
    "    return lambda a : a * n\n",
    "\n",
    "mytripler = myfunc(3)\n",
    "\n",
    "print(mytripler(11))"
   ]
  },
  {
   "cell_type": "markdown",
   "id": "a169646c",
   "metadata": {},
   "source": [
    "# excersize : with function"
   ]
  },
  {
   "cell_type": "raw",
   "id": "88eff11f",
   "metadata": {},
   "source": [
    "WAP to write a function is a group of statements performing a specific task."
   ]
  },
  {
   "cell_type": "code",
   "execution_count": 2,
   "id": "8d42c81e",
   "metadata": {},
   "outputs": [
    {
     "name": "stdout",
     "output_type": "stream",
     "text": [
      "maximum no is :89\n",
      "maximum no is : 89\n"
     ]
    }
   ],
   "source": [
    "def max_num(num1,num2,num3):\n",
    "    if num1 > num2 and num1 > num3:\n",
    "        return num1\n",
    "    elif num2 > num1 and num2 >num3:\n",
    "        return num2\n",
    "    else:\n",
    "        return num3\n",
    "m = max_num(14,52,89)\n",
    "print(\"maximum no is :\" + str(m))    # way 1\n",
    "print(f\"maximum no is : {m}\")    # way 2"
   ]
  },
  {
   "cell_type": "raw",
   "id": "35721cf8",
   "metadata": {},
   "source": [
    "WAP to convert celsious to farenhite"
   ]
  },
  {
   "cell_type": "code",
   "execution_count": 99,
   "id": "3ba46792",
   "metadata": {},
   "outputs": [
    {
     "name": "stdout",
     "output_type": "stream",
     "text": [
      "farentite value of 450 is 232.22222222222223 F\n",
      "celsious  value of 500 is 932.0 C\n"
     ]
    }
   ],
   "source": [
    "def cel(f):\n",
    "    return ((f-32)*(5/9))\n",
    "def fah(c):\n",
    "    return (c*(9/5)+32)\n",
    "\n",
    "a, b = 450,500\n",
    "x = cel(a)\n",
    "y = fah(b)\n",
    "print(f\"farentite value of {a} is {x} F\")\n",
    "print(f\"celsious  value of {b} is {y} C\")"
   ]
  },
  {
   "cell_type": "raw",
   "id": "23524dbb",
   "metadata": {},
   "source": [
    "WAP to present that print() print the new line at the end"
   ]
  },
  {
   "cell_type": "code",
   "execution_count": 100,
   "id": "fb4960c3",
   "metadata": {},
   "outputs": [
    {
     "name": "stdout",
     "output_type": "stream",
     "text": [
      "hello\n",
      "how\n",
      "are\n",
      "you ?\n",
      "hello how are you ?"
     ]
    }
   ],
   "source": [
    "print(\"hello\")\n",
    "print(\"how\")\n",
    "print(\"are\")\n",
    "print(\"you ?\")\n",
    "\n",
    "print(\"hello \", end= \"\")\n",
    "print(\"how \", end= \"\")\n",
    "print(\"are \", end= \"\")\n",
    "print(\"you ?\", end= \"\")"
   ]
  },
  {
   "cell_type": "raw",
   "id": "856710fd",
   "metadata": {},
   "source": [
    "WAM to calculate n natural numbers."
   ]
  },
  {
   "cell_type": "code",
   "execution_count": null,
   "id": "56c7e14c",
   "metadata": {},
   "outputs": [],
   "source": [
    "def sum_n(n):\n",
    "    sum = 0\n",
    "    sum = sum_n(n) +sum_n(n-1)\n",
    "    return sum\n",
    "sum_n(5)"
   ]
  },
  {
   "cell_type": "code",
   "execution_count": null,
   "id": "714f0586",
   "metadata": {},
   "outputs": [],
   "source": [
    "find greatest among numbers using if-else and function"
   ]
  },
  {
   "cell_type": "code",
   "execution_count": 3,
   "id": "fb3db031",
   "metadata": {},
   "outputs": [
    {
     "name": "stdout",
     "output_type": "stream",
     "text": [
      "9100\n"
     ]
    }
   ],
   "source": [
    "def maximum(a,b,c):\n",
    "    if a>b:\n",
    "        if a>c:\n",
    "            return a\n",
    "        else:\n",
    "            return c\n",
    "    else:\n",
    "        if b>c:\n",
    "            return b\n",
    "        else:\n",
    "            return c\n",
    "m = maximum(9100,2000,300)\n",
    "print(m)"
   ]
  },
  {
   "cell_type": "raw",
   "id": "2ecd1909",
   "metadata": {},
   "source": [
    "print following pattern using function.\n",
    "******\n",
    "*****\n",
    "****\n",
    "***\n",
    "**\n",
    "*"
   ]
  },
  {
   "cell_type": "code",
   "execution_count": 4,
   "id": "40dd2d32",
   "metadata": {},
   "outputs": [
    {
     "name": "stdout",
     "output_type": "stream",
     "text": [
      "enter range of pattern : 6\n",
      "******\n",
      "*****\n",
      "****\n",
      "***\n",
      "**\n",
      "*\n"
     ]
    }
   ],
   "source": [
    "def pattern(n):\n",
    "    for i in range(n):\n",
    "        print(\"*\" * (n-i))\n",
    "n = int(input(\"enter range of pattern : \"))\n",
    "pattern(n)"
   ]
  },
  {
   "cell_type": "raw",
   "id": "ecc46c14",
   "metadata": {},
   "source": [
    "WAP to convert cm into inch"
   ]
  },
  {
   "cell_type": "code",
   "execution_count": 5,
   "id": "d1793e1b",
   "metadata": {},
   "outputs": [
    {
     "name": "stdout",
     "output_type": "stream",
     "text": [
      "9.84251968503937\n",
      "25.0\n"
     ]
    }
   ],
   "source": [
    "def conv_inch(cm):\n",
    "    inch = cm/2.54\n",
    "    return inch\n",
    "def conv_cm(inch):\n",
    "    cm = 2.54*inch\n",
    "    return cm\n",
    "x = conv_inch(25)\n",
    "y = conv_cm(9.84251968503937)\n",
    "print(x)\n",
    "print(y)"
   ]
  },
  {
   "cell_type": "markdown",
   "id": "23b0492d",
   "metadata": {},
   "source": [
    "# strip():used to remove unneccessary"
   ]
  },
  {
   "cell_type": "raw",
   "id": "c293eb14",
   "metadata": {},
   "source": [
    "WAP to create function to remove a given word from string and strip it at the same time?"
   ]
  },
  {
   "cell_type": "code",
   "execution_count": 6,
   "id": "88b988fb",
   "metadata": {},
   "outputs": [
    {
     "name": "stdout",
     "output_type": "stream",
     "text": [
      "demonstration of removing whitespace and stripping of string : \n",
      "enter a string:\n",
      "   i am rajendra  randa   .   \n",
      "enter a word to strip from string:\n",
      "  \n",
      "i am rajendraranda .\n"
     ]
    }
   ],
   "source": [
    "print(\"demonstration of removing whitespace and stripping of string : \")\n",
    "\n",
    "def rmv_n_strip(string,word):\n",
    "    newstr = string.replace(word,\"\")\n",
    "    return newstr.strip()\n",
    "str = input(\"enter a string:\\n\")\n",
    "n = input(\"enter a word to strip from string:\\n\")\n",
    "a = rmv_n_strip(str,n)\n",
    "print(a)"
   ]
  },
  {
   "cell_type": "markdown",
   "id": "371acc3d",
   "metadata": {},
   "source": [
    "# fun with code"
   ]
  },
  {
   "cell_type": "raw",
   "id": "949ebe32",
   "metadata": {},
   "source": [
    "QUESTION:\n",
    "Make a program in two programming languages to generate the output below on screen\n",
    "Enter two numbers:\n",
    "The sum, difference, product, quotient, average of two numbers is:\n",
    "Note:\n",
    "Consider the following conditions:\n",
    "If the first number is greater than the second number, display The sum of two numbers is:\n",
    "If the second number is greater than the first number, display The difference of two numbers is:\n",
    "If the first number is equal to the second number, display The quotient and average of two numbers\n",
    "is:\n",
    "Sample output:\n",
    "Enter two numbers: 4 2\n",
    "The sum, difference, product, quotient, average of two numbers is: 6 2 8 2 4\n",
    "The sum of two numbers is: 6"
   ]
  },
  {
   "cell_type": "code",
   "execution_count": 7,
   "id": "aca63d30",
   "metadata": {},
   "outputs": [
    {
     "name": "stdout",
     "output_type": "stream",
     "text": [
      "please enter two number using space :\n",
      "Enter two numbers : 12 13\n",
      "The sum, difference, product, quotient, average of is: 25.0   -1.0   156.0   0.9230769230769231   12.5\n",
      "The difference of two numbers is:  -1.0\n"
     ]
    }
   ],
   "source": [
    "print(\"please enter two number using space :\")\n",
    "num1, num2 = input(\"Enter two numbers : \").split()\n",
    "\n",
    "num1 = float(num1)\n",
    "num2 = float(num2)\n",
    "\n",
    "sum = num1 + num2\n",
    "diff = num1 - num2\n",
    "prod = num1 * num2\n",
    "quotient = num1 / num2;\n",
    "average = (num1 + num2) / 2;\n",
    "\n",
    "print(\"The sum, difference, product, quotient, average of is:\",sum,\" \",diff,\" \",prod,\" \",quotient,\" \",average)\n",
    "\n",
    "if(num1 > num2):\n",
    "  print(\"The sum of two numbers is: \",sum)\n",
    "elif(num2 > num1):\n",
    "  print(\"The difference of two numbers is: \",diff)\n",
    "else:\n",
    "  print(\"The quotient and average of two numbers is: \",quotient,\" \",average)"
   ]
  },
  {
   "cell_type": "markdown",
   "id": "924100f2",
   "metadata": {},
   "source": [
    "# File Handling (I/P & O/P file) :\n",
    "File handling is an important part of any web application.\n",
    "Python has several functions for creating, reading, updating, and deleting files."
   ]
  },
  {
   "cell_type": "markdown",
   "id": "93d60700",
   "metadata": {},
   "source": [
    "# open the file :"
   ]
  },
  {
   "cell_type": "raw",
   "id": "96661b27",
   "metadata": {},
   "source": [
    "files I/O : YOU CAN INTERACT WITH FILES(read,write) VIA PY-CODE\n",
    "theory:\n",
    "\n",
    "FILE: collection of data to store data in computer in ram, HDD\n",
    "\n",
    "1. VOLATILE-> file storaged in ram like if you are playong games,\n",
    "2. NON VOLATILE: data stored in HDD or pendrive\n",
    "\n",
    "TYPES OF FILE:\n",
    "1. TEXT FILE(.txt, .c)\n",
    "2. BINARY FILE(.jpg, .dot)\n",
    "\n",
    "open():\n",
    "      it is build-in func., used to opening a file,it takes 2\n",
    "parameter (file name, mode) i.e.open(\"sample.txt\",\"r\")\n",
    "\n",
    "USED FILE: \"data1.txt\"\n",
    "\n",
    "MODE:\n",
    "r   :  open for read\n",
    "w   :  open for write\n",
    "a   :  open for append\n",
    "x   :  create new file if its not exist already\n",
    "+   :  open for update\n",
    "rb  :  open for read in binary mode(binary files)\n",
    "rt  :  open for read in text mode(binary files)"
   ]
  },
  {
   "cell_type": "markdown",
   "id": "fdee2a4b",
   "metadata": {},
   "source": [
    "# read txt file :\n",
    "To open the file, use the built-in open() function.\n",
    "<br>\n",
    "The open() function returns a file object, which has a read() method for reading the content of the file:<br>\n",
    "r   :  read mode to read the file<br>\n",
    "rt  :  read mode to read the txt file"
   ]
  },
  {
   "cell_type": "code",
   "execution_count": 2,
   "id": "7438e658",
   "metadata": {},
   "outputs": [
    {
     "name": "stdout",
     "output_type": "stream",
     "text": [
      "this is text file line number 0\n",
      "this is text file line number 1\n",
      "this is text file line number 2\n",
      "this is text file line number 3\n",
      "this is text file line number 4\n",
      "this is text file line number 5\n",
      "this is text file line number 6\n",
      "this is text file line number 7\n",
      "\n"
     ]
    },
    {
     "ename": "FileNotFoundError",
     "evalue": "[Errno 2] No such file or directory: 'C://Users//rajen//Downloads//Data_Science//Python Programming//demo1.txt'",
     "output_type": "error",
     "traceback": [
      "\u001b[1;31m---------------------------------------------------------------------------\u001b[0m",
      "\u001b[1;31mFileNotFoundError\u001b[0m                         Traceback (most recent call last)",
      "\u001b[1;32m~\\AppData\\Local\\Temp\\ipykernel_11964\\2684226151.py\u001b[0m in \u001b[0;36m<module>\u001b[1;34m\u001b[0m\n\u001b[0;32m      6\u001b[0m \u001b[1;33m\u001b[0m\u001b[0m\n\u001b[0;32m      7\u001b[0m \u001b[1;31m# way2 :use file path\u001b[0m\u001b[1;33m\u001b[0m\u001b[1;33m\u001b[0m\u001b[0m\n\u001b[1;32m----> 8\u001b[1;33m \u001b[0mf\u001b[0m \u001b[1;33m=\u001b[0m \u001b[0mopen\u001b[0m\u001b[1;33m(\u001b[0m\u001b[1;34m'C://Users//rajen//Downloads//Data_Science//Python Programming//demo1.txt'\u001b[0m\u001b[1;33m,\u001b[0m\u001b[1;34m'r'\u001b[0m\u001b[1;33m)\u001b[0m\u001b[1;33m\u001b[0m\u001b[1;33m\u001b[0m\u001b[0m\n\u001b[0m\u001b[0;32m      9\u001b[0m \u001b[0mdata\u001b[0m \u001b[1;33m=\u001b[0m \u001b[0mf\u001b[0m\u001b[1;33m.\u001b[0m\u001b[0mread\u001b[0m\u001b[1;33m(\u001b[0m\u001b[1;33m)\u001b[0m\u001b[1;33m\u001b[0m\u001b[1;33m\u001b[0m\u001b[0m\n\u001b[0;32m     10\u001b[0m \u001b[0mprint\u001b[0m\u001b[1;33m(\u001b[0m\u001b[0mdata\u001b[0m\u001b[1;33m)\u001b[0m\u001b[1;33m\u001b[0m\u001b[1;33m\u001b[0m\u001b[0m\n",
      "\u001b[1;31mFileNotFoundError\u001b[0m: [Errno 2] No such file or directory: 'C://Users//rajen//Downloads//Data_Science//Python Programming//demo1.txt'"
     ]
    }
   ],
   "source": [
    "# way 1: default\n",
    "f = open('demo1.txt','r')\n",
    "data = f.read()\n",
    "print(data)\n",
    "f.close()\n",
    "\n",
    "# way2 :use file path\n",
    "f = open('C://Users//rajen//Downloads//Data_Science//Python Programming//demo1.txt','r')\n",
    "data = f.read()\n",
    "print(data)\n",
    "f.close()\n",
    "\n",
    "# way3 : using 'with' keyword\n",
    "with open('demo1.txt') as f:\n",
    "    data = f.read()\n",
    "    print(data)"
   ]
  },
  {
   "cell_type": "markdown",
   "id": "44f5a956",
   "metadata": {},
   "source": [
    "***you can read content using read() and in open() you can file name or file name with path and extention and mode of open()***"
   ]
  },
  {
   "cell_type": "code",
   "execution_count": 3,
   "id": "5eecd250",
   "metadata": {},
   "outputs": [
    {
     "name": "stdout",
     "output_type": "stream",
     "text": [
      "1\n",
      "1\n",
      "1\n",
      "1\n",
      "\n",
      "\n",
      "2\n",
      "2\n",
      "2\n",
      "2\n",
      "\n",
      "\n",
      "3\n",
      "3\n",
      "3\n",
      "3\n",
      "\n",
      "\n",
      "4\n",
      "4\n",
      "4\n",
      "4\n",
      "\n",
      "\n",
      "5\n",
      "5\n",
      "5\n",
      "5\n",
      "\n",
      "\n",
      "6\n",
      "6\n",
      "6\n",
      "6\n"
     ]
    }
   ],
   "source": [
    "# with loop\n",
    "f = open('dummy.txt')\n",
    "data = f.read()\n",
    "for x in data:\n",
    "    print(x)"
   ]
  },
  {
   "cell_type": "code",
   "execution_count": 4,
   "id": "d965b321",
   "metadata": {},
   "outputs": [
    {
     "name": "stdout",
     "output_type": "stream",
     "text": [
      "1111\n",
      "\n",
      "2222\n",
      "\n"
     ]
    }
   ],
   "source": [
    "f = open(\"dummy.txt\", \"r\")\n",
    "print(f.readline())\n",
    "print(f.readline())"
   ]
  },
  {
   "cell_type": "raw",
   "id": "88ad3051",
   "metadata": {},
   "source": [
    "r : it is default mode in open()"
   ]
  },
  {
   "cell_type": "code",
   "execution_count": null,
   "id": "a154199f",
   "metadata": {},
   "outputs": [],
   "source": [
    "f = open('demo1.txt','r')\n",
    "f1 = open('demo1.txt')\n",
    "data1 = f.read()\n",
    "data2 = f1.read()\n",
    "print(data1)\n",
    "f.close()\n",
    "f1.close()"
   ]
  },
  {
   "cell_type": "raw",
   "id": "bc00506e",
   "metadata": {},
   "source": [
    "readline : read text file line by line"
   ]
  },
  {
   "cell_type": "code",
   "execution_count": 5,
   "id": "50bf77dd",
   "metadata": {},
   "outputs": [
    {
     "name": "stdout",
     "output_type": "stream",
     "text": [
      "this is text file line number 0\n",
      "\n",
      "this is text file line number 1\n",
      "\n",
      "this is text file line number 2\n",
      "\n",
      "this is text file line number 3\n",
      "\n"
     ]
    }
   ],
   "source": [
    "data = open(\"demo1.txt\")\n",
    "print(data.readline())\n",
    "x = data.readline()\n",
    "print(x)\n",
    "y = data.readline()\n",
    "print(y)\n",
    "z = data.readline()\n",
    "print(z)\n",
    "data.close()"
   ]
  },
  {
   "cell_type": "markdown",
   "id": "1fe46505",
   "metadata": {},
   "source": [
    "# write in the file:"
   ]
  },
  {
   "cell_type": "raw",
   "id": "076b9d71",
   "metadata": {},
   "source": [
    "w   : write mode to write the file\n",
    "wt  : write mode to write the txt file\n",
    "a   : append mode to write after content the file"
   ]
  },
  {
   "cell_type": "code",
   "execution_count": 16,
   "id": "78c19435",
   "metadata": {},
   "outputs": [],
   "source": [
    "# write in file\n",
    "f = open('another.txt','w')\n",
    "data = f.write('you are welcome')\n",
    "f.close()"
   ]
  },
  {
   "cell_type": "code",
   "execution_count": 17,
   "id": "6c1a28f4",
   "metadata": {},
   "outputs": [
    {
     "name": "stdout",
     "output_type": "stream",
     "text": [
      "you are welcome\n"
     ]
    }
   ],
   "source": [
    "# read that content\n",
    "f = open('another.txt','r')\n",
    "data = f.read()\n",
    "print(data)\n",
    "f.close()"
   ]
  },
  {
   "cell_type": "code",
   "execution_count": 18,
   "id": "29ed189f",
   "metadata": {},
   "outputs": [
    {
     "name": "stdout",
     "output_type": "stream",
     "text": [
      "this is text file where we'll write using python file handling write() function.\n"
     ]
    }
   ],
   "source": [
    "# if you use write() function again then it'll rewrite content\n",
    "f = open(\"another.txt\",\"w\")\n",
    "data = f.write(\"this is text file where we'll write using python file handling write() function.\")\n",
    "f.close()\n",
    "f = open(\"another.txt\",\"r\")\n",
    "data = f.read()\n",
    "print(data)"
   ]
  },
  {
   "cell_type": "raw",
   "id": "8004b3dc",
   "metadata": {},
   "source": [
    "in another.txt file already written 'you are welcome' and after using write() it replaced with 'this is text file where we'll write using python file handling write() function.'"
   ]
  },
  {
   "cell_type": "raw",
   "id": "113d1362",
   "metadata": {},
   "source": [
    "if in text file is already written then we must use append() then our new content will write after already existing content, but in write mathod write() replace content."
   ]
  },
  {
   "cell_type": "code",
   "execution_count": 19,
   "id": "79931e28",
   "metadata": {},
   "outputs": [
    {
     "name": "stdout",
     "output_type": "stream",
     "text": [
      "this is text file where we'll write using python file handling write() function.this is content of second times.\n"
     ]
    }
   ],
   "source": [
    "f = open('another.txt','a')\n",
    "data = f.write('this is content of second times.')\n",
    "f.close()\n",
    "f = open('another.txt', 'r')\n",
    "data = f.read()\n",
    "print(data)"
   ]
  },
  {
   "cell_type": "code",
   "execution_count": 20,
   "id": "3d591164",
   "metadata": {},
   "outputs": [
    {
     "name": "stdout",
     "output_type": "stream",
     "text": [
      "this is style 2.\n"
     ]
    }
   ],
   "source": [
    "with open('demo.txt','w') as f:\n",
    "    f.write('this is style 2.')\n",
    "    f.close()\n",
    "with open('demo.txt') as f:\n",
    "    print(f.read())\n",
    "    f.close()"
   ]
  },
  {
   "cell_type": "markdown",
   "id": "43757ce9",
   "metadata": {},
   "source": [
    "## we can understand it in next chapter."
   ]
  },
  {
   "cell_type": "markdown",
   "id": "4392281f",
   "metadata": {},
   "source": [
    "### file handling with \"with\" keywords :"
   ]
  },
  {
   "cell_type": "code",
   "execution_count": 21,
   "id": "dd7da7fc",
   "metadata": {},
   "outputs": [
    {
     "ename": "FileNotFoundError",
     "evalue": "[Errno 2] No such file or directory: 'with.txt'",
     "output_type": "error",
     "traceback": [
      "\u001b[1;31m---------------------------------------------------------------------------\u001b[0m",
      "\u001b[1;31mFileNotFoundError\u001b[0m                         Traceback (most recent call last)",
      "\u001b[1;32m~\\AppData\\Local\\Temp\\ipykernel_12680\\2641714934.py\u001b[0m in \u001b[0;36m<module>\u001b[1;34m\u001b[0m\n\u001b[0;32m      1\u001b[0m \u001b[1;31m# create txt file\u001b[0m\u001b[1;33m\u001b[0m\u001b[1;33m\u001b[0m\u001b[0m\n\u001b[1;32m----> 2\u001b[1;33m \u001b[1;32mwith\u001b[0m \u001b[0mopen\u001b[0m\u001b[1;33m(\u001b[0m\u001b[1;34m\"with.txt\"\u001b[0m\u001b[1;33m,\u001b[0m\u001b[1;34m\"r\"\u001b[0m\u001b[1;33m)\u001b[0m \u001b[1;32mas\u001b[0m \u001b[0mf\u001b[0m\u001b[1;33m:\u001b[0m\u001b[1;33m\u001b[0m\u001b[1;33m\u001b[0m\u001b[0m\n\u001b[0m\u001b[0;32m      3\u001b[0m     \u001b[0mdata\u001b[0m \u001b[1;33m=\u001b[0m \u001b[0mf\u001b[0m\u001b[1;33m.\u001b[0m\u001b[0mread\u001b[0m\u001b[1;33m(\u001b[0m\u001b[1;33m)\u001b[0m\u001b[1;33m\u001b[0m\u001b[1;33m\u001b[0m\u001b[0m\n\u001b[0;32m      4\u001b[0m     \u001b[0mf\u001b[0m\u001b[1;33m.\u001b[0m\u001b[0mclose\u001b[0m\u001b[1;33m(\u001b[0m\u001b[1;33m)\u001b[0m\u001b[1;33m\u001b[0m\u001b[1;33m\u001b[0m\u001b[0m\n\u001b[0;32m      5\u001b[0m \u001b[1;33m\u001b[0m\u001b[0m\n",
      "\u001b[1;31mFileNotFoundError\u001b[0m: [Errno 2] No such file or directory: 'with.txt'"
     ]
    }
   ],
   "source": [
    "# create txt file\n",
    "with open(\"with.txt\",\"r\") as f:\n",
    "    data = f.read()\n",
    "    f.close()\n",
    "\n",
    "# write txt file\n",
    "with open(\"with.txt\",\"w\") as f:\n",
    "    data = f.write('this is text file.')\n",
    "    print(data)\n",
    "    f.close()\n",
    "    \n",
    "# read txt file    \n",
    "with open(\"with.txt\",\"r\") as f:\n",
    "    data = f.read()\n",
    "    print(data)\n",
    "    f.close()\n",
    "    \n",
    "# write data in already written file\n",
    "with open('with.txt','w') as f:\n",
    "    data = f.write('this li line 2, ')\n",
    "    data = f.write('this is line 3')\n",
    "    data = f.close\n",
    "\n",
    "with open(\"with.txt\",\"r\") as f:\n",
    "    data = f.read()\n",
    "    print(data)\n",
    "    f.close()"
   ]
  },
  {
   "cell_type": "code",
   "execution_count": 6,
   "id": "e2937cf7",
   "metadata": {},
   "outputs": [
    {
     "name": "stdout",
     "output_type": "stream",
     "text": [
      "enter word to check weather is exist in poem 'the star' : twinkle\n",
      "word matched...\n"
     ]
    }
   ],
   "source": [
    "# find words in string\n",
    "word = input(\"enter word to check weather is exist in poem 'the star' : \")\n",
    "with open('poem.txt','r') as f:\n",
    "    data = f.read()\n",
    "    if word in data:\n",
    "        print(\"word matched...\")\n",
    "    else:\n",
    "        print(\"word doesn't exist...\")"
   ]
  },
  {
   "cell_type": "code",
   "execution_count": 24,
   "id": "af0b502f",
   "metadata": {},
   "outputs": [],
   "source": [
    "# generate table 2-20 and write it in diff diff text files\n",
    "for i in range(2,21):\n",
    "    with open(f\"table of {i}.txt\",'w') as f:\n",
    "        for j in range(1,11):\n",
    "            f.write(f\"{i} X {j} = {i*j}\")\n",
    "            if j!= 10:\n",
    "                f.write('\\n')\n",
    "\n",
    "# check text files in folders"
   ]
  },
  {
   "cell_type": "raw",
   "id": "b2a27390",
   "metadata": {},
   "source": [
    "ERROR: solve it\n",
    "...................................................................\n",
    "# what if we want to execute above task and want to save this text file in specific folder\n",
    "for i in range(2,21):\n",
    "    with open(f\"table/table_of_{i}\",\"w\") as f:\n",
    "        for j in range(1,11):\n",
    "            # f.write(f\"{i}X{j}={i*j}\\n\") #way 1 but it'll add new line in line no.11\n",
    "            f.write(f\"{i}X{j}={i*j}\")\n",
    "            if j!=10:\n",
    "                f.write('\\n')"
   ]
  },
  {
   "cell_type": "code",
   "execution_count": 7,
   "id": "22e0513f",
   "metadata": {},
   "outputs": [
    {
     "name": "stdout",
     "output_type": "stream",
     "text": [
      "\n"
     ]
    }
   ],
   "source": [
    "# a file contain word \"donkey\" multiple time,WAP toreplace it with ###### by updating some files\n",
    "with open('sample.txt','r') as f:\n",
    "    data = f.read()\n",
    "    data = data.replace('donkey', '########')\n",
    "    with open('sample.txt','w') as f:\n",
    "        data = f.write(data)\n",
    "\n",
    "with open('sample.txt','r') as f:\n",
    "    data = f.read()\n",
    "    print(data)"
   ]
  },
  {
   "cell_type": "markdown",
   "id": "7922d660",
   "metadata": {},
   "source": [
    "# NOTE : file handling using keywords 'with' can work without 'close()'"
   ]
  },
  {
   "cell_type": "code",
   "execution_count": 8,
   "id": "488c9e67",
   "metadata": {},
   "outputs": [],
   "source": [
    "# hide matched words of collection in text file\n",
    "\n",
    "words = ['donkey','monkey','kaddu','budddu','mote']\n",
    "with open('sample.txt','r') as f:\n",
    "  data = f.read()\n",
    "\n",
    "for word in words:\n",
    "  data = data.replace(word,'#######')\n",
    "  with open('sample.txt','w') as f:\n",
    "    f.write(data)"
   ]
  },
  {
   "cell_type": "raw",
   "id": "874430d4",
   "metadata": {},
   "source": [
    "the game() in a program lets a user play a game and returns a score as an int.u need to read the text file hiscore.txt which is either blank or contains the previous hiscore whenever game() break the hiscore."
   ]
  },
  {
   "cell_type": "code",
   "execution_count": 26,
   "id": "0c2adc6f",
   "metadata": {},
   "outputs": [
    {
     "ename": "FileNotFoundError",
     "evalue": "[Errno 2] No such file or directory: 'hiscore.txt'",
     "output_type": "error",
     "traceback": [
      "\u001b[1;31m---------------------------------------------------------------------------\u001b[0m",
      "\u001b[1;31mFileNotFoundError\u001b[0m                         Traceback (most recent call last)",
      "\u001b[1;32m~\\AppData\\Local\\Temp\\ipykernel_12680\\2156176863.py\u001b[0m in \u001b[0;36m<module>\u001b[1;34m\u001b[0m\n\u001b[0;32m      5\u001b[0m \u001b[0mscore\u001b[0m \u001b[1;33m=\u001b[0m \u001b[0mgame\u001b[0m\u001b[1;33m(\u001b[0m\u001b[1;36m200\u001b[0m\u001b[1;33m)\u001b[0m\u001b[1;33m\u001b[0m\u001b[1;33m\u001b[0m\u001b[0m\n\u001b[0;32m      6\u001b[0m \u001b[1;33m\u001b[0m\u001b[0m\n\u001b[1;32m----> 7\u001b[1;33m \u001b[1;32mwith\u001b[0m \u001b[0mopen\u001b[0m\u001b[1;33m(\u001b[0m\u001b[1;34m'hiscore.txt'\u001b[0m\u001b[1;33m,\u001b[0m\u001b[1;34m'r'\u001b[0m\u001b[1;33m)\u001b[0m \u001b[1;32mas\u001b[0m \u001b[0mf\u001b[0m\u001b[1;33m:\u001b[0m\u001b[1;33m\u001b[0m\u001b[1;33m\u001b[0m\u001b[0m\n\u001b[0m\u001b[0;32m      8\u001b[0m     \u001b[0mnewscore\u001b[0m \u001b[1;33m=\u001b[0m \u001b[0mf\u001b[0m\u001b[1;33m.\u001b[0m\u001b[0mread\u001b[0m\u001b[1;33m(\u001b[0m\u001b[1;33m)\u001b[0m\u001b[1;33m\u001b[0m\u001b[1;33m\u001b[0m\u001b[0m\n\u001b[0;32m      9\u001b[0m \u001b[1;33m\u001b[0m\u001b[0m\n",
      "\u001b[1;31mFileNotFoundError\u001b[0m: [Errno 2] No such file or directory: 'hiscore.txt'"
     ]
    }
   ],
   "source": [
    "def game(x):\n",
    "    return x\n",
    "\n",
    "# x = int(input(\"enter your score : \"))\n",
    "score = game(200)\n",
    "\n",
    "with open('hiscore.txt','r') as f:\n",
    "    newscore = f.read()\n",
    "\n",
    "if int(newscore) < score :\n",
    "    with open('hiscore.txt','w') as f:\n",
    "        data = f.write(score)\n",
    "elif newscore == '':\n",
    "    with open('hiscore.txt','w') as f:\n",
    "        data = f.write(score) "
   ]
  },
  {
   "cell_type": "raw",
   "id": "2934dc86",
   "metadata": {},
   "source": [
    "WAP to mine a log file and findout whether it contains 'python' and make new code to find out line number"
   ]
  },
  {
   "cell_type": "code",
   "execution_count": 9,
   "id": "15331232",
   "metadata": {},
   "outputs": [
    {
     "name": "stdout",
     "output_type": "stream",
     "text": [
      "string present...\n"
     ]
    }
   ],
   "source": [
    "with open('log.txt') as f:\n",
    "    data = f.read().lower()\n",
    "if 'python' in data:\n",
    "    print('string present...')\n",
    "else:\n",
    "    print(\"string doesn't present...\")"
   ]
  },
  {
   "cell_type": "raw",
   "id": "5d5a1923",
   "metadata": {},
   "source": [
    "can u find out in which line string 'python' present"
   ]
  },
  {
   "cell_type": "code",
   "execution_count": 10,
   "id": "497faa42",
   "metadata": {},
   "outputs": [
    {
     "name": "stdout",
     "output_type": "stream",
     "text": [
      "03/22 08:51:06 INFO   :....mailbox_register: mailbox allocated for rsvp python has stopped working.....\n",
      "\n",
      "\n",
      "string present in file on line no,: 1\n",
      "03/22 08:51:11 INFO   :.....mailbox_register: mailbox allocated for route        python has stopped working.....\n",
      "\n",
      "\n",
      "string present in file on line no,: 2\n",
      "03/22 08:52:50 TRACE  :......rsvp_event_establishSession: local node will send   python has stopped working.....\n",
      "\n",
      "\n",
      "string present in file on line no,: 3\n",
      "03/22 08:52:50 TRACE  :........router_forward_getOI:         route handle:   7f5251c8 python has stopped working...\n",
      "\n",
      "\n",
      "string present in file on line no,: 4\n",
      "03/22 08:52:50 TRACE  :.......event_establishSessionSend: found outgoing if=9.67.116.98 through python has stopped working.....\n",
      "\n",
      "\n",
      "string present in file on line no,: 5\n",
      "03/22 08:52:50 INFO   :.......init_policyAPI: RegisterWithPolicyAPI:  Entering   python has stopped working.....\n",
      "\n",
      "string present in file on line no,: 6\n"
     ]
    }
   ],
   "source": [
    "data = True\n",
    "i = 1\n",
    "with open('log.txt') as f:\n",
    "    while data:\n",
    "        data = f.readline()\n",
    "        if 'python' in data.lower():\n",
    "            print(data)\n",
    "            print(f'\\nstring present in file on line no,: {i}')\n",
    "            i = i+1"
   ]
  },
  {
   "cell_type": "markdown",
   "id": "0413dce9",
   "metadata": {},
   "source": [
    "# make a copy of text file"
   ]
  },
  {
   "cell_type": "code",
   "execution_count": 11,
   "id": "07f32b3b",
   "metadata": {},
   "outputs": [],
   "source": [
    "with open('sample.txt') as f:\n",
    "    data = f.read()\n",
    "with open('copy.txt','w') as f:\n",
    "    data = f.write(data)"
   ]
  },
  {
   "cell_type": "raw",
   "id": "c87be987",
   "metadata": {},
   "source": [
    "WAP to check two file are identical or not (file's content matched or not)"
   ]
  },
  {
   "cell_type": "code",
   "execution_count": 12,
   "id": "ca54041d",
   "metadata": {},
   "outputs": [
    {
     "name": "stdout",
     "output_type": "stream",
     "text": [
      "files are identical...\n"
     ]
    }
   ],
   "source": [
    "file1 = 'sample.txt'\n",
    "file2 = 'copy.txt'\n",
    "with open('copy.txt','r') as f:\n",
    "    data1 = f.read()\n",
    "with open('sample.txt','r') as f:\n",
    "    data2 = f.read()\n",
    "if data1 == data2:\n",
    "    print('files are identical...')\n",
    "else:\n",
    "    print(\"files aren't identical...\")"
   ]
  },
  {
   "cell_type": "markdown",
   "id": "eb995d94",
   "metadata": {},
   "source": [
    "# rename text file:"
   ]
  },
  {
   "cell_type": "code",
   "execution_count": 32,
   "id": "dff2732f",
   "metadata": {},
   "outputs": [],
   "source": [
    "import os\n",
    "oldname = 'font.txt'\n",
    "newname = 'rename.txt'\n",
    "\n",
    "with open(oldname,'r') as f:\n",
    "    data = f.read()\n",
    "with open(newname,'w') as f:\n",
    "    data = f.write(data)\n",
    "os.remove(oldname)"
   ]
  },
  {
   "cell_type": "markdown",
   "id": "19bacb14",
   "metadata": {},
   "source": [
    "# delete the file"
   ]
  },
  {
   "cell_type": "markdown",
   "id": "cbe14162",
   "metadata": {},
   "source": [
    "To delete a file, you must import the OS module, and run its os.remove() function"
   ]
  },
  {
   "cell_type": "code",
   "execution_count": 34,
   "id": "8afb3a0a",
   "metadata": {},
   "outputs": [],
   "source": [
    "import os\n",
    "os.remove('delete.txt')"
   ]
  },
  {
   "cell_type": "markdown",
   "id": "962c4266",
   "metadata": {},
   "source": [
    "check if file exist then delete if not then show msg"
   ]
  },
  {
   "cell_type": "code",
   "execution_count": 30,
   "id": "aa4e89cd",
   "metadata": {},
   "outputs": [
    {
     "name": "stdout",
     "output_type": "stream",
     "text": [
      "file doesn't exist...\n"
     ]
    }
   ],
   "source": [
    "import os\n",
    "if os.path.exists('delete.txt'):\n",
    "    os.remove('delete.txt')\n",
    "    print(\"file deleted...\")\n",
    "else:\n",
    "    print(\"file doesn't exist...\")"
   ]
  },
  {
   "cell_type": "markdown",
   "id": "e605f861",
   "metadata": {},
   "source": [
    "# delete folder"
   ]
  },
  {
   "cell_type": "code",
   "execution_count": 36,
   "id": "71cf605f",
   "metadata": {},
   "outputs": [],
   "source": [
    "import os\n",
    "os.rmdir('delete')"
   ]
  },
  {
   "cell_type": "raw",
   "id": "253d4f97",
   "metadata": {},
   "source": [
    "Note: You can only remove empty folders."
   ]
  },
  {
   "cell_type": "code",
   "execution_count": null,
   "id": "21e70c53",
   "metadata": {},
   "outputs": [],
   "source": []
  },
  {
   "cell_type": "raw",
   "id": "51e64e8f",
   "metadata": {},
   "source": [
    "python with json, mysql basic"
   ]
  }
 ],
 "metadata": {
  "kernelspec": {
   "display_name": "Python 3 (ipykernel)",
   "language": "python",
   "name": "python3"
  },
  "language_info": {
   "codemirror_mode": {
    "name": "ipython",
    "version": 3
   },
   "file_extension": ".py",
   "mimetype": "text/x-python",
   "name": "python",
   "nbconvert_exporter": "python",
   "pygments_lexer": "ipython3",
   "version": "3.9.13"
  }
 },
 "nbformat": 4,
 "nbformat_minor": 5
}
